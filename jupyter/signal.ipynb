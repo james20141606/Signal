{
 "cells": [
  {
   "cell_type": "code",
   "execution_count": 138,
   "metadata": {
    "collapsed": true
   },
   "outputs": [],
   "source": [
    "import scipy.io as sio   \n",
    "import argparse\n",
    "import numpy as np\n",
    "import pandas as pd\n",
    "import sklearn\n",
    "import scipy\n",
    "from sklearn.metrics import r2_score\n",
    "from scipy.stats.stats import pearsonr\n",
    "import pickle\n",
    "from sklearn.linear_model import LinearRegression\n",
    "import xgboost\n",
    "from xgboost.sklearn import XGBRegressor\n",
    "from sklearn.linear_model import Ridge\n",
    "from sklearn.kernel_ridge import KernelRidge\n",
    "from sklearn import neighbors\n",
    "from sklearn.ensemble import RandomForestRegressor\n",
    "from sklearn.gaussian_process import GaussianProcessRegressor\n",
    "from sklearn.gaussian_process.kernels import DotProduct\n",
    "import h5py"
   ]
  },
  {
   "cell_type": "code",
   "execution_count": 75,
   "metadata": {
    "collapsed": true
   },
   "outputs": [],
   "source": [
    "data_1 = sio.loadmat('data_paper_WSNL/1000data.mat')\n",
    "data_2 = sio.loadmat('data_paper_WSNL/TXRXLoc2000.mat')\n",
    "local = data_2['RXm'][:1000,:2]\n",
    "rss = data_1['data_db_rss']\n",
    "aoa = data_1['data_db_aoa']\n",
    "toa = data_1['data_db_toa']\n",
    "data_4 = data_1['data'][:,18:24]\n",
    "data_5 = data_1['data'][:,24:]\n",
    "data_whole = np.concatenate((rss,aoa,toa,data_4,data_5),axis =1)\n",
    "local_x = local[:,:1]\n",
    "local_y = local[:,1:]"
   ]
  },
  {
   "cell_type": "code",
   "execution_count": 113,
   "metadata": {},
   "outputs": [],
   "source": [
    "#cross validation!!\n",
    "a = np.arange(1000)\n",
    "np.random.shuffle(a)"
   ]
  },
  {
   "cell_type": "code",
   "execution_count": 124,
   "metadata": {
    "collapsed": true
   },
   "outputs": [],
   "source": [
    "test_index = {}\n",
    "for i in range(10):\n",
    "    test_index[i] = a[100*i:100*(i+1)]"
   ]
  },
  {
   "cell_type": "code",
   "execution_count": 125,
   "metadata": {},
   "outputs": [
    {
     "data": {
      "text/plain": [
       "(100, 30)"
      ]
     },
     "execution_count": 125,
     "metadata": {},
     "output_type": "execute_result"
    }
   ],
   "source": [
    "data_whole[test_index[0]].shape"
   ]
  },
  {
   "cell_type": "code",
   "execution_count": 126,
   "metadata": {},
   "outputs": [],
   "source": [
    "train_index = {}\n",
    "for i in range(10):\n",
    "    train_index[i] = np.setdiff1d(a,test_index[i])"
   ]
  },
  {
   "cell_type": "code",
   "execution_count": 132,
   "metadata": {},
   "outputs": [],
   "source": [
    "loc_x_train = {}\n",
    "loc_x_test = {}\n",
    "loc_y_train = {}\n",
    "loc_y_test = {}\n",
    "loc_train = {}\n",
    "loc_test = {}\n",
    "feature_train = {}\n",
    "feature_test = {}\n",
    "for i in range(10):\n",
    "    loc_x_train[i] = local_x[train_index[i]]\n",
    "    loc_x_test[i] = local_x[test_index[i]]\n",
    "    loc_y_train[i] = local_y[train_index[i]]\n",
    "    loc_y_test[i] = local_y[test_index[i]]\n",
    "    loc_train[i] = local[train_index[i]]\n",
    "    loc_test[i] = local[test_index[i]]\n",
    "    feature_train[i] = data_whole[train_index[i]]\n",
    "    feature_test[i] = data_whole[test_index[i]]"
   ]
  },
  {
   "cell_type": "code",
   "execution_count": 141,
   "metadata": {},
   "outputs": [],
   "source": [
    "with h5py.File('/Share/home/chenxupeng/projects/signal/data_cross') as f:\n",
    "    for i in range(10):\n",
    "        f.create_group(str(i))\n",
    "        f.create_dataset(str(i)+'/loc_x_train', data=loc_x_train[i])\n",
    "        f.create_dataset(str(i)+'/loc_x_test', data=loc_x_test[i])\n",
    "        f.create_dataset(str(i)+'/loc_y_train', data=loc_y_train[i])\n",
    "        f.create_dataset(str(i)+'/loc_y_test', data=loc_y_test[i])\n",
    "        f.create_dataset(str(i)+'/loc_train', data=loc_train[i])\n",
    "        f.create_dataset(str(i)+'/loc_test', data=loc_test[i])\n",
    "        f.create_dataset(str(i)+'/feature_train', data=feature_train[i])\n",
    "        f.create_dataset(str(i)+'/feature_test', data=feature_test[i])"
   ]
  },
  {
   "cell_type": "code",
   "execution_count": null,
   "metadata": {
    "collapsed": true
   },
   "outputs": [],
   "source": [
    "def regressor():\n",
    "    "
   ]
  },
  {
   "cell_type": "code",
   "execution_count": 77,
   "metadata": {
    "collapsed": true
   },
   "outputs": [],
   "source": [
    "reg = LinearRegression()\n",
    "reg = Ridge(alpha = 0.1)\n",
    "reg = XGBRegressor()\n",
    "kernel = 1.0 * DotProduct(sigma_0=1.0)**4\n",
    "reg = GaussianProcessRegressor(kernel = kernel)\n",
    "reg = SVR()\n",
    "reg = KernelRidge(alpha = 10**(-4), kernel = 'polynomial',degree = 3 )\n",
    "reg = RandomForestRegressor(n_estimators=10, criterion='mse', max_depth=None)"
   ]
  },
  {
   "cell_type": "code",
   "execution_count": null,
   "metadata": {
    "collapsed": true
   },
   "outputs": [],
   "source": []
  },
  {
   "cell_type": "code",
   "execution_count": 78,
   "metadata": {
    "collapsed": true
   },
   "outputs": [],
   "source": [
    "reg.fit(data_whole[:900,:],local_x[:900,:])\n",
    "reg.fit(data_whole[:900,:],local_y[:900,:])\n",
    "regpre_x = \n",
    "regpre_y = \n",
    "r2_x = r2_score(regpre_x,local_x[900:,:])\n",
    "pcc_x = pearsonr(regpre_x,local_x[900:,:])\n",
    "r2_y = r2_score(regpre_y,local_y[900:,:])\n",
    "pcc_y = pearsonr(regpre_y,local_y[900:,:])\n"
   ]
  },
  {
   "cell_type": "code",
   "execution_count": null,
   "metadata": {
    "collapsed": true
   },
   "outputs": [],
   "source": [
    "dis_x = {}\n",
    "dis_y = {}\n",
    "dis = {}\n",
    "for i in range(100):\n",
    "    dis_y[i] = regpre_y[i] - local_y[900:,:][i]\n",
    "    dis_x[i] = regpre_x[i] - local_x[900:,:][i]\n",
    "    dis[i] = (dis_x[i]**2 + dis_y[i]**2)**(0.5)\n",
    "sum = np.array([])\n",
    "for i in range(100):\n",
    "    sum = np.concatenate((sum,dis[i]))\n",
    "np.mean(abs(sum))"
   ]
  },
  {
   "cell_type": "code",
   "execution_count": 80,
   "metadata": {
    "collapsed": true
   },
   "outputs": [],
   "source": [
    "fig, ax = subplots(figsize=(5, 5))\n",
    "ax.scatter(predict, price[5:10], marker = '.', color = 'b')\n",
    "ax.set_xlim(left=0, right=2000)\n",
    "ax.set_ylim(bottom=0, top=2000)\n",
    "line1 = [(0, 0), (2000, 2000)]\n",
    "(line1_xs, line1_ys) = zip(*line1)\n",
    "ax.add_line(Line2D(line1_xs, line1_ys, linewidth=1, color='blue'))"
   ]
  },
  {
   "cell_type": "code",
   "execution_count": null,
   "metadata": {
    "collapsed": true
   },
   "outputs": [],
   "source": []
  },
  {
   "cell_type": "code",
   "execution_count": null,
   "metadata": {
    "collapsed": true
   },
   "outputs": [],
   "source": [
    "reg = SVR()"
   ]
  },
  {
   "cell_type": "code",
   "execution_count": null,
   "metadata": {
    "collapsed": true
   },
   "outputs": [],
   "source": []
  },
  {
   "cell_type": "code",
   "execution_count": null,
   "metadata": {
    "collapsed": true
   },
   "outputs": [],
   "source": []
  },
  {
   "cell_type": "code",
   "execution_count": null,
   "metadata": {
    "collapsed": true
   },
   "outputs": [],
   "source": []
  },
  {
   "cell_type": "code",
   "execution_count": null,
   "metadata": {
    "collapsed": true
   },
   "outputs": [],
   "source": []
  },
  {
   "cell_type": "code",
   "execution_count": null,
   "metadata": {
    "collapsed": true
   },
   "outputs": [],
   "source": []
  },
  {
   "cell_type": "code",
   "execution_count": null,
   "metadata": {
    "collapsed": true
   },
   "outputs": [],
   "source": []
  },
  {
   "cell_type": "code",
   "execution_count": null,
   "metadata": {
    "collapsed": true
   },
   "outputs": [],
   "source": []
  },
  {
   "cell_type": "code",
   "execution_count": null,
   "metadata": {
    "collapsed": true
   },
   "outputs": [],
   "source": []
  },
  {
   "cell_type": "code",
   "execution_count": null,
   "metadata": {
    "collapsed": true
   },
   "outputs": [],
   "source": []
  },
  {
   "cell_type": "code",
   "execution_count": null,
   "metadata": {
    "collapsed": true
   },
   "outputs": [],
   "source": []
  },
  {
   "cell_type": "code",
   "execution_count": null,
   "metadata": {
    "collapsed": true
   },
   "outputs": [],
   "source": []
  },
  {
   "cell_type": "code",
   "execution_count": null,
   "metadata": {
    "collapsed": true
   },
   "outputs": [],
   "source": []
  },
  {
   "cell_type": "code",
   "execution_count": null,
   "metadata": {
    "collapsed": true
   },
   "outputs": [],
   "source": []
  },
  {
   "cell_type": "code",
   "execution_count": null,
   "metadata": {
    "collapsed": true
   },
   "outputs": [],
   "source": []
  },
  {
   "cell_type": "code",
   "execution_count": null,
   "metadata": {
    "collapsed": true
   },
   "outputs": [],
   "source": []
  },
  {
   "cell_type": "code",
   "execution_count": null,
   "metadata": {
    "collapsed": true
   },
   "outputs": [],
   "source": []
  },
  {
   "cell_type": "code",
   "execution_count": null,
   "metadata": {
    "collapsed": true
   },
   "outputs": [],
   "source": []
  },
  {
   "cell_type": "code",
   "execution_count": null,
   "metadata": {
    "collapsed": true
   },
   "outputs": [],
   "source": []
  },
  {
   "cell_type": "code",
   "execution_count": null,
   "metadata": {
    "collapsed": true
   },
   "outputs": [],
   "source": []
  },
  {
   "cell_type": "code",
   "execution_count": null,
   "metadata": {
    "collapsed": true
   },
   "outputs": [],
   "source": []
  },
  {
   "cell_type": "code",
   "execution_count": null,
   "metadata": {
    "collapsed": true
   },
   "outputs": [],
   "source": []
  },
  {
   "cell_type": "code",
   "execution_count": null,
   "metadata": {
    "collapsed": true
   },
   "outputs": [],
   "source": []
  },
  {
   "cell_type": "code",
   "execution_count": null,
   "metadata": {
    "collapsed": true
   },
   "outputs": [],
   "source": []
  },
  {
   "cell_type": "code",
   "execution_count": null,
   "metadata": {
    "collapsed": true
   },
   "outputs": [],
   "source": []
  },
  {
   "cell_type": "code",
   "execution_count": null,
   "metadata": {
    "collapsed": true
   },
   "outputs": [],
   "source": []
  },
  {
   "cell_type": "code",
   "execution_count": null,
   "metadata": {
    "collapsed": true
   },
   "outputs": [],
   "source": []
  },
  {
   "cell_type": "code",
   "execution_count": null,
   "metadata": {
    "collapsed": true
   },
   "outputs": [],
   "source": []
  },
  {
   "cell_type": "code",
   "execution_count": null,
   "metadata": {
    "collapsed": true
   },
   "outputs": [],
   "source": []
  },
  {
   "cell_type": "code",
   "execution_count": null,
   "metadata": {
    "collapsed": true
   },
   "outputs": [],
   "source": []
  },
  {
   "cell_type": "code",
   "execution_count": null,
   "metadata": {
    "collapsed": true
   },
   "outputs": [],
   "source": []
  },
  {
   "cell_type": "code",
   "execution_count": null,
   "metadata": {
    "collapsed": true
   },
   "outputs": [],
   "source": []
  },
  {
   "cell_type": "code",
   "execution_count": null,
   "metadata": {
    "collapsed": true
   },
   "outputs": [],
   "source": []
  }
 ],
 "metadata": {
  "kernelspec": {
   "display_name": "Python 2",
   "language": "python",
   "name": "python2"
  },
  "language_info": {
   "codemirror_mode": {
    "name": "ipython",
    "version": 2
   },
   "file_extension": ".py",
   "mimetype": "text/x-python",
   "name": "python",
   "nbconvert_exporter": "python",
   "pygments_lexer": "ipython2",
   "version": "2.7.14"
  },
  "toc": {
   "base_numbering": 1,
   "nav_menu": {},
   "number_sections": true,
   "sideBar": true,
   "skip_h1_title": false,
   "title_cell": "Table of Contents",
   "title_sidebar": "Contents",
   "toc_cell": false,
   "toc_position": {},
   "toc_section_display": true,
   "toc_window_display": false
  }
 },
 "nbformat": 4,
 "nbformat_minor": 2
}
