{
 "cells": [
  {
   "cell_type": "code",
   "execution_count": 43,
   "metadata": {
    "collapsed": true
   },
   "outputs": [],
   "source": [
    "import scipy.io as sio   \n",
    "import argparse\n",
    "import numpy as np\n",
    "import pandas as pd\n",
    "import sklearn\n",
    "import scipy\n",
    "from sklearn.metrics import r2_score\n",
    "from scipy.stats.stats import pearsonr\n",
    "import pickle\n",
    "from sklearn.linear_model import LinearRegression\n",
    "import xgboost\n",
    "from xgboost.sklearn import XGBRegressor\n",
    "from sklearn.linear_model import Ridge\n",
    "from sklearn.kernel_ridge import KernelRidge\n",
    "from sklearn import neighbors\n",
    "from sklearn.ensemble import RandomForestRegressor\n",
    "from sklearn.gaussian_process import GaussianProcessRegressor\n",
    "from sklearn.gaussian_process.kernels import DotProduct\n",
    "from sklearn.gaussian_process.kernels import RBF\n",
    "from sklearn.svm import SVR\n",
    "import h5py\n",
    "import pickle"
   ]
  },
  {
   "cell_type": "code",
   "execution_count": 44,
   "metadata": {
    "collapsed": true
   },
   "outputs": [],
   "source": [
    "x_train= {}\n",
    "x_test = {}\n",
    "y_train = {}\n",
    "y_test= {}\n",
    "location_train= {}\n",
    "location_test= {}\n",
    "feature_all_train = {}\n",
    "feature_all_test= {}\n",
    "aoa_train={}\n",
    "aoa_test={}\n",
    "toa_train={}\n",
    "toa_test={}\n",
    "rss_train={}\n",
    "rss_test={}\n",
    "f = h5py.File('data_cross_250')\n",
    "for i in range(4):\n",
    "    x_train[i] = f[str(i)+'/loc_x_train'][:]\n",
    "    x_test[i] = f[str(i)+'/loc_x_test'][:]\n",
    "    y_train[i] = f[str(i)+'/loc_y_train'][:] \n",
    "    y_test[i] = f[str(i)+'/loc_y_test'][:]\n",
    "    location_train[i] = f[str(i)+'/loc_train'][:,:]\n",
    "    location_test[i] = f[str(i)+'/loc_test'][:,:]\n",
    "    feature_all_train[i] =f[str(i)+'/feature_train'][:,:]\n",
    "    feature_all_test[i] = f[str(i)+'/feature_test'][:,:]\n",
    "    aoa_train[i] =f[str(i)+'/aoa_train'][:,:]\n",
    "    aoa_test[i] = f[str(i)+'/aoa_test'][:,:]\n",
    "    toa_train[i] =f[str(i)+'/toa_train'][:,:]\n",
    "    toa_test[i] = f[str(i)+'/toa_test'][:,:]\n",
    "    rss_train[i] = f[str(i)+'/toa_train'][:,:]\n",
    "    rss_test[i] = f[str(i)+'/toa_test'][:,:]\n",
    "aoa_toa_train={}\n",
    "aoa_toa_test ={}\n",
    "aoa_toa_rss_train={}\n",
    "aoa_toa_rss_test ={}\n",
    "for i in range(4):\n",
    "    aoa_toa_train[i] = feature_all_train[i][:,6:18]\n",
    "    aoa_toa_test[i] = feature_all_test[i][:,6:18]\n",
    "    aoa_toa_rss_train[i] = feature_all_train[i][:,6:18]\n",
    "    aoa_toa_rss_test[i] = feature_all_test[i][:,6:18]"
   ]
  },
  {
   "cell_type": "code",
   "execution_count": 35,
   "metadata": {},
   "outputs": [
    {
     "ename": "LinAlgError",
     "evalue": "(\"The kernel, 1**2 * DotProduct(sigma_0=1) ** 9, is not returning a positive definite matrix. Try gradually increasing the 'alpha' parameter of your GaussianProcessRegressor estimator.\", '131-th leading minor not positive definite')",
     "output_type": "error",
     "traceback": [
      "\u001b[0;31m\u001b[0m",
      "\u001b[0;31mLinAlgError\u001b[0mTraceback (most recent call last)",
      "\u001b[0;32m<ipython-input-35-ec9e69721316>\u001b[0m in \u001b[0;36m<module>\u001b[0;34m()\u001b[0m\n\u001b[1;32m     14\u001b[0m         \u001b[0mdis_error\u001b[0m \u001b[0;34m=\u001b[0m \u001b[0;34m{\u001b[0m\u001b[0;34m}\u001b[0m\u001b[0;34m\u001b[0m\u001b[0m\n\u001b[1;32m     15\u001b[0m         \u001b[0;32mfor\u001b[0m \u001b[0mi\u001b[0m \u001b[0;32min\u001b[0m \u001b[0mrange\u001b[0m\u001b[0;34m(\u001b[0m\u001b[0;36m4\u001b[0m\u001b[0;34m)\u001b[0m\u001b[0;34m:\u001b[0m\u001b[0;34m\u001b[0m\u001b[0m\n\u001b[0;32m---> 16\u001b[0;31m             \u001b[0mreg_x\u001b[0m \u001b[0;34m=\u001b[0m \u001b[0mreg\u001b[0m\u001b[0;34m.\u001b[0m\u001b[0mfit\u001b[0m\u001b[0;34m(\u001b[0m\u001b[0mfeature_all_train\u001b[0m\u001b[0;34m[\u001b[0m\u001b[0mi\u001b[0m\u001b[0;34m]\u001b[0m\u001b[0;34m[\u001b[0m\u001b[0;34m:\u001b[0m\u001b[0;34m,\u001b[0m\u001b[0;36m7\u001b[0m\u001b[0;34m:\u001b[0m\u001b[0;36m18\u001b[0m\u001b[0;34m]\u001b[0m\u001b[0;34m,\u001b[0m\u001b[0mx_train\u001b[0m\u001b[0;34m[\u001b[0m\u001b[0mi\u001b[0m\u001b[0;34m]\u001b[0m\u001b[0;34m)\u001b[0m\u001b[0;34m\u001b[0m\u001b[0m\n\u001b[0m\u001b[1;32m     17\u001b[0m             \u001b[0mregpre_x\u001b[0m\u001b[0;34m[\u001b[0m\u001b[0mi\u001b[0m\u001b[0;34m]\u001b[0m \u001b[0;34m=\u001b[0m \u001b[0mreg_x\u001b[0m\u001b[0;34m.\u001b[0m\u001b[0mpredict\u001b[0m\u001b[0;34m(\u001b[0m\u001b[0mfeature_all_test\u001b[0m\u001b[0;34m[\u001b[0m\u001b[0mi\u001b[0m\u001b[0;34m]\u001b[0m\u001b[0;34m[\u001b[0m\u001b[0;34m:\u001b[0m\u001b[0;34m,\u001b[0m\u001b[0;36m7\u001b[0m\u001b[0;34m:\u001b[0m\u001b[0;36m18\u001b[0m\u001b[0;34m]\u001b[0m\u001b[0;34m)\u001b[0m\u001b[0;34m\u001b[0m\u001b[0m\n\u001b[1;32m     18\u001b[0m             \u001b[0mreg_y\u001b[0m \u001b[0;34m=\u001b[0m \u001b[0mreg\u001b[0m\u001b[0;34m.\u001b[0m\u001b[0mfit\u001b[0m\u001b[0;34m(\u001b[0m\u001b[0mfeature_all_train\u001b[0m\u001b[0;34m[\u001b[0m\u001b[0mi\u001b[0m\u001b[0;34m]\u001b[0m\u001b[0;34m[\u001b[0m\u001b[0;34m:\u001b[0m\u001b[0;34m,\u001b[0m\u001b[0;36m7\u001b[0m\u001b[0;34m:\u001b[0m\u001b[0;36m18\u001b[0m\u001b[0;34m]\u001b[0m\u001b[0;34m,\u001b[0m\u001b[0my_train\u001b[0m\u001b[0;34m[\u001b[0m\u001b[0mi\u001b[0m\u001b[0;34m]\u001b[0m\u001b[0;34m)\u001b[0m\u001b[0;34m\u001b[0m\u001b[0m\n",
      "\u001b[0;32m/Share/home/chenxupeng/anaconda2/lib/python2.7/site-packages/sklearn/gaussian_process/gpr.pyc\u001b[0m in \u001b[0;36mfit\u001b[0;34m(self, X, y)\u001b[0m\n\u001b[1;32m    245\u001b[0m         \u001b[0mK\u001b[0m\u001b[0;34m[\u001b[0m\u001b[0mnp\u001b[0m\u001b[0;34m.\u001b[0m\u001b[0mdiag_indices_from\u001b[0m\u001b[0;34m(\u001b[0m\u001b[0mK\u001b[0m\u001b[0;34m)\u001b[0m\u001b[0;34m]\u001b[0m \u001b[0;34m+=\u001b[0m \u001b[0mself\u001b[0m\u001b[0;34m.\u001b[0m\u001b[0malpha\u001b[0m\u001b[0;34m\u001b[0m\u001b[0m\n\u001b[1;32m    246\u001b[0m         \u001b[0;32mtry\u001b[0m\u001b[0;34m:\u001b[0m\u001b[0;34m\u001b[0m\u001b[0m\n\u001b[0;32m--> 247\u001b[0;31m             \u001b[0mself\u001b[0m\u001b[0;34m.\u001b[0m\u001b[0mL_\u001b[0m \u001b[0;34m=\u001b[0m \u001b[0mcholesky\u001b[0m\u001b[0;34m(\u001b[0m\u001b[0mK\u001b[0m\u001b[0;34m,\u001b[0m \u001b[0mlower\u001b[0m\u001b[0;34m=\u001b[0m\u001b[0mTrue\u001b[0m\u001b[0;34m)\u001b[0m  \u001b[0;31m# Line 2\u001b[0m\u001b[0;34m\u001b[0m\u001b[0m\n\u001b[0m\u001b[1;32m    248\u001b[0m         \u001b[0;32mexcept\u001b[0m \u001b[0mnp\u001b[0m\u001b[0;34m.\u001b[0m\u001b[0mlinalg\u001b[0m\u001b[0;34m.\u001b[0m\u001b[0mLinAlgError\u001b[0m \u001b[0;32mas\u001b[0m \u001b[0mexc\u001b[0m\u001b[0;34m:\u001b[0m\u001b[0;34m\u001b[0m\u001b[0m\n\u001b[1;32m    249\u001b[0m             exc.args = (\"The kernel, %s, is not returning a \"\n",
      "\u001b[0;32m/Share/home/chenxupeng/anaconda2/lib/python2.7/site-packages/scipy/linalg/decomp_cholesky.pyc\u001b[0m in \u001b[0;36mcholesky\u001b[0;34m(a, lower, overwrite_a, check_finite)\u001b[0m\n\u001b[1;32m     79\u001b[0m     \"\"\"\n\u001b[1;32m     80\u001b[0m     c, lower = _cholesky(a, lower=lower, overwrite_a=overwrite_a, clean=True,\n\u001b[0;32m---> 81\u001b[0;31m                             check_finite=check_finite)\n\u001b[0m\u001b[1;32m     82\u001b[0m     \u001b[0;32mreturn\u001b[0m \u001b[0mc\u001b[0m\u001b[0;34m\u001b[0m\u001b[0m\n\u001b[1;32m     83\u001b[0m \u001b[0;34m\u001b[0m\u001b[0m\n",
      "\u001b[0;32m/Share/home/chenxupeng/anaconda2/lib/python2.7/site-packages/scipy/linalg/decomp_cholesky.pyc\u001b[0m in \u001b[0;36m_cholesky\u001b[0;34m(a, lower, overwrite_a, clean, check_finite)\u001b[0m\n\u001b[1;32m     28\u001b[0m     \u001b[0mc\u001b[0m\u001b[0;34m,\u001b[0m \u001b[0minfo\u001b[0m \u001b[0;34m=\u001b[0m \u001b[0mpotrf\u001b[0m\u001b[0;34m(\u001b[0m\u001b[0ma1\u001b[0m\u001b[0;34m,\u001b[0m \u001b[0mlower\u001b[0m\u001b[0;34m=\u001b[0m\u001b[0mlower\u001b[0m\u001b[0;34m,\u001b[0m \u001b[0moverwrite_a\u001b[0m\u001b[0;34m=\u001b[0m\u001b[0moverwrite_a\u001b[0m\u001b[0;34m,\u001b[0m \u001b[0mclean\u001b[0m\u001b[0;34m=\u001b[0m\u001b[0mclean\u001b[0m\u001b[0;34m)\u001b[0m\u001b[0;34m\u001b[0m\u001b[0m\n\u001b[1;32m     29\u001b[0m     \u001b[0;32mif\u001b[0m \u001b[0minfo\u001b[0m \u001b[0;34m>\u001b[0m \u001b[0;36m0\u001b[0m\u001b[0;34m:\u001b[0m\u001b[0;34m\u001b[0m\u001b[0m\n\u001b[0;32m---> 30\u001b[0;31m         \u001b[0;32mraise\u001b[0m \u001b[0mLinAlgError\u001b[0m\u001b[0;34m(\u001b[0m\u001b[0;34m\"%d-th leading minor not positive definite\"\u001b[0m \u001b[0;34m%\u001b[0m \u001b[0minfo\u001b[0m\u001b[0;34m)\u001b[0m\u001b[0;34m\u001b[0m\u001b[0m\n\u001b[0m\u001b[1;32m     31\u001b[0m     \u001b[0;32mif\u001b[0m \u001b[0minfo\u001b[0m \u001b[0;34m<\u001b[0m \u001b[0;36m0\u001b[0m\u001b[0;34m:\u001b[0m\u001b[0;34m\u001b[0m\u001b[0m\n\u001b[1;32m     32\u001b[0m         raise ValueError('illegal value in %d-th argument of internal potrf'\n",
      "\u001b[0;31mLinAlgError\u001b[0m: (\"The kernel, 1**2 * DotProduct(sigma_0=1) ** 9, is not returning a positive definite matrix. Try gradually increasing the 'alpha' parameter of your GaussianProcessRegressor estimator.\", '131-th leading minor not positive definite')"
     ]
    }
   ],
   "source": [
    "\n",
    "average_dis_error = {}\n",
    "for k in range(10):\n",
    "    average_dis_error[k] = {}\n",
    "    for m in range(10):\n",
    "        kernel = 1.0 * DotProduct(sigma_0=k)**m\n",
    "        reg = GaussianProcessRegressor(kernel = kernel, optimizer=None)\n",
    "        regpre_x ={}\n",
    "        regpre_y = {}\n",
    "        r2_x = {}\n",
    "        r2_y = {}\n",
    "        pcc_x = {}\n",
    "        pcc_y= {}\n",
    "        dis_error = {}\n",
    "        for i in range(4):   \n",
    "            reg_x = reg.fit(feature_all_train[i][:,7:18],x_train[i])\n",
    "            regpre_x[i] = reg_x.predict(feature_all_test[i][:,7:18])\n",
    "            reg_y = reg.fit(feature_all_train[i][:,7:18],y_train[i])\n",
    "            regpre_y[i] = reg_y.predict(feature_all_test[i][:,7:18])\n",
    "\n",
    "     \n",
    "            r2_x[i] = r2_score(regpre_x[i],x_test[i])\n",
    "            pcc_x[i] = pearsonr(regpre_x[i],x_test[i])\n",
    "            r2_y[i] = r2_score(regpre_y[i],y_test[i])\n",
    "            pcc_y[i] = pearsonr(regpre_y[i],y_test[i])\n",
    "    \n",
    "\n",
    "            dis_x = {}\n",
    "            dis_y = {}\n",
    "            dis = {}\n",
    "            for j in range(50):\n",
    "                dis_y[j] = regpre_y[i][j] - y_test[i][j]\n",
    "                dis_x[j] = regpre_x[i][j] - x_test[i][j]\n",
    "                dis[j] = (dis_x[j]**2 + dis_y[j]**2)**(0.5)\n",
    "            sum = np.array([])\n",
    "            for j in range(50):\n",
    "                sum = np.concatenate((sum,dis[j]))\n",
    "            dis_error[i] = np.mean(abs(sum))\n",
    "        sum = 0 \n",
    "        for i in range(4):\n",
    "            sum = sum+dis_error[i]\n",
    "        average_dis_error[k][m] = sum/4.0"
   ]
  },
  {
   "cell_type": "code",
   "execution_count": 34,
   "metadata": {},
   "outputs": [
    {
     "data": {
      "text/plain": [
       "{0: {0: 506.524844128609}}"
      ]
     },
     "execution_count": 34,
     "metadata": {},
     "output_type": "execute_result"
    }
   ],
   "source": [
    "average_dis_error"
   ]
  },
  {
   "cell_type": "code",
   "execution_count": 69,
   "metadata": {},
   "outputs": [],
   "source": [
    "average_dis_error = {}\n",
    "for k in range(1):\n",
    "    average_dis_error[k] = {}\n",
    "    for m in range(300,301):\n",
    "        kernel = (m/10.0)*RBF(length_scale=2.8, length_scale_bounds=(10.0**(-m), 10.0**m))\n",
    "        reg = GaussianProcessRegressor(kernel = kernel,alpha = 10**(-4.4), optimizer=None)\n",
    "        regpre_x ={}\n",
    "        regpre_y = {}\n",
    "        r2_x = {}\n",
    "        r2_y = {}\n",
    "        pcc_x = {}\n",
    "        pcc_y= {}\n",
    "        dis_error = {}\n",
    "        for i in range(4):   \n",
    "            reg_x = reg.fit(feature_all_train[i][:,7:18],x_train[i])\n",
    "            regpre_x[i] = reg_x.predict(feature_all_test[i][:,7:18])\n",
    "            reg_y = reg.fit(feature_all_train[i][:,7:18],y_train[i])\n",
    "            regpre_y[i] = reg_y.predict(feature_all_test[i][:,7:18])\n",
    "\n",
    "     \n",
    "            r2_x[i] = r2_score(regpre_x[i],x_test[i])\n",
    "            pcc_x[i] = pearsonr(regpre_x[i],x_test[i])\n",
    "            r2_y[i] = r2_score(regpre_y[i],y_test[i])\n",
    "            pcc_y[i] = pearsonr(regpre_y[i],y_test[i])\n",
    "    \n",
    "\n",
    "            dis_x = {}\n",
    "            dis_y = {}\n",
    "            dis = {}\n",
    "            for j in range(50):\n",
    "                dis_y[j] = regpre_y[i][j] - y_test[i][j]\n",
    "                dis_x[j] = regpre_x[i][j] - x_test[i][j]\n",
    "                dis[j] = (dis_x[j]**2 + dis_y[j]**2)**(0.5)\n",
    "            sum = np.array([])\n",
    "            for j in range(50):\n",
    "                sum = np.concatenate((sum,dis[j]))\n",
    "            dis_error[i] = np.mean(abs(sum))\n",
    "        sum = 0 \n",
    "        for i in range(4):\n",
    "            sum = sum+dis_error[i]\n",
    "        average_dis_error[k][m] = sum/4.0"
   ]
  },
  {
   "cell_type": "code",
   "execution_count": 70,
   "metadata": {
    "collapsed": true
   },
   "outputs": [],
   "source": [
    "kr_error_table = pd.DataFrame.from_dict({(i): average_dis_error[i]\n",
    "                           for i in average_dis_error.keys() \n",
    "                          },\n",
    "                       orient='index')"
   ]
  },
  {
   "cell_type": "code",
   "execution_count": 71,
   "metadata": {},
   "outputs": [
    {
     "data": {
      "text/plain": [
       "array([[ 140.31498605]])"
      ]
     },
     "execution_count": 71,
     "metadata": {},
     "output_type": "execute_result"
    }
   ],
   "source": [
    "np.asarray(kr_error_table)"
   ]
  },
  {
   "cell_type": "code",
   "execution_count": 72,
   "metadata": {},
   "outputs": [
    {
     "data": {
      "text/html": [
       "<div>\n",
       "<style>\n",
       "    .dataframe thead tr:only-child th {\n",
       "        text-align: right;\n",
       "    }\n",
       "\n",
       "    .dataframe thead th {\n",
       "        text-align: left;\n",
       "    }\n",
       "\n",
       "    .dataframe tbody tr th {\n",
       "        vertical-align: top;\n",
       "    }\n",
       "</style>\n",
       "<table border=\"1\" class=\"dataframe\">\n",
       "  <thead>\n",
       "    <tr style=\"text-align: right;\">\n",
       "      <th></th>\n",
       "      <th>300</th>\n",
       "    </tr>\n",
       "  </thead>\n",
       "  <tbody>\n",
       "    <tr>\n",
       "      <th>0</th>\n",
       "      <td>140.314986</td>\n",
       "    </tr>\n",
       "  </tbody>\n",
       "</table>\n",
       "</div>"
      ],
      "text/plain": [
       "          300\n",
       "0  140.314986"
      ]
     },
     "execution_count": 72,
     "metadata": {},
     "output_type": "execute_result"
    }
   ],
   "source": [
    "kr_error_table"
   ]
  },
  {
   "cell_type": "code",
   "execution_count": null,
   "metadata": {
    "collapsed": true
   },
   "outputs": [],
   "source": []
  },
  {
   "cell_type": "code",
   "execution_count": 7,
   "metadata": {},
   "outputs": [
    {
     "data": {
      "text/plain": [
       "171.5718193409021"
      ]
     },
     "execution_count": 7,
     "metadata": {},
     "output_type": "execute_result"
    }
   ],
   "source": [
    "kernel = RBF(length_scale=2.8, length_scale_bounds=(1e-05, 100000.0))\n",
    "reg = GaussianProcessRegressor(kernel = kernel,alpha = 10**(-4.4), optimizer=None)\n",
    "regpre_x ={}\n",
    "regpre_y = {}\n",
    "r2_x = {}\n",
    "r2_y = {}\n",
    "pcc_x = {}\n",
    "pcc_y= {}\n",
    "dis_error = {}\n",
    "for i in range(4):   \n",
    "    reg_x = reg.fit(feature_all_train[i][:,7:18],x_train[i])\n",
    "    regpre_x[i] = reg_x.predict(feature_all_test[i][:,7:18])\n",
    "    reg_y = reg.fit(feature_all_train[i][:,7:18],y_train[i])\n",
    "    regpre_y[i] = reg_y.predict(feature_all_test[i][:,7:18])\n",
    "\n",
    "     \n",
    "    r2_x[i] = r2_score(regpre_x[i],x_test[i])\n",
    "    pcc_x[i] = pearsonr(regpre_x[i],x_test[i])\n",
    "    r2_y[i] = r2_score(regpre_y[i],y_test[i])\n",
    "    pcc_y[i] = pearsonr(regpre_y[i],y_test[i])\n",
    "    \n",
    "\n",
    "    dis_x = {}\n",
    "    dis_y = {}\n",
    "    dis = {}\n",
    "    for j in range(50):\n",
    "        dis_y[j] = regpre_y[i][j] - y_test[i][j]\n",
    "        dis_x[j] = regpre_x[i][j] - x_test[i][j]\n",
    "        dis[j] = (dis_x[j]**2 + dis_y[j]**2)**(0.5)\n",
    "    sum = np.array([])\n",
    "    for j in range(50):\n",
    "        sum = np.concatenate((sum,dis[j]))\n",
    "    dis_error[i] = np.mean(abs(sum))\n",
    "sum = 0 \n",
    "for i in range(4):\n",
    "    sum = sum+dis_error[i]\n",
    "average_dis_error = sum/4.0\n",
    "average_dis_error"
   ]
  },
  {
   "cell_type": "code",
   "execution_count": null,
   "metadata": {
    "collapsed": true
   },
   "outputs": [],
   "source": [
    "length_scale=2.8  alpha = 10**(-4.4)  1*RBF   length_scale_bounds=(1e-05, 100000.0)"
   ]
  },
  {
   "cell_type": "code",
   "execution_count": 80,
   "metadata": {},
   "outputs": [
    {
     "ename": "ImportError",
     "evalue": "cannot import name transformations",
     "output_type": "error",
     "traceback": [
      "\u001b[0;31m\u001b[0m",
      "\u001b[0;31mImportError\u001b[0mTraceback (most recent call last)",
      "\u001b[0;32m<ipython-input-80-c6d42d62ab4a>\u001b[0m in \u001b[0;36m<module>\u001b[0;34m()\u001b[0m\n\u001b[0;32m----> 1\u001b[0;31m \u001b[0;32mimport\u001b[0m \u001b[0mGPy\u001b[0m\u001b[0;34m\u001b[0m\u001b[0m\n\u001b[0m",
      "\u001b[0;32m/Share/home/chenxupeng/anaconda2/lib/python2.7/site-packages/GPy/__init__.py\u001b[0m in \u001b[0;36m<module>\u001b[0;34m()\u001b[0m\n\u001b[1;32m      4\u001b[0m \u001b[0mwarnings\u001b[0m\u001b[0;34m.\u001b[0m\u001b[0mfilterwarnings\u001b[0m\u001b[0;34m(\u001b[0m\u001b[0;34m\"ignore\"\u001b[0m\u001b[0;34m,\u001b[0m \u001b[0mcategory\u001b[0m\u001b[0;34m=\u001b[0m\u001b[0mDeprecationWarning\u001b[0m\u001b[0;34m)\u001b[0m\u001b[0;34m\u001b[0m\u001b[0m\n\u001b[1;32m      5\u001b[0m \u001b[0;34m\u001b[0m\u001b[0m\n\u001b[0;32m----> 6\u001b[0;31m \u001b[0;32mfrom\u001b[0m \u001b[0;34m.\u001b[0m \u001b[0;32mimport\u001b[0m \u001b[0mcore\u001b[0m\u001b[0;34m\u001b[0m\u001b[0m\n\u001b[0m\u001b[1;32m      7\u001b[0m \u001b[0;32mfrom\u001b[0m \u001b[0;34m.\u001b[0m \u001b[0;32mimport\u001b[0m \u001b[0mmodels\u001b[0m\u001b[0;34m\u001b[0m\u001b[0m\n\u001b[1;32m      8\u001b[0m \u001b[0;32mfrom\u001b[0m \u001b[0;34m.\u001b[0m \u001b[0;32mimport\u001b[0m \u001b[0mmappings\u001b[0m\u001b[0;34m\u001b[0m\u001b[0m\n",
      "\u001b[0;32m/Share/home/chenxupeng/anaconda2/lib/python2.7/site-packages/GPy/core/__init__.py\u001b[0m in \u001b[0;36m<module>\u001b[0;34m()\u001b[0m\n\u001b[1;32m      2\u001b[0m \u001b[0;31m# Licensed under the BSD 3-clause license (see LICENSE.txt)\u001b[0m\u001b[0;34m\u001b[0m\u001b[0;34m\u001b[0m\u001b[0m\n\u001b[1;32m      3\u001b[0m \u001b[0;34m\u001b[0m\u001b[0m\n\u001b[0;32m----> 4\u001b[0;31m \u001b[0;32mfrom\u001b[0m \u001b[0mGPy\u001b[0m\u001b[0;34m.\u001b[0m\u001b[0mcore\u001b[0m\u001b[0;34m.\u001b[0m\u001b[0mmodel\u001b[0m \u001b[0;32mimport\u001b[0m \u001b[0mModel\u001b[0m\u001b[0;34m\u001b[0m\u001b[0m\n\u001b[0m\u001b[1;32m      5\u001b[0m \u001b[0;32mfrom\u001b[0m \u001b[0;34m.\u001b[0m\u001b[0mparameterization\u001b[0m \u001b[0;32mimport\u001b[0m \u001b[0mParam\u001b[0m\u001b[0;34m,\u001b[0m \u001b[0mParameterized\u001b[0m\u001b[0;34m\u001b[0m\u001b[0m\n\u001b[1;32m      6\u001b[0m \u001b[0;32mfrom\u001b[0m \u001b[0;34m.\u001b[0m \u001b[0;32mimport\u001b[0m \u001b[0mparameterization\u001b[0m\u001b[0;34m\u001b[0m\u001b[0m\n",
      "\u001b[0;32m/Share/home/chenxupeng/anaconda2/lib/python2.7/site-packages/GPy/core/model.py\u001b[0m in \u001b[0;36m<module>\u001b[0;34m()\u001b[0m\n\u001b[1;32m      1\u001b[0m \u001b[0;31m# Copyright (c) 2012-2014, GPy authors (see AUTHORS.txt).\u001b[0m\u001b[0;34m\u001b[0m\u001b[0;34m\u001b[0m\u001b[0m\n\u001b[1;32m      2\u001b[0m \u001b[0;31m# Licensed under the BSD 3-clause license (see LICENSE.txt)\u001b[0m\u001b[0;34m\u001b[0m\u001b[0;34m\u001b[0m\u001b[0m\n\u001b[0;32m----> 3\u001b[0;31m \u001b[0;32mfrom\u001b[0m \u001b[0;34m.\u001b[0m\u001b[0mparameterization\u001b[0m\u001b[0;34m.\u001b[0m\u001b[0mpriorizable\u001b[0m \u001b[0;32mimport\u001b[0m \u001b[0mPriorizable\u001b[0m\u001b[0;34m\u001b[0m\u001b[0m\n\u001b[0m\u001b[1;32m      4\u001b[0m \u001b[0;32mfrom\u001b[0m \u001b[0mparamz\u001b[0m \u001b[0;32mimport\u001b[0m \u001b[0mModel\u001b[0m \u001b[0;32mas\u001b[0m \u001b[0mParamzModel\u001b[0m\u001b[0;34m\u001b[0m\u001b[0m\n\u001b[1;32m      5\u001b[0m \u001b[0;34m\u001b[0m\u001b[0m\n",
      "\u001b[0;32m/Share/home/chenxupeng/anaconda2/lib/python2.7/site-packages/GPy/core/parameterization/__init__.py\u001b[0m in \u001b[0;36m<module>\u001b[0;34m()\u001b[0m\n\u001b[1;32m      4\u001b[0m \u001b[0;32mfrom\u001b[0m \u001b[0;34m.\u001b[0m\u001b[0mparam\u001b[0m \u001b[0;32mimport\u001b[0m \u001b[0mParam\u001b[0m\u001b[0;34m\u001b[0m\u001b[0m\n\u001b[1;32m      5\u001b[0m \u001b[0;32mfrom\u001b[0m \u001b[0;34m.\u001b[0m\u001b[0mparameterized\u001b[0m \u001b[0;32mimport\u001b[0m \u001b[0mParameterized\u001b[0m\u001b[0;34m\u001b[0m\u001b[0m\n\u001b[0;32m----> 6\u001b[0;31m \u001b[0;32mfrom\u001b[0m \u001b[0;34m.\u001b[0m \u001b[0;32mimport\u001b[0m \u001b[0mtransformations\u001b[0m\u001b[0;34m\u001b[0m\u001b[0m\n\u001b[0m\u001b[1;32m      7\u001b[0m \u001b[0;34m\u001b[0m\u001b[0m\n\u001b[1;32m      8\u001b[0m \u001b[0;32mfrom\u001b[0m \u001b[0mparamz\u001b[0m\u001b[0;34m.\u001b[0m\u001b[0mcore\u001b[0m \u001b[0;32mimport\u001b[0m \u001b[0mlists_and_dicts\u001b[0m\u001b[0;34m,\u001b[0m \u001b[0mindex_operations\u001b[0m\u001b[0;34m,\u001b[0m \u001b[0mobservable_array\u001b[0m\u001b[0;34m,\u001b[0m \u001b[0mobservable\u001b[0m\u001b[0;34m\u001b[0m\u001b[0m\n",
      "\u001b[0;31mImportError\u001b[0m: cannot import name transformations"
     ]
    }
   ],
   "source": [
    "import GPy"
   ]
  },
  {
   "cell_type": "code",
   "execution_count": null,
   "metadata": {
    "collapsed": true
   },
   "outputs": [],
   "source": []
  }
 ],
 "metadata": {
  "kernelspec": {
   "display_name": "Python [default]",
   "language": "python",
   "name": "python2"
  },
  "language_info": {
   "codemirror_mode": {
    "name": "ipython",
    "version": 2
   },
   "file_extension": ".py",
   "mimetype": "text/x-python",
   "name": "python",
   "nbconvert_exporter": "python",
   "pygments_lexer": "ipython2",
   "version": "2.7.13"
  }
 },
 "nbformat": 4,
 "nbformat_minor": 2
}
