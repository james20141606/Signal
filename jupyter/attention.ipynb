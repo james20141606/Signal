{
 "cells": [
  {
   "cell_type": "markdown",
   "metadata": {},
   "source": [
    "try to give different features different importance\n",
    "\n",
    "problems to solve:\n",
    "- implement attention and self attention\n",
    "- combined with MDN/ or without MDN, only MLP combined with attention!\n",
    "- fix the input features dimension?\n",
    "- some feature may contain NaN, assign it a value but fix the attention under a threshold\n",
    "- [maxout](https://github.com/Duncanswilson/maxout-pytorch/blob/master/maxout_pytorch.ipynb)\n",
    "- [ptrnetwork](https://github.com/uhauha2929/examples/blob/master/PtrNet.ipynb)"
   ]
  },
  {
   "cell_type": "code",
   "execution_count": 3,
   "metadata": {},
   "outputs": [
    {
     "name": "stdout",
     "output_type": "stream",
     "text": [
      "Populating the interactive namespace from numpy and matplotlib\n"
     ]
    }
   ],
   "source": [
    "import gc, argparse, sys, os, errno\n",
    "%pylab inline\n",
    "import numpy as np\n",
    "import pandas as pd\n",
    "import matplotlib.pyplot as plt\n",
    "import seaborn as sns\n",
    "sns.set()\n",
    "sns.set_style('whitegrid')\n",
    "import h5py\n",
    "import os\n",
    "from tqdm import tqdm_notebook as tqdm\n",
    "import scipy\n",
    "import sklearn\n",
    "from scipy.stats import pearsonr\n",
    "import warnings\n",
    "warnings.filterwarnings('ignore')"
   ]
  },
  {
   "cell_type": "code",
   "execution_count": 4,
   "metadata": {},
   "outputs": [],
   "source": [
    "import torch\n",
    "import math\n",
    "import torch.nn as nn\n",
    "import torch.nn.functional as F"
   ]
  },
  {
   "cell_type": "code",
   "execution_count": null,
   "metadata": {},
   "outputs": [],
   "source": []
  },
  {
   "cell_type": "code",
   "execution_count": null,
   "metadata": {},
   "outputs": [],
   "source": []
  },
  {
   "cell_type": "code",
   "execution_count": null,
   "metadata": {},
   "outputs": [],
   "source": []
  },
  {
   "cell_type": "code",
   "execution_count": null,
   "metadata": {},
   "outputs": [],
   "source": []
  },
  {
   "cell_type": "markdown",
   "metadata": {},
   "source": [
    "## self attention"
   ]
  },
  {
   "cell_type": "code",
   "execution_count": 5,
   "metadata": {},
   "outputs": [],
   "source": [
    "class SelfAttention(nn.Module):\n",
    "    def __init__(self, hidden_dim):\n",
    "        super().__init__()\n",
    "        self.hidden_dim = hidden_dim\n",
    "        self.projection = nn.Sequential(\n",
    "            nn.Linear(hidden_dim, 64),\n",
    "            nn.ReLU(True),\n",
    "            nn.Linear(64, 1)\n",
    "        )\n",
    "\n",
    "    def forward(self, encoder_outputs):\n",
    "        # (B, L, H) -> (B , L, 1)\n",
    "        energy = self.projection(encoder_outputs)\n",
    "        weights = F.softmax(energy.squeeze(-1), dim=1)\n",
    "        # (B, L, H) * (B, L, 1) -> (B, H)\n",
    "        outputs = (encoder_outputs * weights.unsqueeze(-1)).sum(dim=1)\n",
    "        return outputs, weights\n",
    "\n",
    "class AttnClassifier(nn.Module):\n",
    "    def __init__(self, input_dim, embedding_dim, hidden_dim):\n",
    "        super().__init__()\n",
    "        self.input_dim = input_dim\n",
    "        self.embedding_dim = embedding_dim\n",
    "        self.hidden_dim = hidden_dim\n",
    "        self.embedding = nn.Embedding(input_dim, embedding_dim)\n",
    "        self.lstm = nn.LSTM(embedding_dim, hidden_dim, bidirectional=True)\n",
    "        self.attention = SelfAttention(hidden_dim)\n",
    "        self.fc = nn.Linear(hidden_dim, 1)\n",
    "\n",
    "    def set_embedding(self, vectors):\n",
    "        self.embedding.weight.data.copy_(vectors)\n",
    "\n",
    "    def forward(self, inputs, lengths):\n",
    "        batch_size = inputs.size(1)\n",
    "        # (L, B)\n",
    "        embedded = self.embedding(inputs)\n",
    "        # (L, B, E)\n",
    "        packed_emb = nn.utils.rnn.pack_padded_sequence(embedded, lengths)\n",
    "        out, hidden = self.lstm(packed_emb)\n",
    "        out = nn.utils.rnn.pad_packed_sequence(out)[0]\n",
    "        out = out[:, :, :self.hidden_dim] + out[:, :, self.hidden_dim:]\n",
    "        # (L, B, H)\n",
    "        embedding, attn_weights = self.attention(out.transpose(0, 1))\n",
    "        # (B, HOP, H)\n",
    "        outputs = self.fc(embedding.view(batch_size, -1))\n",
    "        # (B, 1)\n",
    "        return outputs, attn_weights"
   ]
  },
  {
   "cell_type": "code",
   "execution_count": 7,
   "metadata": {},
   "outputs": [],
   "source": [
    "from torchtext import data\n",
    "from torchtext import datasets\n",
    "from torchtext.vocab import GloVe\n",
    "import torch.nn as nn\n",
    "import torch.optim as optim\n",
    "import torch.nn.functional as F\n",
    "import torch\n",
    "from tqdm import tqdm"
   ]
  },
  {
   "cell_type": "code",
   "execution_count": 8,
   "metadata": {},
   "outputs": [],
   "source": [
    "device = torch.device('cuda' if torch.cuda.is_available() else 'cpu')\n",
    "batch_size = 64\n",
    "embedding_dim = 200\n",
    "hidden_dim = 200\n",
    "epochs = 5"
   ]
  },
  {
   "cell_type": "code",
   "execution_count": 10,
   "metadata": {},
   "outputs": [
    {
     "name": "stdout",
     "output_type": "stream",
     "text": [
      "downloading aclImdb_v1.tar.gz\n"
     ]
    },
    {
     "name": "stderr",
     "output_type": "stream",
     "text": [
      ".vector_cache/glove.6B.zip: 862MB [04:22, 3.28MB/s]                               \n",
      "100%|██████████| 400000/400000 [00:22<00:00, 17552.61it/s]\n"
     ]
    }
   ],
   "source": [
    "# define Field\n",
    "TEXT = data.Field(lower=True, include_lengths=True)\n",
    "LABEL = data.Field(sequential=False)\n",
    "# make splits for data\n",
    "train, test = datasets.IMDB.splits(TEXT, LABEL)\n",
    "# build the vocabulary\n",
    "TEXT.build_vocab(train, vectors=GloVe(name='6B', dim=embedding_dim))\n",
    "LABEL.build_vocab(train)\n",
    "\n",
    "train_iter, test_iter = data.BucketIterator.splits(\n",
    "        (train, test), sort_key=lambda x:len(x.text),\n",
    "        sort_within_batch=True, \n",
    "        batch_size=batch_size, device=device,\n",
    "        repeat=False)"
   ]
  },
  {
   "cell_type": "code",
   "execution_count": 11,
   "metadata": {},
   "outputs": [],
   "source": [
    "def train(train_iter, model, optimizer, criterion):\n",
    "    model.train()\n",
    "    epoch_loss = 0\n",
    "    bar = tqdm(total=len(train_iter))\n",
    "    b_ix = 1\n",
    "    for batch in train_iter:\n",
    "        (x, x_l), y = batch.text, batch.label - 1\n",
    "        optimizer.zero_grad()\n",
    "        outputs, _ = model(x, x_l)\n",
    "        loss = criterion(outputs.view(-1), y.float())\n",
    "        loss.backward()\n",
    "        optimizer.step()\n",
    "        epoch_loss += loss.item()\n",
    "        if b_ix % 10 == 0:\n",
    "            bar.update(10)\n",
    "            bar.set_description('current loss:{:.4f}'.format(epoch_loss / b_ix))\n",
    "        b_ix += 1\n",
    "    bar.update((b_ix - 1) % 10)\n",
    "    bar.close()\n",
    "    return epoch_loss / len(train_iter)"
   ]
  },
  {
   "cell_type": "code",
   "execution_count": 12,
   "metadata": {},
   "outputs": [
    {
     "name": "stderr",
     "output_type": "stream",
     "text": [
      "current loss:0.3877: 100%|██████████| 391/391 [00:21<00:00, 18.49it/s]\n",
      "current loss:0.1423: 100%|██████████| 391/391 [00:20<00:00, 18.66it/s]\n",
      "current loss:0.0147: 100%|██████████| 391/391 [00:21<00:00, 18.57it/s]\n",
      "current loss:0.0021: 100%|██████████| 391/391 [00:21<00:00, 18.53it/s]\n",
      "current loss:0.0004: 100%|██████████| 391/391 [00:21<00:00, 18.48it/s]\n"
     ]
    }
   ],
   "source": [
    "model = AttnClassifier(len(TEXT.vocab), embedding_dim, hidden_dim).to(device)\n",
    "model.set_embedding(TEXT.vocab.vectors)\n",
    "# optim\n",
    "optimizer = optim.Adam(model.parameters())\n",
    "criterion = nn.BCEWithLogitsLoss().to(device)\n",
    "# train model \n",
    "for epoch in range(epochs):\n",
    "    train(train_iter, model, optimizer, criterion)"
   ]
  },
  {
   "cell_type": "code",
   "execution_count": 13,
   "metadata": {},
   "outputs": [],
   "source": [
    "def binary_accuracy(preds, y):\n",
    "    # round predictions to the closest integer\n",
    "    rounded_preds = torch.round(F.sigmoid(preds))\n",
    "    correct = (rounded_preds == y).float()  # convert into float for division\n",
    "    acc = correct.sum() / len(correct)\n",
    "    return acc\n",
    "\n",
    "def accuracy(model, test_iter):\n",
    "    model.eval()\n",
    "    total_acc = 0\n",
    "    for batch in test_iter:\n",
    "        (x, x_l), y = batch.text, batch.label - 1\n",
    "        outputs,_ = model(x, x_l)\n",
    "        total_acc += binary_accuracy(outputs.view(-1), y.float()).item()\n",
    "    return total_acc / len(test_iter)"
   ]
  },
  {
   "cell_type": "code",
   "execution_count": 14,
   "metadata": {},
   "outputs": [
    {
     "name": "stdout",
     "output_type": "stream",
     "text": [
      "0.867814897728698\n"
     ]
    }
   ],
   "source": [
    "print(accuracy(model, test_iter))"
   ]
  },
  {
   "cell_type": "code",
   "execution_count": 15,
   "metadata": {},
   "outputs": [],
   "source": [
    "def highlight(word, attn):\n",
    "    html_color = '#%02X%02X%02X' % (255, int(255*(1 - attn)), int(255*(1 - attn)))\n",
    "    return '<span style=\"background-color: {}\">{}</span>'.format(html_color, word)\n",
    "\n",
    "def mk_html(seq, attns):\n",
    "    html = \"\"\n",
    "    for ix, attn in zip(seq, attns):\n",
    "        html += ' ' + highlight(\n",
    "            TEXT.vocab.itos[ix],\n",
    "            attn\n",
    "        )\n",
    "    return html + \"<br><br>\\n\""
   ]
  },
  {
   "cell_type": "code",
   "execution_count": 16,
   "metadata": {},
   "outputs": [
    {
     "data": {
      "text/html": [
       " <span style=\"background-color: #FFFCFC\">a</span> <span style=\"background-color: #FFF4F4\">really</span> <span style=\"background-color: #FFF3F3\">realistic,</span> <span style=\"background-color: #FFE6E6\">sensible</span> <span style=\"background-color: #FFF0F0\">movie</span> <span style=\"background-color: #FFF9F9\">by</span> <span style=\"background-color: #FFE3E3\">ramgopal</span> <span style=\"background-color: #FFF8F8\">verma</span> <span style=\"background-color: #FFFDFD\">.</span> <span style=\"background-color: #FFFEFE\">no</span> <span style=\"background-color: #FFF4F4\">stupidity</span> <span style=\"background-color: #FFFEFE\">like</span> <span style=\"background-color: #FFFEFE\">songs</span> <span style=\"background-color: #FFFEFE\">as</span> <span style=\"background-color: #FFFEFE\">in</span> <span style=\"background-color: #FFFEFE\">other</span> <span style=\"background-color: #FFFDFD\">hindi</span> <span style=\"background-color: #FFFCFC\">movies.</span> <span style=\"background-color: #FFFDFD\">class</span> <span style=\"background-color: #FFFCFC\">acting</span> <span style=\"background-color: #FFFCFC\">by</span> <span style=\"background-color: #FFECEC\">nana</span> <span style=\"background-color: #FFEEEE\">patekar.</span> <span style=\"background-color: #FFE6E6\"><br</span> <span style=\"background-color: #FFD9D9\">/><br</span> <span style=\"background-color: #FFEEEE\">/>much</span> <span style=\"background-color: #FFF5F5\">similarities</span> <span style=\"background-color: #FFFEFE\">to</span> <span style=\"background-color: #FFFDFD\">real</span> <span style=\"background-color: #FFFBFB\"><unk></span><br><br>\n"
      ],
      "text/plain": [
       "<IPython.core.display.HTML object>"
      ]
     },
     "metadata": {},
     "output_type": "display_data"
    },
    {
     "data": {
      "text/html": [
       " <span style=\"background-color: #FFD6D6\">this</span> <span style=\"background-color: #FFD6D6\">movie</span> <span style=\"background-color: #FFF0F0\">turned</span> <span style=\"background-color: #FFFBFB\">out</span> <span style=\"background-color: #FFFCFC\">to</span> <span style=\"background-color: #FFFDFD\">be</span> <span style=\"background-color: #FFFCFC\">better</span> <span style=\"background-color: #FFFDFD\">than</span> <span style=\"background-color: #FFFCFC\">i</span> <span style=\"background-color: #FFFDFD\">had</span> <span style=\"background-color: #FFFDFD\">expected</span> <span style=\"background-color: #FFFDFD\">it</span> <span style=\"background-color: #FFFDFD\">to</span> <span style=\"background-color: #FFFAFA\">be.</span> <span style=\"background-color: #FFFDFD\">some</span> <span style=\"background-color: #FFFDFD\">parts</span> <span style=\"background-color: #FFFDFD\">were</span> <span style=\"background-color: #FFFBFB\">pretty</span> <span style=\"background-color: #FFF3F3\">funny.</span> <span style=\"background-color: #FFFAFA\">it</span> <span style=\"background-color: #FFF7F7\">was</span> <span style=\"background-color: #FFCCCC\">nice</span> <span style=\"background-color: #FFF9F9\">to</span> <span style=\"background-color: #FFFCFC\">have</span> <span style=\"background-color: #FFFCFC\">a</span> <span style=\"background-color: #FFF6F6\">movie</span> <span style=\"background-color: #FFFAFA\">with</span> <span style=\"background-color: #FFFCFC\">a</span> <span style=\"background-color: #FFFAFA\">new</span> <span style=\"background-color: #FFE8E8\">plot.</span><br><br>\n"
      ],
      "text/plain": [
       "<IPython.core.display.HTML object>"
      ]
     },
     "metadata": {},
     "output_type": "display_data"
    },
    {
     "data": {
      "text/html": [
       " <span style=\"background-color: #FFFCFC\">you</span> <span style=\"background-color: #FFFDFD\">may</span> <span style=\"background-color: #FFFDFD\">like</span> <span style=\"background-color: #FFFDFD\">tim</span> <span style=\"background-color: #FFFBFB\">burton's</span> <span style=\"background-color: #FFFCFC\">fantasies,</span> <span style=\"background-color: #FFFDFD\">but</span> <span style=\"background-color: #FFFEFE\">not</span> <span style=\"background-color: #FFFEFE\">in</span> <span style=\"background-color: #FFFEFE\">a</span> <span style=\"background-color: #FFFAFA\"><unk></span> <span style=\"background-color: #FFFDFD\">show</span> <span style=\"background-color: #FFFDFD\">off</span> <span style=\"background-color: #FFDCDC\">lasting</span> <span style=\"background-color: #FFF0F0\">8</span> <span style=\"background-color: #FFE0E0\">minutes.</span> <span style=\"background-color: #FFF7F7\">it</span> <span style=\"background-color: #FFE3E3\">demonstrates</span> <span style=\"background-color: #FFD9D9\">good</span> <span style=\"background-color: #FFEAEA\">technical</span> <span style=\"background-color: #FFF3F3\">points</span> <span style=\"background-color: #FFFCFC\">without</span> <span style=\"background-color: #FFFCFC\">real</span> <span style=\"background-color: #FFFCFC\">creativity</span> <span style=\"background-color: #FFFDFD\">or</span> <span style=\"background-color: #FFFEFE\">some</span> <span style=\"background-color: #FFFCFC\">established</span> <span style=\"background-color: #FFF7F7\">narrative</span> <span style=\"background-color: #FFEFEF\">pace.</span> <span style=\"background-color: #FFF4F4\"><pad></span><br><br>\n"
      ],
      "text/plain": [
       "<IPython.core.display.HTML object>"
      ]
     },
     "metadata": {},
     "output_type": "display_data"
    },
    {
     "data": {
      "text/html": [
       " <span style=\"background-color: #FFFBFB\">it's</span> <span style=\"background-color: #FFFEFE\">not</span> <span style=\"background-color: #FFFEFE\">citizen</span> <span style=\"background-color: #FFF8F8\">kane,</span> <span style=\"background-color: #FFFEFE\">but</span> <span style=\"background-color: #FFFEFE\">it</span> <span style=\"background-color: #FFFDFD\">does</span> <span style=\"background-color: #FFE1E1\">deliver.</span> <span style=\"background-color: #FFECEC\">cleavage,</span> <span style=\"background-color: #FFFDFD\">and</span> <span style=\"background-color: #FFFCFC\">lots</span> <span style=\"background-color: #FFFDFD\">of</span> <span style=\"background-color: #FFF6F6\">it.<br</span> <span style=\"background-color: #FFDEDE\">/><br</span> <span style=\"background-color: #FFDEDE\">/>badly</span> <span style=\"background-color: #FFF0F0\">acted</span> <span style=\"background-color: #FFFAFA\">and</span> <span style=\"background-color: #FFE8E8\">directed,</span> <span style=\"background-color: #FFC5C5\">poorly</span> <span style=\"background-color: #FFFAFA\">scripted.</span> <span style=\"background-color: #FFFDFD\">who</span> <span style=\"background-color: #FFFDFD\">cares?</span> <span style=\"background-color: #FFFDFD\">i</span> <span style=\"background-color: #FFFCFC\">didn't</span> <span style=\"background-color: #FFFEFE\">watch</span> <span style=\"background-color: #FFFEFE\">it</span> <span style=\"background-color: #FFFEFE\">for</span> <span style=\"background-color: #FFFEFE\">the</span> <span style=\"background-color: #FFFDFD\">dialog.</span> <span style=\"background-color: #FFFEFE\"><pad></span><br><br>\n"
      ],
      "text/plain": [
       "<IPython.core.display.HTML object>"
      ]
     },
     "metadata": {},
     "output_type": "display_data"
    },
    {
     "data": {
      "text/html": [
       " <span style=\"background-color: #FFFAFA\">subject</span> <span style=\"background-color: #FFEEEE\">matter:</span> <span style=\"background-color: #FFEFEF\"><unk></span> <span style=\"background-color: #FFF9F9\">quantum</span> <span style=\"background-color: #FFFEFE\">physics</span> <span style=\"background-color: #FFFEFE\">and</span> <span style=\"background-color: #FFFDFD\">stephen</span> <span style=\"background-color: #FFEFEF\"><unk></span> <span style=\"background-color: #FFDFDF\">/><br</span> <span style=\"background-color: #FFE4E4\"><unk></span> <span style=\"background-color: #FFF4F4\">phillip</span> <span style=\"background-color: #FFEAEA\"><unk></span> <span style=\"background-color: #FFE5E5\">/><br</span> <span style=\"background-color: #FFEAEA\">/>have</span> <span style=\"background-color: #FFFBFB\">i</span> <span style=\"background-color: #FFFEFE\">died</span> <span style=\"background-color: #FFFEFE\">and</span> <span style=\"background-color: #FFFEFE\">gone</span> <span style=\"background-color: #FFFEFE\">to</span> <span style=\"background-color: #FFFAFA\">heaven?</span> <span style=\"background-color: #FFF7F7\"><br</span> <span style=\"background-color: #FFF1F1\">/><br</span> <span style=\"background-color: #FFF5F5\">/>you</span> <span style=\"background-color: #FFFDFD\">will</span> <span style=\"background-color: #FFFDFD\">be</span> <span style=\"background-color: #FFF3F3\">enraptured.</span> <span style=\"background-color: #FFFDFD\"><pad></span> <span style=\"background-color: #FFFDFD\"><pad></span> <span style=\"background-color: #FFFDFD\"><pad></span> <span style=\"background-color: #FFFDFD\"><pad></span><br><br>\n"
      ],
      "text/plain": [
       "<IPython.core.display.HTML object>"
      ]
     },
     "metadata": {},
     "output_type": "display_data"
    },
    {
     "data": {
      "text/html": [
       " <span style=\"background-color: #FFEBEB\">you've</span> <span style=\"background-color: #FFF6F6\">got</span> <span style=\"background-color: #FFFDFD\">to</span> <span style=\"background-color: #FFFDFD\">be</span> <span style=\"background-color: #FFF1F1\">kidding.</span> <span style=\"background-color: #FFE7E7\">this</span> <span style=\"background-color: #FFE1E1\">movie</span> <span style=\"background-color: #FFEAEA\">sucked</span> <span style=\"background-color: #FFFBFB\">for</span> <span style=\"background-color: #FFF8F8\">the</span> <span style=\"background-color: #FFEDED\">sci-fi</span> <span style=\"background-color: #FFF2F2\">fans.</span> <span style=\"background-color: #FFF8F8\">i</span> <span style=\"background-color: #FFFCFC\">would</span> <span style=\"background-color: #FFFDFD\">only</span> <span style=\"background-color: #FFF1F1\">recommend</span> <span style=\"background-color: #FFF9F9\">watching</span> <span style=\"background-color: #FFFAFA\">this</span> <span style=\"background-color: #FFFBFB\">only</span> <span style=\"background-color: #FFFDFD\">if</span> <span style=\"background-color: #FFFCFC\">you</span> <span style=\"background-color: #FFFCFC\">think</span> <span style=\"background-color: #FFFAFA\">armageddon</span> <span style=\"background-color: #FFFBFB\">was</span> <span style=\"background-color: #FFF1F1\">good.</span> <span style=\"background-color: #FFF8F8\"><pad></span> <span style=\"background-color: #FFF8F8\"><pad></span> <span style=\"background-color: #FFF8F8\"><pad></span> <span style=\"background-color: #FFF8F8\"><pad></span> <span style=\"background-color: #FFF8F8\"><pad></span><br><br>\n"
      ],
      "text/plain": [
       "<IPython.core.display.HTML object>"
      ]
     },
     "metadata": {},
     "output_type": "display_data"
    },
    {
     "data": {
      "text/html": [
       " <span style=\"background-color: #FFFEFE\">widow</span> <span style=\"background-color: #FFFDFD\">hires</span> <span style=\"background-color: #FFFDFD\">a</span> <span style=\"background-color: #FFF9F9\">psychopath</span> <span style=\"background-color: #FFFDFD\">as</span> <span style=\"background-color: #FFFCFC\">a</span> <span style=\"background-color: #FFF5F5\"><unk></span> <span style=\"background-color: #FFA5A5\">sloppy</span> <span style=\"background-color: #FFECEC\">film</span> <span style=\"background-color: #FFD4D4\">noir</span> <span style=\"background-color: #FFE4E4\">thriller</span> <span style=\"background-color: #FFFAFA\">which</span> <span style=\"background-color: #FFFAFA\">doesn't</span> <span style=\"background-color: #FFFDFD\">make</span> <span style=\"background-color: #FFFEFE\">much</span> <span style=\"background-color: #FFFEFE\">of</span> <span style=\"background-color: #FFFEFE\">its</span> <span style=\"background-color: #FFFCFC\">tension</span> <span style=\"background-color: #FFFAFA\">promising</span> <span style=\"background-color: #FFF7F7\">set-up.</span> <span style=\"background-color: #FFF7F7\">(3/10)</span> <span style=\"background-color: #FFFCFC\"><pad></span> <span style=\"background-color: #FFFCFC\"><pad></span> <span style=\"background-color: #FFFCFC\"><pad></span> <span style=\"background-color: #FFFCFC\"><pad></span> <span style=\"background-color: #FFFCFC\"><pad></span> <span style=\"background-color: #FFFCFC\"><pad></span> <span style=\"background-color: #FFFCFC\"><pad></span> <span style=\"background-color: #FFFCFC\"><pad></span> <span style=\"background-color: #FFFCFC\"><pad></span><br><br>\n"
      ],
      "text/plain": [
       "<IPython.core.display.HTML object>"
      ]
     },
     "metadata": {},
     "output_type": "display_data"
    },
    {
     "data": {
      "text/html": [
       " <span style=\"background-color: #FFFCFC\">if</span> <span style=\"background-color: #FFFDFD\">you</span> <span style=\"background-color: #FFFDFD\">like</span> <span style=\"background-color: #FFC7C7\">pauly</span> <span style=\"background-color: #FFE3E3\">shore,</span> <span style=\"background-color: #FFF7F7\">you'll</span> <span style=\"background-color: #FFFDFD\">love</span> <span style=\"background-color: #FFFEFE\">son</span> <span style=\"background-color: #FFFEFE\">in</span> <span style=\"background-color: #FFFCFC\">law.</span> <span style=\"background-color: #FFFEFE\">if</span> <span style=\"background-color: #FFFEFE\">you</span> <span style=\"background-color: #FFFDFD\">hate</span> <span style=\"background-color: #FFEDED\">pauly</span> <span style=\"background-color: #FFF2F2\">shore,</span> <span style=\"background-color: #FFEFEF\">then,</span> <span style=\"background-color: #FFEFEF\">well...i</span> <span style=\"background-color: #FFE7E7\">liked</span> <span style=\"background-color: #FFE7E7\">it!</span> <span style=\"background-color: #FFFBFB\"><pad></span> <span style=\"background-color: #FFFBFB\"><pad></span> <span style=\"background-color: #FFFBFB\"><pad></span> <span style=\"background-color: #FFFBFB\"><pad></span> <span style=\"background-color: #FFFBFB\"><pad></span> <span style=\"background-color: #FFFBFB\"><pad></span> <span style=\"background-color: #FFFBFB\"><pad></span> <span style=\"background-color: #FFFBFB\"><pad></span> <span style=\"background-color: #FFFBFB\"><pad></span> <span style=\"background-color: #FFFBFB\"><pad></span> <span style=\"background-color: #FFFBFB\"><pad></span><br><br>\n"
      ],
      "text/plain": [
       "<IPython.core.display.HTML object>"
      ]
     },
     "metadata": {},
     "output_type": "display_data"
    },
    {
     "data": {
      "text/html": [
       " <span style=\"background-color: #FFEFEF\">this</span> <span style=\"background-color: #FFF4F4\">is</span> <span style=\"background-color: #FFF3F3\">a</span> <span style=\"background-color: #FFE7E7\">great</span> <span style=\"background-color: #FFC9C9\">movie.</span> <span style=\"background-color: #FFE8E8\">too</span> <span style=\"background-color: #FFE9E9\">bad</span> <span style=\"background-color: #FFFCFC\">it</span> <span style=\"background-color: #FFFDFD\">is</span> <span style=\"background-color: #FFFEFE\">not</span> <span style=\"background-color: #FFFEFE\">available</span> <span style=\"background-color: #FFFEFE\">on</span> <span style=\"background-color: #FFFEFE\">home</span> <span style=\"background-color: #FFFAFA\">video.</span> <span style=\"background-color: #FFF9F9\"><pad></span> <span style=\"background-color: #FFF9F9\"><pad></span> <span style=\"background-color: #FFF9F9\"><pad></span> <span style=\"background-color: #FFF9F9\"><pad></span> <span style=\"background-color: #FFF9F9\"><pad></span> <span style=\"background-color: #FFF9F9\"><pad></span> <span style=\"background-color: #FFF9F9\"><pad></span> <span style=\"background-color: #FFF9F9\"><pad></span> <span style=\"background-color: #FFF9F9\"><pad></span> <span style=\"background-color: #FFF9F9\"><pad></span> <span style=\"background-color: #FFF9F9\"><pad></span> <span style=\"background-color: #FFF9F9\"><pad></span> <span style=\"background-color: #FFF9F9\"><pad></span> <span style=\"background-color: #FFF9F9\"><pad></span> <span style=\"background-color: #FFF9F9\"><pad></span> <span style=\"background-color: #FFF9F9\"><pad></span><br><br>\n"
      ],
      "text/plain": [
       "<IPython.core.display.HTML object>"
      ]
     },
     "metadata": {},
     "output_type": "display_data"
    },
    {
     "data": {
      "text/html": [
       " <span style=\"background-color: #FFFBFB\">more</span> <span style=\"background-color: #FFECEC\">suspenseful,</span> <span style=\"background-color: #FFFCFC\">more</span> <span style=\"background-color: #FFF2F2\">subtle,</span> <span style=\"background-color: #FFF7F7\">much,</span> <span style=\"background-color: #FFFCFC\">much</span> <span style=\"background-color: #FFFDFD\">more</span> <span style=\"background-color: #FFF7F7\"><unk></span> <span style=\"background-color: #FFF5F5\"><pad></span> <span style=\"background-color: #FFF5F5\"><pad></span> <span style=\"background-color: #FFF5F5\"><pad></span> <span style=\"background-color: #FFF5F5\"><pad></span> <span style=\"background-color: #FFF5F5\"><pad></span> <span style=\"background-color: #FFF5F5\"><pad></span> <span style=\"background-color: #FFF5F5\"><pad></span> <span style=\"background-color: #FFF5F5\"><pad></span> <span style=\"background-color: #FFF5F5\"><pad></span> <span style=\"background-color: #FFF5F5\"><pad></span> <span style=\"background-color: #FFF5F5\"><pad></span> <span style=\"background-color: #FFF5F5\"><pad></span> <span style=\"background-color: #FFF5F5\"><pad></span> <span style=\"background-color: #FFF5F5\"><pad></span> <span style=\"background-color: #FFF5F5\"><pad></span> <span style=\"background-color: #FFF5F5\"><pad></span> <span style=\"background-color: #FFF5F5\"><pad></span> <span style=\"background-color: #FFF5F5\"><pad></span> <span style=\"background-color: #FFF5F5\"><pad></span> <span style=\"background-color: #FFF5F5\"><pad></span> <span style=\"background-color: #FFF5F5\"><pad></span> <span style=\"background-color: #FFF5F5\"><pad></span><br><br>\n"
      ],
      "text/plain": [
       "<IPython.core.display.HTML object>"
      ]
     },
     "metadata": {},
     "output_type": "display_data"
    },
    {
     "data": {
      "text/html": [
       " <span style=\"background-color: #FFF6F6\">primary</span> <span style=\"background-color: #FFE9E9\"><unk></span> <span style=\"background-color: #FFEDED\"><unk></span> <span style=\"background-color: #FFF1F1\">interpretation.</span> <span style=\"background-color: #FFF7F7\"><pad></span> <span style=\"background-color: #FFF7F7\"><pad></span> <span style=\"background-color: #FFF7F7\"><pad></span> <span style=\"background-color: #FFF7F7\"><pad></span> <span style=\"background-color: #FFF7F7\"><pad></span> <span style=\"background-color: #FFF7F7\"><pad></span> <span style=\"background-color: #FFF7F7\"><pad></span> <span style=\"background-color: #FFF7F7\"><pad></span> <span style=\"background-color: #FFF7F7\"><pad></span> <span style=\"background-color: #FFF7F7\"><pad></span> <span style=\"background-color: #FFF7F7\"><pad></span> <span style=\"background-color: #FFF7F7\"><pad></span> <span style=\"background-color: #FFF7F7\"><pad></span> <span style=\"background-color: #FFF7F7\"><pad></span> <span style=\"background-color: #FFF7F7\"><pad></span> <span style=\"background-color: #FFF7F7\"><pad></span> <span style=\"background-color: #FFF7F7\"><pad></span> <span style=\"background-color: #FFF7F7\"><pad></span> <span style=\"background-color: #FFF7F7\"><pad></span> <span style=\"background-color: #FFF7F7\"><pad></span> <span style=\"background-color: #FFF7F7\"><pad></span> <span style=\"background-color: #FFF7F7\"><pad></span> <span style=\"background-color: #FFF7F7\"><pad></span> <span style=\"background-color: #FFF7F7\"><pad></span> <span style=\"background-color: #FFF7F7\"><pad></span> <span style=\"background-color: #FFF7F7\"><pad></span><br><br>\n"
      ],
      "text/plain": [
       "<IPython.core.display.HTML object>"
      ]
     },
     "metadata": {},
     "output_type": "display_data"
    }
   ],
   "source": [
    "from IPython.display import HTML, display\n",
    "with torch.no_grad():\n",
    "    for batch in test_iter:\n",
    "        x, x_l = batch.text\n",
    "        y = batch.label - 1\n",
    "        outputs, attn_weights = model(x, x_l)\n",
    "        for i in range(batch_size):\n",
    "            if torch.round(F.sigmoid(outputs[i])) != y[i].float():\n",
    "                text = mk_html(x.t()[i].cpu().numpy(), attn_weights[i].cpu().numpy())\n",
    "                display(HTML(text))\n",
    "        break"
   ]
  },
  {
   "cell_type": "code",
   "execution_count": null,
   "metadata": {},
   "outputs": [],
   "source": []
  },
  {
   "cell_type": "markdown",
   "metadata": {},
   "source": [
    "## Ptr network"
   ]
  },
  {
   "cell_type": "code",
   "execution_count": 17,
   "metadata": {},
   "outputs": [
    {
     "name": "stdout",
     "output_type": "stream",
     "text": [
      "Populating the interactive namespace from numpy and matplotlib\n"
     ]
    },
    {
     "ename": "ModuleNotFoundError",
     "evalue": "No module named 'attention'",
     "output_type": "error",
     "traceback": [
      "\u001b[0;31m---------------------------------------------------------------------------\u001b[0m",
      "\u001b[0;31mModuleNotFoundError\u001b[0m                       Traceback (most recent call last)",
      "\u001b[0;32m<ipython-input-17-e9720d1f7cd7>\u001b[0m in \u001b[0;36m<module>\u001b[0;34m()\u001b[0m\n\u001b[1;32m     10\u001b[0m \u001b[0;32mfrom\u001b[0m \u001b[0mtorch\u001b[0m\u001b[0;34m.\u001b[0m\u001b[0mnn\u001b[0m \u001b[0;32mimport\u001b[0m \u001b[0mLinear\u001b[0m\u001b[0;34m,\u001b[0m \u001b[0mModule\u001b[0m\u001b[0;34m\u001b[0m\u001b[0m\n\u001b[1;32m     11\u001b[0m \u001b[0;34m\u001b[0m\u001b[0m\n\u001b[0;32m---> 12\u001b[0;31m \u001b[0;32mfrom\u001b[0m \u001b[0mattention\u001b[0m \u001b[0;32mimport\u001b[0m \u001b[0mattend\u001b[0m\u001b[0;34m\u001b[0m\u001b[0m\n\u001b[0m\u001b[1;32m     13\u001b[0m \u001b[0;34m\u001b[0m\u001b[0m\n\u001b[1;32m     14\u001b[0m \u001b[0;34m\u001b[0m\u001b[0m\n",
      "\u001b[0;31mModuleNotFoundError\u001b[0m: No module named 'attention'"
     ]
    }
   ],
   "source": [
    "%pylab inline\n",
    "from __future__ import print_function\n",
    "import matplotlib.pyplot as plt\n",
    "import numpy as np\n",
    "import seaborn as sns\n",
    "\n",
    "import torch\n",
    "from torch import FloatTensor\n",
    "from torch.autograd import Variable\n",
    "from torch.nn import Linear, Module\n",
    "\n",
    "from attention import attend\n",
    "\n",
    "\n",
    "seed = sum(map(ord, 'les bons mots'))\n",
    "np.random.seed(seed)\n",
    "torch.manual_seed(seed)\n",
    "\n",
    "\n",
    "def Volatile(x):\n",
    "    return Variable(x, volatile=True)"
   ]
  },
  {
   "cell_type": "code",
   "execution_count": null,
   "metadata": {},
   "outputs": [],
   "source": [
    "class Data(object):\n",
    "    dim = 10\n",
    "    min_position, max_position = 3, 7\n",
    "    q_min = np.random.normal(0, 1, dim).astype(np.float32)\n",
    "    q_max = np.random.normal(0, 1, dim).astype(np.float32)\n",
    "    query = np.row_stack([q_min, q_max])\n",
    "\n",
    "    @staticmethod\n",
    "    def create_minibatches(n, m, min_length, max_length):\n",
    "        assert 0 < min_length <= max_length\n",
    "\n",
    "        minibatches = []\n",
    "        for i in range(n):\n",
    "            lengths = np.random.randint(min_length, max_length + 1, m)\n",
    "            context = np.zeros((m, lengths.max(), Data.dim), dtype=np.float32)\n",
    "            target = np.zeros((m, 2, Data.dim))\n",
    "            target_indices = []\n",
    "\n",
    "            for j, length in enumerate(lengths):\n",
    "                c = np.random.normal(0, 1, (length, Data.dim))\n",
    "                k_min = np.argmin(c[:,Data.min_position])\n",
    "                k_max = np.argmax(c[:,Data.max_position])\n",
    "                target_min = c[k_min]\n",
    "                target_max = c[k_max]\n",
    "                context[j,:length] = c\n",
    "                target[j,0] = target_min\n",
    "                target[j,1] = target_max\n",
    "                target_indices.append((k_min, k_max))\n",
    "\n",
    "            query = FloatTensor(np.tile(Data.query, (m, 1, 1)))\n",
    "            context = FloatTensor(context)\n",
    "            target = FloatTensor(target)\n",
    "            minibatches.append((query, context, target, lengths, target_indices))\n",
    "        return minibatches"
   ]
  },
  {
   "cell_type": "code",
   "execution_count": null,
   "metadata": {},
   "outputs": [],
   "source": [
    "class PointerNet(Module):\n",
    "    def __init__(self, n_hidden):\n",
    "        super(PointerNet, self).__init__()\n",
    "        self.n_hidden = n_hidden\n",
    "        self.f = Linear(Data.dim, n_hidden)\n",
    "        self.g = Linear(Data.dim, n_hidden)\n",
    "\n",
    "    def forward(self, q, x, lengths=None, **kwargs):\n",
    "        batch_size_q, n_queries, dim_q = q.size()\n",
    "        batch_size_x, n_inputs, dim_x = x.size()\n",
    "        assert batch_size_q == batch_size_x\n",
    "        assert dim_q == dim_x\n",
    "        batch_size = batch_size_q\n",
    "        dim = dim_q\n",
    "\n",
    "        q_flat = q.view(batch_size*n_queries, dim)\n",
    "        u_flat = self.f(q_flat)\n",
    "        u = u_flat.view(batch_size, n_queries, self.n_hidden)\n",
    "\n",
    "        x_flat = x.view(batch_size*n_inputs, dim)\n",
    "        v_flat = self.g(x_flat)\n",
    "        v = v_flat.view(batch_size, n_inputs, self.n_hidden)\n",
    "\n",
    "        return attend(u, v, value=x, context_sizes=lengths, **kwargs)"
   ]
  },
  {
   "cell_type": "code",
   "execution_count": null,
   "metadata": {},
   "outputs": [],
   "source": [
    "batch_size = 8\n",
    "\n",
    "n_train = 200\n",
    "min_length_train, max_length_train = 5, 14\n",
    "train_batches = Data.create_minibatches(n_train, batch_size, min_length_train, max_length_train)\n",
    "\n",
    "n_valid = 100\n",
    "min_length_valid, max_length_valid = 15, 24\n",
    "valid_batches = Data.create_minibatches(n_valid, batch_size, min_length_valid, max_length_valid)"
   ]
  },
  {
   "cell_type": "code",
   "execution_count": null,
   "metadata": {},
   "outputs": [],
   "source": [
    "net = PointerNet(7)\n",
    "opt = torch.optim.RMSprop(net.parameters(), lr=0.001)\n",
    "mse = torch.nn.MSELoss()"
   ]
  },
  {
   "cell_type": "code",
   "execution_count": null,
   "metadata": {},
   "outputs": [],
   "source": [
    "epoch = 0\n",
    "max_epochs = 10\n",
    "while epoch < max_epochs:\n",
    "    sum_loss = 0\n",
    "    for query, context, target, lengths, target_indices in train_batches:\n",
    "        net.zero_grad()\n",
    "        output = net(Variable(query), Variable(context), lengths=lengths)\n",
    "        loss = mse(output, Variable(target))\n",
    "        loss.backward()\n",
    "        opt.step()\n",
    "        sum_loss += loss.data[0]\n",
    "    epoch += 1\n",
    "    print('[{:2d}] {:5.3f}'.format(epoch, sum_loss / n_train))"
   ]
  },
  {
   "cell_type": "code",
   "execution_count": null,
   "metadata": {},
   "outputs": [],
   "source": [
    "sum_loss = 0\n",
    "sum_error_min = 0\n",
    "sum_error_max = 0\n",
    "for query, context, target, lengths, target_indices in valid_batches:\n",
    "    weight, output = net(Volatile(query), Volatile(context), lengths=lengths, return_weight=True)\n",
    "\n",
    "    loss = mse(output, Volatile(target))\n",
    "    sum_loss += loss.data[0]\n",
    "\n",
    "    weight = weight.data.numpy()\n",
    "    for i, (i_min_true, i_max_true) in enumerate(target_indices):\n",
    "        w_min, w_max = weight[i]\n",
    "        i_min_pred = w_min.argmax()\n",
    "        i_max_pred = w_max.argmax()\n",
    "        sum_error_min += int(i_min_true != i_min_pred)\n",
    "        sum_error_max += int(i_max_true != i_max_pred)\n",
    "\n",
    "print('valid loss: {:5.3f}'.format(sum_loss / n_valid))\n",
    "print('valid error min: {:5.3f}'.format(sum_error_min / (n_valid * batch_size)))\n",
    "print('valid error max: {:5.3f}'.format(sum_error_max / (n_valid * batch_size)))"
   ]
  },
  {
   "cell_type": "code",
   "execution_count": null,
   "metadata": {},
   "outputs": [],
   "source": [
    "query, context, target, lengths, target_indices = valid_batches[0]\n",
    "weight, output = net(Volatile(query), Volatile(context), lengths=lengths, return_weight=True)\n",
    "context = context.numpy()\n",
    "weight = weight.data.numpy()\n",
    "\n",
    "colors = sns.color_palette('husl', 3)\n",
    "fig, axs = plt.subplots(batch_size, 2, figsize=(10, 10), sharex=True, sharey=True)\n",
    "axs_min, axs_max = axs[:,0], axs[:,1]\n",
    "\n",
    "for i, (i_min, i_max) in enumerate(target_indices):\n",
    "    length = lengths[i]\n",
    "    w_min, w_max = weight[i]\n",
    "    c_min = [context[i,j,Data.min_position] for j in range(length)]\n",
    "    c_max = [context[i,j,Data.max_position] for j in range(length)]\n",
    "\n",
    "    axs_min[i].axvline(i_min, zorder=1, color=colors[2], label='min value')\n",
    "    axs_min[i].bar(np.arange(length) - 0.4, c_min, zorder=2, color=colors[1], lw=0, label='values')\n",
    "    axs_min[i].plot(np.arange(length), w_min[:length], zorder=3, color=colors[0], label='attention')\n",
    "\n",
    "    axs_max[i].axvline(i_max, zorder=1, color=colors[2], label='max value')\n",
    "    axs_max[i].bar(np.arange(length) - 0.4, c_max, zorder=2, color=colors[1], lw=0, label='values')\n",
    "    axs_max[i].plot(np.arange(length), w_max[:length], zorder=3, color=colors[0], label='attention')\n",
    "\n",
    "axs_min[0].set_title('Minimum')\n",
    "axs_max[0].set_title('Maximum')\n",
    "axs_max[0].legend(loc='best')    \n",
    "axs_min[0].legend(loc='best')\n",
    "axs_max[0].legend(loc='best')\n",
    "axs_min[-1].set_xlabel('position')\n",
    "axs_max[-1].set_xlabel('position')\n",
    "plt.tight_layout()"
   ]
  },
  {
   "cell_type": "code",
   "execution_count": null,
   "metadata": {},
   "outputs": [],
   "source": []
  },
  {
   "cell_type": "markdown",
   "metadata": {},
   "source": [
    "## MLP with attention\n",
    "use the idea from MOTIF problem"
   ]
  },
  {
   "cell_type": "code",
   "execution_count": 22,
   "metadata": {},
   "outputs": [],
   "source": [
    "from sklearn.datasets import make_classification\n",
    "from sklearn.model_selection import train_test_split\n",
    "from sklearn.metrics import roc_auc_score, accuracy_score\n",
    "import keras\n",
    "from keras.models import Sequential\n",
    "from keras.layers import Input\n",
    "from keras.layers.core import Dense, Dropout, Activation, Flatten, Lambda\n",
    "from keras.layers.merge import Multiply\n",
    "from keras.models import Model\n",
    "from keras.layers.merge import Concatenate, Add\n",
    "from keras.layers.convolutional import Conv1D, Conv2D\n",
    "from keras.layers.pooling import MaxPooling1D, MaxPooling2D, GlobalMaxPooling1D, GlobalMaxPooling2D, AveragePooling1D\n",
    "from keras.layers.convolutional import UpSampling1D, UpSampling2D\n",
    "from keras.regularizers import l2, l1, l1_l2\n",
    "from keras.optimizers import Adam, RMSprop\n",
    "from keras.layers.normalization import BatchNormalization\n",
    "from keras.layers.wrappers import Bidirectional\n",
    "from keras.layers.recurrent import LSTM\n",
    "from keras import backend as K\n",
    "import tensorflow as tf\n",
    "\n",
    "def set_keras_num_threads(n_threads):\n",
    "    from keras import backend as K\n",
    "    import tensorflow as tf\n",
    "    config = tf.ConfigProto()\n",
    "    config.gpu_options.allow_growth = True\n",
    "    config.intra_op_parallelism_threads = n_threads\n",
    "    config.inter_op_parallelism_threads = n_threads\n",
    "    K.set_session(tf.Session(config=config))\n",
    "    \n",
    "set_keras_num_threads(2)\n",
    "\n",
    "import h5py"
   ]
  },
  {
   "cell_type": "code",
   "execution_count": 23,
   "metadata": {},
   "outputs": [
    {
     "data": {
      "text/plain": [
       "(0, 1)"
      ]
     },
     "execution_count": 23,
     "metadata": {},
     "output_type": "execute_result"
    },
    {
     "data": {
      "image/png": "[encoded data removed]",
      "text/plain": [
       "<Figure size 1152x216 with 1 Axes>"
      ]
     },
     "metadata": {},
     "output_type": "display_data"
    },
    {
     "data": {
      "image/png": "[encoded data removed]",
      "text/plain": [
       "<Figure size 1152x216 with 1 Axes>"
      ]
     },
     "metadata": {},
     "output_type": "display_data"
    }
   ],
   "source": [
    "def sigmoid(x):\n",
    "    return 1.0/(1.0 + np.exp(-x))\n",
    "\n",
    "def soft_window_numpy(x, w=1, c=0, t=10.0):\n",
    "    y_curve = np.where(x <= c,\n",
    "                       sigmoid(t*(x - (c - 0.5*w))),\n",
    "                       sigmoid(t*(-x + (c + 0.5*w))))\n",
    "    return y_curve\n",
    "\n",
    "def soft_window2(x, w=0.5, c=0, k=0.25, t=10.0):\n",
    "    y_curve = np.where(x <= c,\n",
    "                       sigmoid(t*(x - (c - 0.5*w))),\n",
    "                       sigmoid(t*(-x + (c + 0.5*w))))\n",
    "    y_linear = np.where(x <= c, x + 1 - c, -x + 1 + c)\n",
    "    y_linear = np.where(x <= c, (x + 1)/(c + 1), (x - 1)/(c - 1))\n",
    "    return 0.8*y_curve + 0.2*y_linear\n",
    "\n",
    "x = np.linspace(-1, 1, 128, dtype=np.float32)\n",
    "window = soft_window_numpy(x, c=64/64 - 1, w=20*2/128, t=30.0)\n",
    "fig, ax = plt.subplots(figsize=(16, 3))\n",
    "ax.plot(np.arange(128), window)\n",
    "ax.set_ylim(0, 1.5)\n",
    "\n",
    "x = np.linspace(-1, 1, 128, dtype=np.float32)\n",
    "window2 = soft_window2(x, c=-0.99, w=20*2/128, k=0.1, t=30.0)\n",
    "fig, ax = plt.subplots(figsize=(16, 3))\n",
    "ax.plot(x, window2)\n",
    "ax.set_ylim(0, 1)"
   ]
  },
  {
   "cell_type": "code",
   "execution_count": 26,
   "metadata": {},
   "outputs": [],
   "source": [
    "def conv_network(input_layer):\n",
    "    output = Conv1D(64, 8, padding='valid', kernel_regularizer=l2(0.0005))(input_layer)\n",
    "    output = Activation('relu')(output)\n",
    "    output = MaxPooling1D(2)(output)\n",
    "    output = Conv1D(64, 4, padding='valid', kernel_regularizer=l2(0.0005))(output)\n",
    "    output = Activation('relu')(output)\n",
    "    output = MaxPooling1D(2)(output)\n",
    "    output = Flatten()(output)\n",
    "    #output = Dense(64, kernel_regularizer=l2(0.0001))(output)\n",
    "    return output\n",
    "\n",
    "def soft_window(x, c, w, t):\n",
    "    c = K.reshape(c, (-1, 1))\n",
    "    w = K.reshape(w, (-1, 1))\n",
    "    return K.switch(x <= c, \n",
    "                    K.sigmoid(t*(x - (c - 0.5*w))),\n",
    "                    K.sigmoid(t*(-x + (c + 0.5*w))))\n",
    "    \n",
    "def direct_cnn(window_size=128, n_channels=4):\n",
    "    input_layer = Input(shape=(window_size, n_channels))\n",
    "    output = conv_network(input_layer)\n",
    "    output = Dense(1)(output)\n",
    "    output = Activation('sigmoid')(output)\n",
    "    model = Model(inputs=[input_layer], outputs=[output])\n",
    "    return model\n",
    "    \n",
    "def attention_cnn(window_size=128, n_channels=4, t=15.0):\n",
    "    def attention_function(params):\n",
    "        x = np.linspace(-1, 1, window_size).astype(np.float32).reshape((1, window_size))\n",
    "        c = K.reshape(params, (-1, 1))\n",
    "        c = K.tanh(c)\n",
    "        #c = K.reshape(params[:, 0], (-1, 1))\n",
    "        #w = K.reshape(params[:, 1], (-1, 1))\n",
    "        #w = K.exp(w)\n",
    "        w = 20*2.0/window_size\n",
    "        k = 0.001\n",
    "        y_linear = [(x + 1)/(c + 1), (x - 1)/(c - 1)]\n",
    "        y_linear = [(x + 1 - c), (-x + 1 + c)]\n",
    "        y_curve  =  [K.sigmoid(t*(x - (c - 0.5*w))), K.sigmoid(t*(-x + (c + 0.5*w)))]\n",
    "        y = K.switch(x <= c, \n",
    "                     (1 - k)*y_curve[0] + k*y_linear[0],\n",
    "                     (1 - k)*y_curve[1] + k*y_linear[1])\n",
    "        y = K.expand_dims(y, axis=-1)\n",
    "        return y\n",
    "    \n",
    "    input_layer = Input(shape=(window_size, n_channels))\n",
    "    conv_attention = conv_network(input_layer)\n",
    "    attention_params = Dense(64, name='attention_dense1', activation='relu')(conv_attention)\n",
    "    attention_params = Dense(64, name='attention_dense2', activation='relu')(attention_params)\n",
    "    attention_params = Dense(1, name='attention_params')(attention_params)\n",
    "    attention = Lambda(attention_function, name='attention')(attention_params)\n",
    "    weighted_input = Multiply(name='multiply_attention')([input_layer, attention])\n",
    "    conv_predict = conv_network(weighted_input)\n",
    "    output = Dense(1, kernel_regularizer=l2(0.0005))(conv_predict)\n",
    "    output = Activation('sigmoid')(output)\n",
    "    \n",
    "    model = Model(inputs=[input_layer], outputs=[output])\n",
    "    return model, attention_params, attention\n",
    "\n",
    "def stochastic_attention_cnn(window_size=128, n_channels=4, t=10.0, \n",
    "                             n_sampler=10, sampler_stddev=1.0):\n",
    "    def attention_function(params):\n",
    "        x = np.linspace(-1, 1, window_size).astype(np.float32).reshape((1, window_size))\n",
    "        c = K.reshape(params, (-1, 1))\n",
    "        c = K.tanh(c)\n",
    "        #c = K.reshape(params[:, 0], (-1, 1))\n",
    "        #w = K.reshape(params[:, 1], (-1, 1))\n",
    "        #w = K.exp(w)\n",
    "        w = 20*2.0/window_size\n",
    "        y_curve  =  [K.sigmoid(t*(x - (c - 0.5*w))), K.sigmoid(t*(-x + (c + 0.5*w)))]\n",
    "        y = K.switch(x <= c, y_curve[0], y_curve[1])\n",
    "        y = K.expand_dims(y, axis=-1)\n",
    "        return y\n",
    "\n",
    "    def attention_sampler(attention_params):\n",
    "        n_samples = K.shape(attention_params)[0]\n",
    "        noise = K.random_normal((n_samples, n_sampler, 1), stddev=sampler_stddev*50/window_size)\n",
    "        attention_params = K.expand_dims(attention_params, axis=1)\n",
    "        attention_params = attention_params + noise\n",
    "        attention_params = K.reshape(attention_params, (-1, 1))\n",
    "        \n",
    "        c = attention_params\n",
    "        x = np.linspace(-1, 1, window_size).astype(np.float32).reshape((1, window_size))\n",
    "        c = K.tanh(c)\n",
    "        w = 20*2.0/window_size\n",
    "        y_curve  =  [K.sigmoid(t*(x - (c - 0.5*w))), K.sigmoid(t*(-x + (c + 0.5*w)))]\n",
    "        y = K.switch(x <= c, y_curve[0], y_curve[1])\n",
    "        y = K.expand_dims(y, axis=-1)\n",
    "        return y\n",
    "        \n",
    "        \n",
    "    input_layer = Input(shape=(window_size, n_channels))\n",
    "    conv_attention = conv_network(input_layer)\n",
    "    attention_params = Dense(64, name='attention_dense1', activation='relu')(conv_attention)\n",
    "    attention_params = Dense(64, name='attention_dense2', activation='relu')(attention_params)\n",
    "    attention_params = Dense(1, name='attention_params')(attention_params)\n",
    "    \n",
    "    attention = Lambda(lambda x: attention_sampler(x), name='attention_sampler')(attention_params)\n",
    "    repeated_input = Lambda(lambda x: K.repeat_elements(x, n_sampler, axis=0),\n",
    "                            name='repeated_input')(input_layer)\n",
    "    weighted_input = Multiply(name='multiply_attention')([repeated_input, attention])\n",
    "    conv_predict = conv_network(weighted_input)\n",
    "    output = Dense(1, kernel_regularizer=l2(0.0005), name='output_dense')(conv_predict)\n",
    "    output = Activation('sigmoid', name='output_sigmoid')(output)\n",
    "    output = Lambda(lambda x: K.mean(K.reshape(x, (-1, n_sampler, 1)), axis=1), name='output_mean')(output)\n",
    "    \n",
    "    model = Model(inputs=[input_layer], outputs=[output])\n",
    "    return model, attention_params, attention\n",
    "    \n",
    "#model, attention_params, attention = attention_cnn()\n"
   ]
  },
  {
   "cell_type": "code",
   "execution_count": 27,
   "metadata": {},
   "outputs": [
    {
     "name": "stdout",
     "output_type": "stream",
     "text": [
      "__________________________________________________________________________________________________\n",
      "Layer (type)                    Output Shape         Param #     Connected to                     \n",
      "==================================================================================================\n",
      "input_3 (InputLayer)            (None, 128, 4)       0                                            \n",
      "__________________________________________________________________________________________________\n",
      "conv1d_7 (Conv1D)               (None, 121, 64)      2112        input_3[0][0]                    \n",
      "__________________________________________________________________________________________________\n",
      "activation_8 (Activation)       (None, 121, 64)      0           conv1d_7[0][0]                   \n",
      "__________________________________________________________________________________________________\n",
      "max_pooling1d_7 (MaxPooling1D)  (None, 60, 64)       0           activation_8[0][0]               \n",
      "__________________________________________________________________________________________________\n",
      "conv1d_8 (Conv1D)               (None, 57, 64)       16448       max_pooling1d_7[0][0]            \n",
      "__________________________________________________________________________________________________\n",
      "activation_9 (Activation)       (None, 57, 64)       0           conv1d_8[0][0]                   \n",
      "__________________________________________________________________________________________________\n",
      "max_pooling1d_8 (MaxPooling1D)  (None, 28, 64)       0           activation_9[0][0]               \n",
      "__________________________________________________________________________________________________\n",
      "flatten_4 (Flatten)             (None, 1792)         0           max_pooling1d_8[0][0]            \n",
      "__________________________________________________________________________________________________\n",
      "attention_dense1 (Dense)        (None, 64)           114752      flatten_4[0][0]                  \n",
      "__________________________________________________________________________________________________\n",
      "attention_dense2 (Dense)        (None, 64)           4160        attention_dense1[0][0]           \n",
      "__________________________________________________________________________________________________\n",
      "attention_params (Dense)        (None, 1)            65          attention_dense2[0][0]           \n",
      "__________________________________________________________________________________________________\n",
      "repeated_input (Lambda)         (None, 128, 4)       0           input_3[0][0]                    \n",
      "__________________________________________________________________________________________________\n",
      "attention_sampler (Lambda)      (None, 128, 1)       0           attention_params[0][0]           \n",
      "__________________________________________________________________________________________________\n",
      "multiply_attention (Multiply)   (None, 128, 4)       0           repeated_input[0][0]             \n",
      "                                                                 attention_sampler[0][0]          \n",
      "__________________________________________________________________________________________________\n",
      "conv1d_9 (Conv1D)               (None, 121, 64)      2112        multiply_attention[0][0]         \n",
      "__________________________________________________________________________________________________\n",
      "activation_10 (Activation)      (None, 121, 64)      0           conv1d_9[0][0]                   \n",
      "__________________________________________________________________________________________________\n",
      "max_pooling1d_9 (MaxPooling1D)  (None, 60, 64)       0           activation_10[0][0]              \n",
      "__________________________________________________________________________________________________\n",
      "conv1d_10 (Conv1D)              (None, 57, 64)       16448       max_pooling1d_9[0][0]            \n",
      "__________________________________________________________________________________________________\n",
      "activation_11 (Activation)      (None, 57, 64)       0           conv1d_10[0][0]                  \n",
      "__________________________________________________________________________________________________\n",
      "max_pooling1d_10 (MaxPooling1D) (None, 28, 64)       0           activation_11[0][0]              \n",
      "__________________________________________________________________________________________________\n",
      "flatten_5 (Flatten)             (None, 1792)         0           max_pooling1d_10[0][0]           \n",
      "__________________________________________________________________________________________________\n",
      "output_dense (Dense)            (None, 1)            1793        flatten_5[0][0]                  \n",
      "__________________________________________________________________________________________________\n",
      "output_sigmoid (Activation)     (None, 1)            0           output_dense[0][0]               \n",
      "__________________________________________________________________________________________________\n",
      "output_mean (Lambda)            (None, 1)            0           output_sigmoid[0][0]             \n",
      "==================================================================================================\n",
      "Total params: 157,890\n",
      "Trainable params: 157,890\n",
      "Non-trainable params: 0\n",
      "__________________________________________________________________________________________________\n"
     ]
    }
   ],
   "source": [
    "attention_model, attention_params, attention = stochastic_attention_cnn()\n",
    "attention_model.summary()\n",
    "attention_model.compile(optimizer='Adam', loss='binary_crossentropy', metrics=['accuracy'])"
   ]
  },
  {
   "cell_type": "code",
   "execution_count": 28,
   "metadata": {},
   "outputs": [
    {
     "ename": "NameError",
     "evalue": "name 'X' is not defined",
     "output_type": "error",
     "traceback": [
      "\u001b[0;31m---------------------------------------------------------------------------\u001b[0m",
      "\u001b[0;31mNameError\u001b[0m                                 Traceback (most recent call last)",
      "\u001b[0;32m<ipython-input-28-37a68fbdd61b>\u001b[0m in \u001b[0;36m<module>\u001b[0;34m()\u001b[0m\n\u001b[0;32m----> 1\u001b[0;31m \u001b[0mattention_model\u001b[0m\u001b[0;34m.\u001b[0m\u001b[0mfit\u001b[0m\u001b[0;34m(\u001b[0m\u001b[0mX\u001b[0m\u001b[0;34m,\u001b[0m \u001b[0my\u001b[0m\u001b[0;34m,\u001b[0m \u001b[0mbatch_size\u001b[0m\u001b[0;34m=\u001b[0m\u001b[0;36m50\u001b[0m\u001b[0;34m,\u001b[0m \u001b[0mepochs\u001b[0m\u001b[0;34m=\u001b[0m\u001b[0;36m30\u001b[0m\u001b[0;34m)\u001b[0m\u001b[0;34m\u001b[0m\u001b[0m\n\u001b[0m",
      "\u001b[0;31mNameError\u001b[0m: name 'X' is not defined"
     ]
    }
   ],
   "source": [
    "attention_model.fit(X, y, batch_size=50, epochs=30)"
   ]
  },
  {
   "cell_type": "code",
   "execution_count": null,
   "metadata": {},
   "outputs": [],
   "source": []
  },
  {
   "cell_type": "code",
   "execution_count": 25,
   "metadata": {},
   "outputs": [
    {
     "name": "stdout",
     "output_type": "stream",
     "text": [
      "_________________________________________________________________\n",
      "Layer (type)                 Output Shape              Param #   \n",
      "=================================================================\n",
      "input_2 (InputLayer)         (None, 128, 4)            0         \n",
      "_________________________________________________________________\n",
      "conv1d_5 (Conv1D)            (None, 121, 64)           2112      \n",
      "_________________________________________________________________\n",
      "activation_5 (Activation)    (None, 121, 64)           0         \n",
      "_________________________________________________________________\n",
      "max_pooling1d_5 (MaxPooling1 (None, 60, 64)            0         \n",
      "_________________________________________________________________\n",
      "conv1d_6 (Conv1D)            (None, 57, 64)            16448     \n",
      "_________________________________________________________________\n",
      "activation_6 (Activation)    (None, 57, 64)            0         \n",
      "_________________________________________________________________\n",
      "max_pooling1d_6 (MaxPooling1 (None, 28, 64)            0         \n",
      "_________________________________________________________________\n",
      "flatten_3 (Flatten)          (None, 1792)              0         \n",
      "_________________________________________________________________\n",
      "dense_1 (Dense)              (None, 1)                 1793      \n",
      "_________________________________________________________________\n",
      "activation_7 (Activation)    (None, 1)                 0         \n",
      "=================================================================\n",
      "Total params: 20,353\n",
      "Trainable params: 20,353\n",
      "Non-trainable params: 0\n",
      "_________________________________________________________________\n"
     ]
    }
   ],
   "source": [
    "model = direct_cnn()\n",
    "model.summary()\n",
    "model.compile(optimizer='Adam', loss='binary_crossentropy', metrics=['accuracy'])"
   ]
  },
  {
   "cell_type": "code",
   "execution_count": null,
   "metadata": {},
   "outputs": [],
   "source": [
    "model.fit(X, y, batch_size=25, epochs=30)"
   ]
  }
 ],
 "metadata": {
  "kernelspec": {
   "display_name": "Python 3",
   "language": "python",
   "name": "python3"
  },
  "language_info": {
   "codemirror_mode": {
    "name": "ipython",
    "version": 3
   },
   "file_extension": ".py",
   "mimetype": "text/x-python",
   "name": "python",
   "nbconvert_exporter": "python",
   "pygments_lexer": "ipython3",
   "version": "3.6.5"
  },
  "toc": {
   "base_numbering": 1,
   "nav_menu": {},
   "number_sections": true,
   "sideBar": true,
   "skip_h1_title": false,
   "title_cell": "Table of Contents",
   "title_sidebar": "Contents",
   "toc_cell": false,
   "toc_position": {},
   "toc_section_display": true,
   "toc_window_display": false
  }
 },
 "nbformat": 4,
 "nbformat_minor": 2
}
