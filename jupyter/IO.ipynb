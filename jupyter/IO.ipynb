{
 "cells": [
  {
   "cell_type": "code",
   "execution_count": 1,
   "metadata": {},
   "outputs": [
    {
     "name": "stdout",
     "output_type": "stream",
     "text": [
      "Populating the interactive namespace from numpy and matplotlib\n"
     ]
    },
    {
     "name": "stderr",
     "output_type": "stream",
     "text": [
      "/home/xupeng/anaconda3/lib/python3.6/site-packages/h5py/__init__.py:36: FutureWarning: Conversion of the second argument of issubdtype from `float` to `np.floating` is deprecated. In future, it will be treated as `np.float64 == np.dtype(float).type`.\n",
      "  from ._conv import register_converters as _register_converters\n"
     ]
    }
   ],
   "source": [
    "import gc, argparse, sys, os, errno\n",
    "%pylab inline\n",
    "import numpy as np\n",
    "import pandas as pd\n",
    "import matplotlib.pyplot as plt\n",
    "import seaborn as sns\n",
    "sns.set()\n",
    "sns.set_style('whitegrid')\n",
    "import h5py\n",
    "import os\n",
    "from tqdm import tqdm_notebook as tqdm\n",
    "import scipy\n",
    "import sklearn\n",
    "from scipy.stats import pearsonr\n",
    "import warnings\n",
    "warnings.filterwarnings('ignore')"
   ]
  },
  {
   "cell_type": "code",
   "execution_count": 2,
   "metadata": {},
   "outputs": [],
   "source": [
    "from scipy.io import loadmat"
   ]
  },
  {
   "cell_type": "code",
   "execution_count": 3,
   "metadata": {},
   "outputs": [],
   "source": [
    "data = loadmat('/home/xupeng/projects/signal/data/citydata.mat')"
   ]
  },
  {
   "cell_type": "code",
   "execution_count": 5,
   "metadata": {},
   "outputs": [
    {
     "data": {
      "text/plain": [
       "array([[5.976480e+05, 4.133011e+06, 2.301000e+01],\n",
       "       [5.976580e+05, 4.132991e+06, 2.301000e+01],\n",
       "       [5.976680e+05, 4.132981e+06, 2.301000e+01],\n",
       "       ...,\n",
       "       [5.995080e+05, 4.132411e+06, 2.601000e+01],\n",
       "       [5.995080e+05, 4.132421e+06, 2.601000e+01],\n",
       "       [5.995180e+05, 4.132421e+06, 2.601000e+01]])"
      ]
     },
     "execution_count": 5,
     "metadata": {},
     "output_type": "execute_result"
    }
   ],
   "source": [
    "data['RX']"
   ]
  },
  {
   "cell_type": "code",
   "execution_count": 6,
   "metadata": {},
   "outputs": [
    {
     "data": {
      "text/plain": [
       "dict_keys(['__header__', '__version__', '__globals__', 'RX', 'RSS', 'TOA', 'RSS_t', 'TX', 'DOA'])"
      ]
     },
     "execution_count": 6,
     "metadata": {},
     "output_type": "execute_result"
    }
   ],
   "source": [
    "data.keys()"
   ]
  },
  {
   "cell_type": "code",
   "execution_count": null,
   "metadata": {},
   "outputs": [],
   "source": [
    "with h5py.File('/home/xupeng/projects/signal/data/citydata.h5') as f:\n",
    "    f.create_dataset('RX',data = data['RX'])"
   ]
  },
  {
   "cell_type": "code",
   "execution_count": 8,
   "metadata": {},
   "outputs": [],
   "source": [
    "a = np.random.normal(0,1,10)\n",
    "b = np.random.normal(0,1,10)"
   ]
  },
  {
   "cell_type": "code",
   "execution_count": 9,
   "metadata": {},
   "outputs": [
    {
     "data": {
      "text/plain": [
       "(array([-0.18420154, -1.13120216,  1.70978614,  0.01923934, -0.09253187,\n",
       "        -0.8967794 , -2.32134271,  1.50332926,  0.74150266,  2.36464928]),\n",
       " array([-0.35385913, -1.4250532 ,  0.45390619,  0.80401127,  0.30080825,\n",
       "         0.40323843, -0.04233569, -0.90435086,  2.62585876, -0.67848633]))"
      ]
     },
     "execution_count": 9,
     "metadata": {},
     "output_type": "execute_result"
    }
   ],
   "source": [
    "a,b"
   ]
  },
  {
   "cell_type": "code",
   "execution_count": 11,
   "metadata": {},
   "outputs": [
    {
     "data": {
      "text/plain": [
       "0.06618708636836773"
      ]
     },
     "execution_count": 11,
     "metadata": {},
     "output_type": "execute_result"
    }
   ],
   "source": [
    "np.corrcoef(a,b)[0,1]"
   ]
  },
  {
   "cell_type": "code",
   "execution_count": 12,
   "metadata": {},
   "outputs": [],
   "source": [
    "from scipy.stats import pearsonr"
   ]
  },
  {
   "cell_type": "code",
   "execution_count": 14,
   "metadata": {},
   "outputs": [
    {
     "data": {
      "text/plain": [
       "0.06618708636836772"
      ]
     },
     "execution_count": 14,
     "metadata": {},
     "output_type": "execute_result"
    }
   ],
   "source": [
    "pearsonr(a,b)[0]"
   ]
  },
  {
   "cell_type": "code",
   "execution_count": 15,
   "metadata": {},
   "outputs": [
    {
     "data": {
      "text/plain": [
       "0.0661870863683677"
      ]
     },
     "execution_count": 15,
     "metadata": {},
     "output_type": "execute_result"
    }
   ],
   "source": [
    "import numpy as np\n",
    "def pcc(X, Y):\n",
    "    X -= X.mean(0)\n",
    "    Y -= Y.mean(0)\n",
    "    X /= X.std(0)\n",
    "    Y /= Y.std(0)\n",
    "    return np.mean(X*Y)\n",
    "\n",
    "pcc(a,b)"
   ]
  },
  {
   "cell_type": "code",
   "execution_count": 1,
   "metadata": {},
   "outputs": [
    {
     "name": "stdout",
     "output_type": "stream",
     "text": [
      "/home/xupeng/projects/signal\n"
     ]
    }
   ],
   "source": [
    "cd .."
   ]
  },
  {
   "cell_type": "code",
   "execution_count": 3,
   "metadata": {},
   "outputs": [],
   "source": [
    "import gc, argparse, sys, os, errno\n",
    "sys.path.append('bin')"
   ]
  },
  {
   "cell_type": "code",
   "execution_count": 4,
   "metadata": {},
   "outputs": [],
   "source": [
    "\n",
    "import numpy as np\n",
    "from tqdm import tqdm\n",
    "import scipy\n",
    "from scipy.stats import pearsonr\n",
    "from scipy.io import loadmat\n",
    "from matplotlib.mlab import griddata\n",
    "tableau20 = np.array([(31, 119, 180), (174, 199, 232), (255, 127, 14), (255, 187, 120),  \n",
    "             (44, 160, 44), (152, 223, 138), (214, 39, 40), (255, 152, 150),  \n",
    "             (148, 103, 189), (197, 176, 213), (140, 86, 75), (196, 156, 148),  \n",
    "             (227, 119, 194), (247, 182, 210), (127, 127, 127), (199, 199, 199),  \n",
    "             (188, 189, 34), (219, 219, 141), (23, 190, 207), (158, 218, 229)])/255.\n",
    "styles = [\"white\",\"dark\",'whitegrid',\"darkgrid\"]\n",
    "contexts = ['paper','talk','poster','notebook']\n",
    "from ipywidgets import interact, FloatSlider,IntSlider, RadioButtons,Dropdown,Tab,Text,SelectMultiple,FloatRangeSlider\n",
    "from mpl_toolkits.mplot3d import Axes3D\n",
    "import matplotlib.pyplot as plt\n",
    "from matplotlib import cm\n",
    "from matplotlib.ticker import LinearLocator, FormatStrFormatter\n",
    "import numpy as np\n",
    "from mpl_toolkits.mplot3d.axes3d import *\n",
    "import matplotlib.pyplot as plt\n",
    "from matplotlib import cm\n",
    "from sklearn.preprocessing import MinMaxScaler,RobustScaler,StandardScaler,Imputer\n",
    "from sklearn.feature_selection import VarianceThreshold\n",
    "\n",
    "from utils import prepare_dataset,preprocess_zscore, get_original_parameters, report_metrics, mdn_logp, mdn_loss\n",
    "from model import MixtureDensityNetwork, IsotropicGaussianMixture\n",
    "import argparse\n",
    "import numba as nb"
   ]
  },
  {
   "cell_type": "code",
   "execution_count": 5,
   "metadata": {},
   "outputs": [],
   "source": [
    "feature_counts = 10\n",
    "point_counts = 1000\n",
    "test_counts = 100\n",
    "rawdata = loadmat('/home/xupeng/projects/signal/data/citydata.mat')\n",
    "RSS = rawdata['RSS']\n",
    "TOA = rawdata['TOA']\n",
    "DOA = rawdata['DOA']\n",
    "TXloc = rawdata['TX']\n",
    "RXloc = rawdata['RX']\n",
    "xyzorigin_RX = np.array([np.min(RXloc[:,0]),np.min(RXloc[:,1]),0])\n",
    "xyzorigin_TX = np.array([np.min(TXloc[:,0]),np.min(TXloc[:,1]),0])\n",
    "RXloc_shifted = RXloc - xyzorigin_RX\n",
    "TXloc_shifted = TXloc - xyzorigin_TX"
   ]
  },
  {
   "cell_type": "code",
   "execution_count": null,
   "metadata": {},
   "outputs": [],
   "source": [
    "distance=np.zeros((1500,1500))\n",
    "for i in tqdm(range(1500)):\n",
    "    for j in range(1500):\n",
    "        distance[i,j]=np.linalg.norm(RXloc_shifted[i]-RXloc_shifted[j])"
   ]
  },
  {
   "cell_type": "code",
   "execution_count": 20,
   "metadata": {},
   "outputs": [],
   "source": [
    "from numba import cuda\n",
    "\n"
   ]
  },
  {
   "cell_type": "code",
   "execution_count": 39,
   "metadata": {},
   "outputs": [],
   "source": [
    "\n",
    "\n",
    "c=np.append(RSS,TOA,axis=1)\n",
    "combine_data=np.append(c,DOA,axis=1)\n",
    "@nb.jit()\n",
    "def pcc(X, Y):\n",
    "    X = X - np.mean(X)\n",
    "    Y = Y - np.mean(Y)\n",
    "    X = X/X.std(0)\n",
    "    Y = Y/Y.std(0)\n",
    "    return np.mean(X*Y)\n",
    "#index_1 index_2 should be two of the 1500 receiver\n",
    "@nb.jit()\n",
    "def relate(index_1, index_2, features):\n",
    "    xdata=combine_data[index_1]\n",
    "    xdata=xdata[features]\n",
    "    ydata=combine_data[index_2]\n",
    "    ydata=ydata[features]\n",
    "    an=~np.isnan(xdata)&~np.isnan(ydata)\n",
    "    xdata=xdata[an]\n",
    "    nr=1-len(xdata)/len(ydata)\n",
    "    ydata=ydata[an]\n",
    "    an=an[an]\n",
    "    r=pcc(xdata,ydata)\n",
    "    return r,nr\n",
    "@nb.jit()\n",
    "def corelate(features):\n",
    "    r=np.zeros(testnum)\n",
    "    nr=np.zeros(testnum)\n",
    "    xn=np.random.randint(1,1500,size=(testnum,batchsize))\n",
    "    yn=np.random.randint(1,1500,size=(testnum,batchsize))\n",
    "    r=np.zeros((testnum,batchsize))\n",
    "    u=np.zeros((testnum,batchsize))\n",
    "    d=np.zeros((testnum,batchsize))\n",
    "    re=np.zeros(testnum)\n",
    "    nr=np.zeros(testnum)\n",
    "    for j in range(testnum):\n",
    "        nan_num=0;\n",
    "        for i in range(batchsize):\n",
    "            d[j][i]=distance[xn[j][i],yn[j][i]]\n",
    "            r[j][i],u[j][i]=relate(xn[j][i],yn[j][i],features)\n",
    "            while np.isnan(r[j][i]):\n",
    "                xn[j][i]=np.random.randint(1,1500)\n",
    "                yn[j][i]=np.random.randint(1,1500)\n",
    "                d[j][i]=distance[xn[j][i],yn[j][i]]\n",
    "                r[j][i],u[j][i]=relate(xn[j][i],yn[j][i],features)\n",
    "                nan_num=nan_num+1\n",
    "        re[j]=pcc(d[j],r[j])\n",
    "        nr[j]=(np.sum(u[j])+nan_num)/(nan_num+batchsize)\n",
    "    return -np.mean(r), np.mean(nr), xn.flatten(), yn.flatten(), r.flatten(), u.flatten()\n",
    "\n",
    "batchsize=100;\n",
    "testnum=int(point_counts/batchsize)\n",
    "x_total=np.zeros((test_counts,testnum*batchsize))\n",
    "y_total=np.zeros((test_counts,testnum*batchsize))\n",
    "r_total=np.zeros((test_counts,testnum*batchsize))\n",
    "u_total=np.zeros((test_counts,testnum*batchsize))\n",
    "relation=np.zeros(test_counts)\n",
    "\n",
    "label=np.random.randint(1,500,size=(test_counts,feature_counts))\n",
    "\n",
    "nan_rate=np.zeros(test_counts)"
   ]
  },
  {
   "cell_type": "code",
   "execution_count": 40,
   "metadata": {},
   "outputs": [
    {
     "name": "stderr",
     "output_type": "stream",
     "text": [
      "  0%|          | 0/100 [00:00<?, ?it/s]/home/xupeng/anaconda3/lib/python3.6/site-packages/ipykernel_launcher.py:2: RuntimeWarning: invalid value encountered in true_divide\n",
      "  \n",
      "  1%|          | 1/100 [00:01<02:27,  1.49s/it]/home/xupeng/anaconda3/lib/python3.6/site-packages/numpy/core/fromnumeric.py:2957: RuntimeWarning: Mean of empty slice.\n",
      "  out=out, **kwargs)\n",
      "/home/xupeng/anaconda3/lib/python3.6/site-packages/numpy/core/_methods.py:80: RuntimeWarning: invalid value encountered in double_scalars\n",
      "  ret = ret.dtype.type(ret / rcount)\n",
      "/home/xupeng/anaconda3/lib/python3.6/site-packages/numpy/core/_methods.py:135: RuntimeWarning: Degrees of freedom <= 0 for slice\n",
      "  keepdims=keepdims)\n",
      "/home/xupeng/anaconda3/lib/python3.6/site-packages/numpy/core/_methods.py:105: RuntimeWarning: invalid value encountered in true_divide\n",
      "  arrmean, rcount, out=arrmean, casting='unsafe', subok=False)\n",
      "/home/xupeng/anaconda3/lib/python3.6/site-packages/numpy/core/_methods.py:127: RuntimeWarning: invalid value encountered in double_scalars\n",
      "  ret = ret.dtype.type(ret / rcount)\n",
      "100%|██████████| 100/100 [00:09<00:00, 11.01it/s]\n"
     ]
    }
   ],
   "source": [
    "for i in tqdm(range(test_counts)):\n",
    "    relation[i],nan_rate[i],x_total[i],y_total[i],r_total[i],u_total[i]=corelate(label[i])\n",
    "\n"
   ]
  },
  {
   "cell_type": "code",
   "execution_count": null,
   "metadata": {},
   "outputs": [],
   "source": [
    "\n",
    "\n",
    "c=np.append(RSS,TOA,axis=1)\n",
    "combine_data=np.append(c,DOA,axis=1)\n",
    "def pcc(X, Y):\n",
    "    X = X - np.mean(X)\n",
    "    Y = Y - np.mean(Y)\n",
    "    X = X/X.std(0)\n",
    "    Y = Y/Y.std(0)\n",
    "    return np.mean(X*Y)\n",
    "#index_1 index_2 should be two of the 1500 receiver\n",
    "def relate(index_1, index_2, features):\n",
    "    xdata=combine_data[index_1]\n",
    "    xdata=xdata[features]\n",
    "    ydata=combine_data[index_2]\n",
    "    ydata=ydata[features]\n",
    "    an=~np.isnan(xdata)&~np.isnan(ydata)\n",
    "    xdata=xdata[an]\n",
    "    nr=1-len(xdata)/len(ydata)\n",
    "    ydata=ydata[an]\n",
    "    an=an[an]\n",
    "    r=pcc(xdata,ydata)\n",
    "    return r,nr\n",
    "def corelate(features):\n",
    "    r=np.zeros(testnum)\n",
    "    nr=np.zeros(testnum)\n",
    "    xn=np.random.randint(1,1500,size=(testnum,batchsize))\n",
    "    yn=np.random.randint(1,1500,size=(testnum,batchsize))\n",
    "    r=np.zeros((testnum,batchsize))\n",
    "    u=np.zeros((testnum,batchsize))\n",
    "    d=np.zeros((testnum,batchsize))\n",
    "    re=np.zeros(testnum)\n",
    "    nr=np.zeros(testnum)\n",
    "    for j in range(testnum):\n",
    "        nan_num=0;\n",
    "        for i in range(batchsize):\n",
    "            d[j][i]=distance[xn[j][i],yn[j][i]]\n",
    "            r[j][i],u[j][i]=relate(xn[j][i],yn[j][i],features)\n",
    "            while np.isnan(r[j][i]):\n",
    "                xn[j][i]=np.random.randint(1,1500)\n",
    "                yn[j][i]=np.random.randint(1,1500)\n",
    "                d[j][i]=distance[xn[j][i],yn[j][i]]\n",
    "                r[j][i],u[j][i]=relate(xn[j][i],yn[j][i],features)\n",
    "                nan_num=nan_num+1\n",
    "        re[j]=pcc(d[j],r[j])\n",
    "        nr[j]=(np.sum(u[j])+nan_num)/(nan_num+batchsize)\n",
    "    return -np.mean(r), np.mean(nr), xn.flatten(), yn.flatten(), r.flatten(), u.flatten()\n",
    "\n",
    "batchsize=100;\n",
    "testnum=int(point_counts/batchsize)\n",
    "x_total=np.zeros((test_counts,testnum*batchsize))\n",
    "y_total=np.zeros((test_counts,testnum*batchsize))\n",
    "r_total=np.zeros((test_counts,testnum*batchsize))\n",
    "u_total=np.zeros((test_counts,testnum*batchsize))\n",
    "relation=np.zeros(test_counts)\n",
    "\n",
    "label=np.random.randint(1,500,size=(test_counts,feature_counts))\n",
    "\n",
    "nan_rate=np.zeros(test_counts)"
   ]
  },
  {
   "cell_type": "code",
   "execution_count": 41,
   "metadata": {},
   "outputs": [
    {
     "name": "stderr",
     "output_type": "stream",
     "text": [
      "  0%|          | 0/100 [00:00<?, ?it/s]/home/xupeng/anaconda3/lib/python3.6/site-packages/ipykernel_launcher.py:2: RuntimeWarning: invalid value encountered in true_divide\n",
      "  \n",
      "/home/xupeng/anaconda3/lib/python3.6/site-packages/numpy/core/fromnumeric.py:2957: RuntimeWarning: Mean of empty slice.\n",
      "  out=out, **kwargs)\n",
      "/home/xupeng/anaconda3/lib/python3.6/site-packages/numpy/core/_methods.py:80: RuntimeWarning: invalid value encountered in double_scalars\n",
      "  ret = ret.dtype.type(ret / rcount)\n",
      "/home/xupeng/anaconda3/lib/python3.6/site-packages/numpy/core/_methods.py:135: RuntimeWarning: Degrees of freedom <= 0 for slice\n",
      "  keepdims=keepdims)\n",
      "/home/xupeng/anaconda3/lib/python3.6/site-packages/numpy/core/_methods.py:105: RuntimeWarning: invalid value encountered in true_divide\n",
      "  arrmean, rcount, out=arrmean, casting='unsafe', subok=False)\n",
      "/home/xupeng/anaconda3/lib/python3.6/site-packages/numpy/core/_methods.py:127: RuntimeWarning: invalid value encountered in double_scalars\n",
      "  ret = ret.dtype.type(ret / rcount)\n",
      "100%|██████████| 100/100 [00:07<00:00, 12.99it/s]\n"
     ]
    }
   ],
   "source": [
    "for i in tqdm(range(test_counts)):\n",
    "    relation[i],nan_rate[i],x_total[i],y_total[i],r_total[i],u_total[i]=corelate(label[i])\n",
    "\n"
   ]
  },
  {
   "cell_type": "code",
   "execution_count": null,
   "metadata": {},
   "outputs": [],
   "source": []
  }
 ],
 "metadata": {
  "kernelspec": {
   "display_name": "Python 3",
   "language": "python",
   "name": "python3"
  },
  "language_info": {
   "codemirror_mode": {
    "name": "ipython",
    "version": 3
   },
   "file_extension": ".py",
   "mimetype": "text/x-python",
   "name": "python",
   "nbconvert_exporter": "python",
   "pygments_lexer": "ipython3",
   "version": "3.6.5"
  },
  "toc": {
   "base_numbering": 1,
   "nav_menu": {},
   "number_sections": true,
   "sideBar": true,
   "skip_h1_title": false,
   "title_cell": "Table of Contents",
   "title_sidebar": "Contents",
   "toc_cell": false,
   "toc_position": {},
   "toc_section_display": true,
   "toc_window_display": false
  }
 },
 "nbformat": 4,
 "nbformat_minor": 2
}
