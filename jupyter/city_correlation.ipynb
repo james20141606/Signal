{
 "cells": [
  {
   "cell_type": "code",
   "execution_count": 1,
   "metadata": {},
   "outputs": [
    {
     "name": "stdout",
     "output_type": "stream",
     "text": [
      "Populating the interactive namespace from numpy and matplotlib\n"
     ]
    },
    {
     "name": "stderr",
     "output_type": "stream",
     "text": [
      "/home/xupeng/anaconda3/lib/python3.6/site-packages/h5py/__init__.py:36: FutureWarning: Conversion of the second argument of issubdtype from `float` to `np.floating` is deprecated. In future, it will be treated as `np.float64 == np.dtype(float).type`.\n",
      "  from ._conv import register_converters as _register_converters\n"
     ]
    }
   ],
   "source": [
    "import gc, argparse, sys, os, errno\n",
    "%pylab inline\n",
    "import numpy as np\n",
    "import pandas as pd\n",
    "import matplotlib.pyplot as plt\n",
    "#from beakerx import *\n",
    "plt.style.use('ggplot')\n",
    "import seaborn as sns\n",
    "sns.set()\n",
    "import h5py\n",
    "import os\n",
    "from tqdm import tqdm_notebook as tqdm\n",
    "import scipy\n",
    "import sklearn\n",
    "from scipy.stats import pearsonr\n",
    "import warnings\n",
    "warnings.filterwarnings('ignore')"
   ]
  },
  {
   "cell_type": "markdown",
   "metadata": {},
   "source": [
    "# 总结下面所做的工作.  \n",
    "根据实际，在两个点的实际距离较近的时候，特征之间也应该相近<br>\n",
    "relation函数统计两个点的给定特征的相似度，相似度越高，值越接近1。<br>\n",
    "corelation函数统计对于给定的特征，这些特征是否足够优秀。理论上讲，优秀的特征应该在点的距离近的时候比较类似。所以点的距离越小，relation结果越大。因此，corelation越接近-1，说明特征越好。<br>\n",
    "对于10个特征，20个特征，30个特征各测试一番。<br>\n",
    "数据说明，各测试十万个，最终相关值储存在 rela_10 rela_20 rela_30中。<br>\n",
    "标签储存在labe_10, labe_20, labe_30中<br>\n",
    "其中用nr_10 nr_20 nr_30来表示计算过程中，有多大比率的nan值。"
   ]
  },
  {
   "cell_type": "code",
   "execution_count": 2,
   "metadata": {},
   "outputs": [],
   "source": [
    "#index_1 index_2 should be two of the 1500 receiver\n",
    "def relation(index_1, index_2, features):\n",
    "    xdata=combine_data[index_1,features]\n",
    "    ydata=combine_data[index_2,features]\n",
    "    an=~np.isnan(xdata)&~np.isnan(ydata)\n",
    "    nr=len(an)/len(xdata)\n",
    "    xdata=xdata[an]\n",
    "    ydata=ydata[an]\n",
    "    r,_=scipy.stats.pearsonr(xdata,ydata)\n",
    "    return r,nr"
   ]
  },
  {
   "cell_type": "code",
   "execution_count": 3,
   "metadata": {},
   "outputs": [],
   "source": [
    "def corelation(features):\n",
    "    testnum1=10\n",
    "    testnum2=50\n",
    "    r=np.zeros(testnum1)\n",
    "    nr=np.zeros(testnum1)\n",
    "    for j in range(testnum1):\n",
    "        x=np.zeros(testnum2)\n",
    "        y=np.zeros(testnum2)\n",
    "        ur=np.zeros(testnum2)\n",
    "        n=0\n",
    "        xn=np.random.randint(1,1500,testnum2)\n",
    "        yn=np.random.randint(1,1500,testnum2)\n",
    "        #random choose 100 points to calculate the relation between distance and feature relation\n",
    "        for i in range(testnum2):\n",
    "            x[n]=distance[xn[i],yn[i]]\n",
    "            y[n],ur[n]=relation(xn[i],yn[i],features)\n",
    "            \n",
    "            n=n+1\n",
    "                #print(relation(i,j,features))\n",
    "                #np.random.randint(1,100,[5,5])\n",
    "        r[j],_=scipy.stats.pearsonr(x,y)\n",
    "        nr[j]=np.mean(ur)\n",
    "    an=~np.isnan(r)\n",
    "    r=r[an]\n",
    "    nr=nr[an]\n",
    "    return np.mean(r), np.mean(nr)"
   ]
  },
  {
   "cell_type": "code",
   "execution_count": 4,
   "metadata": {},
   "outputs": [],
   "source": [
    "rela_10=np.zeros(10000)\n",
    "rela_20=np.zeros(10000)\n",
    "rela_30=np.zeros(10000)\n",
    "labe_10=np.random.randint(1,500,size=(10000,10))\n",
    "labe_20=np.random.randint(1,500,size=(10000,20))\n",
    "labe_30=np.random.randint(1,500,size=(10000,30))\n",
    "nr_10=np.zeros(10000)\n",
    "nr_20=np.zeros(10000)\n",
    "nr_30=np.zeros(10000)"
   ]
  },
  {
   "cell_type": "code",
   "execution_count": null,
   "metadata": {},
   "outputs": [],
   "source": [
    "for i in tqdm(range(10000)):\n",
    "    rela_10[i],nr_10[i]=corelation(labe_10[i])\n",
    "    rela_20[i],nr_20[i]=corelation(labe_20[i])\n",
    "    rela_30[i],nr_30[i]=corelation(labe_30[i])"
   ]
  },
  {
   "cell_type": "code",
   "execution_count": null,
   "metadata": {},
   "outputs": [],
   "source": [
    "import argparse\n",
    "\n",
    "parser = argparse.ArgumentParser(description='test some correlation')\n",
    "parser.add_argument('--c', dest='count',  default=10,type=int help='feature counts')\n",
    "args = parser.parse_args()\n",
    "\n",
    "feature_counts = args.count\n"
   ]
  }
 ],
 "metadata": {
  "kernelspec": {
   "display_name": "Python 3",
   "language": "python",
   "name": "python3"
  },
  "language_info": {
   "codemirror_mode": {
    "name": "ipython",
    "version": 3
   },
   "file_extension": ".py",
   "mimetype": "text/x-python",
   "name": "python",
   "nbconvert_exporter": "python",
   "pygments_lexer": "ipython3",
   "version": "3.6.5"
  },
  "toc": {
   "base_numbering": 1,
   "nav_menu": {},
   "number_sections": true,
   "sideBar": true,
   "skip_h1_title": false,
   "title_cell": "Table of Contents",
   "title_sidebar": "Contents",
   "toc_cell": false,
   "toc_position": {},
   "toc_section_display": true,
   "toc_window_display": false
  }
 },
 "nbformat": 4,
 "nbformat_minor": 2
}
