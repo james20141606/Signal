{
 "cells": [
  {
   "cell_type": "code",
   "execution_count": 1,
   "metadata": {},
   "outputs": [
    {
     "name": "stdout",
     "output_type": "stream",
     "text": [
      "Populating the interactive namespace from numpy and matplotlib\n"
     ]
    },
    {
     "name": "stderr",
     "output_type": "stream",
     "text": [
      "/home/xupeng/anaconda3/lib/python3.6/site-packages/h5py/__init__.py:36: FutureWarning: Conversion of the second argument of issubdtype from `float` to `np.floating` is deprecated. In future, it will be treated as `np.float64 == np.dtype(float).type`.\n",
      "  from ._conv import register_converters as _register_converters\n"
     ]
    }
   ],
   "source": [
    "import gc, argparse, sys, os, errno\n",
    "%pylab inline\n",
    "import numpy as np\n",
    "import pandas as pd\n",
    "import matplotlib.pyplot as plt\n",
    "import seaborn as sns\n",
    "sns.set()\n",
    "sns.set_style('whitegrid')\n",
    "import h5py\n",
    "import os\n",
    "from tqdm import tqdm_notebook as tqdm\n",
    "import scipy\n",
    "import sklearn\n",
    "from scipy.stats import pearsonr\n",
    "import warnings\n",
    "warnings.filterwarnings('ignore')"
   ]
  },
  {
   "cell_type": "code",
   "execution_count": 2,
   "metadata": {},
   "outputs": [
    {
     "name": "stdout",
     "output_type": "stream",
     "text": [
      "/home/xupeng/projects/signal\n"
     ]
    }
   ],
   "source": [
    "cd .."
   ]
  },
  {
   "cell_type": "code",
   "execution_count": 32,
   "metadata": {},
   "outputs": [
    {
     "name": "stdout",
     "output_type": "stream",
     "text": [
      "\u001b[0m\u001b[01;34m10feature_counts100000test_counts1000point_counts\u001b[0m/       non_rate_10.txt\r\n",
      "\u001b[01;34m10feature_counts1000test_counts1000point_counts\u001b[0m/         non_rate_20.txt\r\n",
      "\u001b[01;34m20feature_counts100000test_counts1000point_counts\u001b[0m/       non_rate_30.txt\r\n",
      "\u001b[01;34m30feature_counts100000test_counts1000point_counts\u001b[0m/       non_rate_40.txt\r\n",
      "distance.txt                                             non_rate_50.txt\r\n",
      "\u001b[01;34m__DOA__10feature_counts1000test_counts1000point_counts\u001b[0m/  relation_10.txt\r\n",
      "features_10.txt                                          relation_20.txt\r\n",
      "features_20.txt                                          relation_30.txt\r\n",
      "features_30.txt                                          relation_40.txt\r\n",
      "features_40.txt                                          relation_50.txt\r\n",
      "features_50.txt\r\n"
     ]
    }
   ],
   "source": [
    "ls citydata/"
   ]
  },
  {
   "cell_type": "code",
   "execution_count": 7,
   "metadata": {},
   "outputs": [],
   "source": [
    "distancedata = pd.read_table('citydata/distance.txt',sep=' ',header=None)"
   ]
  },
  {
   "cell_type": "code",
   "execution_count": 10,
   "metadata": {},
   "outputs": [
    {
     "data": {
      "text/html": [
       "<div>\n",
       "<style scoped>\n",
       "    .dataframe tbody tr th:only-of-type {\n",
       "        vertical-align: middle;\n",
       "    }\n",
       "\n",
       "    .dataframe tbody tr th {\n",
       "        vertical-align: top;\n",
       "    }\n",
       "\n",
       "    .dataframe thead th {\n",
       "        text-align: right;\n",
       "    }\n",
       "</style>\n",
       "<table border=\"1\" class=\"dataframe\">\n",
       "  <thead>\n",
       "    <tr style=\"text-align: right;\">\n",
       "      <th></th>\n",
       "      <th>0</th>\n",
       "      <th>1</th>\n",
       "      <th>2</th>\n",
       "      <th>3</th>\n",
       "      <th>4</th>\n",
       "      <th>5</th>\n",
       "      <th>6</th>\n",
       "      <th>7</th>\n",
       "      <th>8</th>\n",
       "      <th>9</th>\n",
       "      <th>...</th>\n",
       "      <th>1490</th>\n",
       "      <th>1491</th>\n",
       "      <th>1492</th>\n",
       "      <th>1493</th>\n",
       "      <th>1494</th>\n",
       "      <th>1495</th>\n",
       "      <th>1496</th>\n",
       "      <th>1497</th>\n",
       "      <th>1498</th>\n",
       "      <th>1499</th>\n",
       "    </tr>\n",
       "  </thead>\n",
       "  <tbody>\n",
       "    <tr>\n",
       "      <th>0</th>\n",
       "      <td>0.000000</td>\n",
       "      <td>22.360680</td>\n",
       "      <td>36.055513</td>\n",
       "      <td>28.284271</td>\n",
       "      <td>41.231056</td>\n",
       "      <td>58.318093</td>\n",
       "      <td>51.000000</td>\n",
       "      <td>64.039051</td>\n",
       "      <td>106.306162</td>\n",
       "      <td>86.029065</td>\n",
       "      <td>...</td>\n",
       "      <td>1887.884795</td>\n",
       "      <td>1910.028534</td>\n",
       "      <td>1886.003446</td>\n",
       "      <td>1890.108198</td>\n",
       "      <td>1923.332785</td>\n",
       "      <td>1920.445001</td>\n",
       "      <td>1909.373981</td>\n",
       "      <td>1954.382000</td>\n",
       "      <td>1951.335184</td>\n",
       "      <td>1960.869450</td>\n",
       "    </tr>\n",
       "    <tr>\n",
       "      <th>1</th>\n",
       "      <td>22.360680</td>\n",
       "      <td>0.000000</td>\n",
       "      <td>14.142136</td>\n",
       "      <td>41.231056</td>\n",
       "      <td>31.622777</td>\n",
       "      <td>41.243181</td>\n",
       "      <td>50.009999</td>\n",
       "      <td>72.117959</td>\n",
       "      <td>84.858706</td>\n",
       "      <td>67.089492</td>\n",
       "      <td>...</td>\n",
       "      <td>1872.113512</td>\n",
       "      <td>1894.230451</td>\n",
       "      <td>1870.857825</td>\n",
       "      <td>1875.155727</td>\n",
       "      <td>1908.011792</td>\n",
       "      <td>1905.205763</td>\n",
       "      <td>1894.467999</td>\n",
       "      <td>1938.790602</td>\n",
       "      <td>1935.822564</td>\n",
       "      <td>1945.381454</td>\n",
       "    </tr>\n",
       "    <tr>\n",
       "      <th>2</th>\n",
       "      <td>36.055513</td>\n",
       "      <td>14.142136</td>\n",
       "      <td>0.000000</td>\n",
       "      <td>50.000000</td>\n",
       "      <td>28.284271</td>\n",
       "      <td>30.016662</td>\n",
       "      <td>50.009999</td>\n",
       "      <td>76.164296</td>\n",
       "      <td>70.717749</td>\n",
       "      <td>53.860932</td>\n",
       "      <td>...</td>\n",
       "      <td>1859.518486</td>\n",
       "      <td>1881.624033</td>\n",
       "      <td>1858.523339</td>\n",
       "      <td>1862.903379</td>\n",
       "      <td>1895.602543</td>\n",
       "      <td>1892.830949</td>\n",
       "      <td>1882.235108</td>\n",
       "      <td>1926.268154</td>\n",
       "      <td>1923.332785</td>\n",
       "      <td>1932.901705</td>\n",
       "    </tr>\n",
       "    <tr>\n",
       "      <th>3</th>\n",
       "      <td>28.284271</td>\n",
       "      <td>41.231056</td>\n",
       "      <td>50.000000</td>\n",
       "      <td>0.000000</td>\n",
       "      <td>36.055513</td>\n",
       "      <td>58.318093</td>\n",
       "      <td>31.638584</td>\n",
       "      <td>36.069378</td>\n",
       "      <td>111.807871</td>\n",
       "      <td>86.029065</td>\n",
       "      <td>...</td>\n",
       "      <td>1875.449013</td>\n",
       "      <td>1897.632472</td>\n",
       "      <td>1872.594190</td>\n",
       "      <td>1876.408538</td>\n",
       "      <td>1910.185593</td>\n",
       "      <td>1907.173039</td>\n",
       "      <td>1895.602543</td>\n",
       "      <td>1941.651102</td>\n",
       "      <td>1938.481106</td>\n",
       "      <td>1947.975616</td>\n",
       "    </tr>\n",
       "    <tr>\n",
       "      <th>4</th>\n",
       "      <td>41.231056</td>\n",
       "      <td>31.622777</td>\n",
       "      <td>28.284271</td>\n",
       "      <td>36.055513</td>\n",
       "      <td>0.000000</td>\n",
       "      <td>22.383029</td>\n",
       "      <td>22.383029</td>\n",
       "      <td>51.000000</td>\n",
       "      <td>76.164296</td>\n",
       "      <td>50.009999</td>\n",
       "      <td>...</td>\n",
       "      <td>1846.783420</td>\n",
       "      <td>1868.932583</td>\n",
       "      <td>1844.805952</td>\n",
       "      <td>1848.893994</td>\n",
       "      <td>1882.155413</td>\n",
       "      <td>1879.257566</td>\n",
       "      <td>1868.156578</td>\n",
       "      <td>1913.245672</td>\n",
       "      <td>1910.185593</td>\n",
       "      <td>1919.715864</td>\n",
       "    </tr>\n",
       "  </tbody>\n",
       "</table>\n",
       "<p>5 rows × 1500 columns</p>\n",
       "</div>"
      ],
      "text/plain": [
       "        0          1          2          3          4          5     \\\n",
       "0   0.000000  22.360680  36.055513  28.284271  41.231056  58.318093   \n",
       "1  22.360680   0.000000  14.142136  41.231056  31.622777  41.243181   \n",
       "2  36.055513  14.142136   0.000000  50.000000  28.284271  30.016662   \n",
       "3  28.284271  41.231056  50.000000   0.000000  36.055513  58.318093   \n",
       "4  41.231056  31.622777  28.284271  36.055513   0.000000  22.383029   \n",
       "\n",
       "        6          7           8          9        ...              1490  \\\n",
       "0  51.000000  64.039051  106.306162  86.029065     ...       1887.884795   \n",
       "1  50.009999  72.117959   84.858706  67.089492     ...       1872.113512   \n",
       "2  50.009999  76.164296   70.717749  53.860932     ...       1859.518486   \n",
       "3  31.638584  36.069378  111.807871  86.029065     ...       1875.449013   \n",
       "4  22.383029  51.000000   76.164296  50.009999     ...       1846.783420   \n",
       "\n",
       "          1491         1492         1493         1494         1495  \\\n",
       "0  1910.028534  1886.003446  1890.108198  1923.332785  1920.445001   \n",
       "1  1894.230451  1870.857825  1875.155727  1908.011792  1905.205763   \n",
       "2  1881.624033  1858.523339  1862.903379  1895.602543  1892.830949   \n",
       "3  1897.632472  1872.594190  1876.408538  1910.185593  1907.173039   \n",
       "4  1868.932583  1844.805952  1848.893994  1882.155413  1879.257566   \n",
       "\n",
       "          1496         1497         1498         1499  \n",
       "0  1909.373981  1954.382000  1951.335184  1960.869450  \n",
       "1  1894.467999  1938.790602  1935.822564  1945.381454  \n",
       "2  1882.235108  1926.268154  1923.332785  1932.901705  \n",
       "3  1895.602543  1941.651102  1938.481106  1947.975616  \n",
       "4  1868.156578  1913.245672  1910.185593  1919.715864  \n",
       "\n",
       "[5 rows x 1500 columns]"
      ]
     },
     "execution_count": 10,
     "metadata": {},
     "output_type": "execute_result"
    }
   ],
   "source": [
    "distancedata.head()"
   ]
  },
  {
   "cell_type": "code",
   "execution_count": 16,
   "metadata": {},
   "outputs": [],
   "source": [
    "features = {}\n",
    "for i in np.arange(1,6):\n",
    "    features[i] = pd.read_table('citydata/features_'+str(i*10)+'.txt',sep=' ',header=None)"
   ]
  },
  {
   "cell_type": "code",
   "execution_count": 17,
   "metadata": {},
   "outputs": [],
   "source": [
    "non_rate = {}\n",
    "for i in np.arange(1,6):\n",
    "    non_rate[i] = pd.read_table('citydata/non_rate_'+str(i*10)+'.txt',sep=' ',header=None)"
   ]
  },
  {
   "cell_type": "code",
   "execution_count": 18,
   "metadata": {},
   "outputs": [],
   "source": [
    "relation = {}\n",
    "for i in np.arange(1,6):\n",
    "    relation[i] = pd.read_table('citydata/relation_'+str(i*10)+'.txt',sep=' ',header=None)"
   ]
  },
  {
   "cell_type": "code",
   "execution_count": 21,
   "metadata": {},
   "outputs": [
    {
     "data": {
      "text/html": [
       "<div>\n",
       "<style scoped>\n",
       "    .dataframe tbody tr th:only-of-type {\n",
       "        vertical-align: middle;\n",
       "    }\n",
       "\n",
       "    .dataframe tbody tr th {\n",
       "        vertical-align: top;\n",
       "    }\n",
       "\n",
       "    .dataframe thead th {\n",
       "        text-align: right;\n",
       "    }\n",
       "</style>\n",
       "<table border=\"1\" class=\"dataframe\">\n",
       "  <thead>\n",
       "    <tr style=\"text-align: right;\">\n",
       "      <th></th>\n",
       "      <th>0</th>\n",
       "      <th>1</th>\n",
       "      <th>2</th>\n",
       "      <th>3</th>\n",
       "      <th>4</th>\n",
       "      <th>5</th>\n",
       "      <th>6</th>\n",
       "      <th>7</th>\n",
       "      <th>8</th>\n",
       "      <th>9</th>\n",
       "    </tr>\n",
       "  </thead>\n",
       "  <tbody>\n",
       "    <tr>\n",
       "      <th>0</th>\n",
       "      <td>45.0</td>\n",
       "      <td>317.0</td>\n",
       "      <td>292.0</td>\n",
       "      <td>6.0</td>\n",
       "      <td>381.0</td>\n",
       "      <td>42.0</td>\n",
       "      <td>156.0</td>\n",
       "      <td>377.0</td>\n",
       "      <td>41.0</td>\n",
       "      <td>200.0</td>\n",
       "    </tr>\n",
       "    <tr>\n",
       "      <th>1</th>\n",
       "      <td>9.0</td>\n",
       "      <td>46.0</td>\n",
       "      <td>338.0</td>\n",
       "      <td>317.0</td>\n",
       "      <td>330.0</td>\n",
       "      <td>18.0</td>\n",
       "      <td>467.0</td>\n",
       "      <td>174.0</td>\n",
       "      <td>280.0</td>\n",
       "      <td>184.0</td>\n",
       "    </tr>\n",
       "    <tr>\n",
       "      <th>2</th>\n",
       "      <td>311.0</td>\n",
       "      <td>212.0</td>\n",
       "      <td>227.0</td>\n",
       "      <td>174.0</td>\n",
       "      <td>25.0</td>\n",
       "      <td>219.0</td>\n",
       "      <td>255.0</td>\n",
       "      <td>255.0</td>\n",
       "      <td>321.0</td>\n",
       "      <td>173.0</td>\n",
       "    </tr>\n",
       "    <tr>\n",
       "      <th>3</th>\n",
       "      <td>343.0</td>\n",
       "      <td>164.0</td>\n",
       "      <td>202.0</td>\n",
       "      <td>321.0</td>\n",
       "      <td>42.0</td>\n",
       "      <td>131.0</td>\n",
       "      <td>328.0</td>\n",
       "      <td>474.0</td>\n",
       "      <td>79.0</td>\n",
       "      <td>246.0</td>\n",
       "    </tr>\n",
       "    <tr>\n",
       "      <th>4</th>\n",
       "      <td>245.0</td>\n",
       "      <td>423.0</td>\n",
       "      <td>419.0</td>\n",
       "      <td>492.0</td>\n",
       "      <td>76.0</td>\n",
       "      <td>270.0</td>\n",
       "      <td>39.0</td>\n",
       "      <td>106.0</td>\n",
       "      <td>146.0</td>\n",
       "      <td>478.0</td>\n",
       "    </tr>\n",
       "  </tbody>\n",
       "</table>\n",
       "</div>"
      ],
      "text/plain": [
       "       0      1      2      3      4      5      6      7      8      9\n",
       "0   45.0  317.0  292.0    6.0  381.0   42.0  156.0  377.0   41.0  200.0\n",
       "1    9.0   46.0  338.0  317.0  330.0   18.0  467.0  174.0  280.0  184.0\n",
       "2  311.0  212.0  227.0  174.0   25.0  219.0  255.0  255.0  321.0  173.0\n",
       "3  343.0  164.0  202.0  321.0   42.0  131.0  328.0  474.0   79.0  246.0\n",
       "4  245.0  423.0  419.0  492.0   76.0  270.0   39.0  106.0  146.0  478.0"
      ]
     },
     "execution_count": 21,
     "metadata": {},
     "output_type": "execute_result"
    }
   ],
   "source": [
    "features[1].head()"
   ]
  },
  {
   "cell_type": "code",
   "execution_count": 25,
   "metadata": {},
   "outputs": [
    {
     "data": {
      "text/plain": [
       "(9448, 10)"
      ]
     },
     "execution_count": 25,
     "metadata": {},
     "output_type": "execute_result"
    }
   ],
   "source": [
    "features[1].shape"
   ]
  },
  {
   "cell_type": "code",
   "execution_count": 33,
   "metadata": {},
   "outputs": [
    {
     "data": {
      "text/html": [
       "<div>\n",
       "<style scoped>\n",
       "    .dataframe tbody tr th:only-of-type {\n",
       "        vertical-align: middle;\n",
       "    }\n",
       "\n",
       "    .dataframe tbody tr th {\n",
       "        vertical-align: top;\n",
       "    }\n",
       "\n",
       "    .dataframe thead th {\n",
       "        text-align: right;\n",
       "    }\n",
       "</style>\n",
       "<table border=\"1\" class=\"dataframe\">\n",
       "  <thead>\n",
       "    <tr style=\"text-align: right;\">\n",
       "      <th></th>\n",
       "      <th>0</th>\n",
       "    </tr>\n",
       "  </thead>\n",
       "  <tbody>\n",
       "    <tr>\n",
       "      <th>0</th>\n",
       "      <td>0.650466</td>\n",
       "    </tr>\n",
       "    <tr>\n",
       "      <th>1</th>\n",
       "      <td>0.646503</td>\n",
       "    </tr>\n",
       "    <tr>\n",
       "      <th>2</th>\n",
       "      <td>0.610530</td>\n",
       "    </tr>\n",
       "    <tr>\n",
       "      <th>3</th>\n",
       "      <td>0.602485</td>\n",
       "    </tr>\n",
       "    <tr>\n",
       "      <th>4</th>\n",
       "      <td>0.595724</td>\n",
       "    </tr>\n",
       "  </tbody>\n",
       "</table>\n",
       "</div>"
      ],
      "text/plain": [
       "          0\n",
       "0  0.650466\n",
       "1  0.646503\n",
       "2  0.610530\n",
       "3  0.602485\n",
       "4  0.595724"
      ]
     },
     "execution_count": 33,
     "metadata": {},
     "output_type": "execute_result"
    }
   ],
   "source": [
    "relation[1].head()"
   ]
  },
  {
   "cell_type": "code",
   "execution_count": 27,
   "metadata": {},
   "outputs": [
    {
     "data": {
      "text/plain": [
       "(9448, 1)"
      ]
     },
     "execution_count": 27,
     "metadata": {},
     "output_type": "execute_result"
    }
   ],
   "source": [
    "non_rate[1].shape"
   ]
  },
  {
   "cell_type": "code",
   "execution_count": 28,
   "metadata": {},
   "outputs": [
    {
     "data": {
      "text/plain": [
       "(9998, 20)"
      ]
     },
     "execution_count": 28,
     "metadata": {},
     "output_type": "execute_result"
    }
   ],
   "source": [
    "features[2].shape"
   ]
  },
  {
   "cell_type": "code",
   "execution_count": 34,
   "metadata": {},
   "outputs": [
    {
     "name": "stdout",
     "output_type": "stream",
     "text": [
      "\u001b[0m\u001b[01;34m10feature_counts100000test_counts1000point_counts\u001b[0m/       non_rate_10.txt\r\n",
      "\u001b[01;34m10feature_counts1000test_counts1000point_counts\u001b[0m/         non_rate_20.txt\r\n",
      "\u001b[01;34m20feature_counts100000test_counts1000point_counts\u001b[0m/       non_rate_30.txt\r\n",
      "\u001b[01;34m30feature_counts100000test_counts1000point_counts\u001b[0m/       non_rate_40.txt\r\n",
      "distance.txt                                             non_rate_50.txt\r\n",
      "\u001b[01;34m__DOA__10feature_counts1000test_counts1000point_counts\u001b[0m/  relation_10.txt\r\n",
      "features_10.txt                                          relation_20.txt\r\n",
      "features_20.txt                                          relation_30.txt\r\n",
      "features_30.txt                                          relation_40.txt\r\n",
      "features_40.txt                                          relation_50.txt\r\n",
      "features_50.txt\r\n"
     ]
    }
   ],
   "source": [
    "ls citydata/"
   ]
  },
  {
   "cell_type": "code",
   "execution_count": 35,
   "metadata": {},
   "outputs": [
    {
     "name": "stdout",
     "output_type": "stream",
     "text": [
      "first_index.txt  nanrate_specific.txt  pcc.txt                second_index.txt\r\n",
      "label.txt        nan_rate.txt          relation_specific.txt\r\n"
     ]
    }
   ],
   "source": [
    "ls citydata/10feature_counts100000test_counts1000point_counts/"
   ]
  },
  {
   "cell_type": "code",
   "execution_count": 36,
   "metadata": {},
   "outputs": [
    {
     "data": {
      "text/plain": [
       "array([[  84., 1092., 1104., ...,  117., 1021.,  857.],\n",
       "       [ 748., 1026.,  258., ...,  976.,  630., 1091.],\n",
       "       [1210.,  877.,  526., ..., 1439.,  430., 1420.],\n",
       "       ...,\n",
       "       [ 657.,  612.,  356., ...,  670., 1192.,  676.],\n",
       "       [1245.,  862., 1004., ..., 1292.,  866.,  932.],\n",
       "       [ 190., 1484.,  704., ...,  154.,  942.,  100.]])"
      ]
     },
     "execution_count": 36,
     "metadata": {},
     "output_type": "execute_result"
    }
   ],
   "source": [
    "np.loadtxt('citydata/10feature_counts100000test_counts1000point_counts/first_index.txt')"
   ]
  },
  {
   "cell_type": "code",
   "execution_count": 37,
   "metadata": {},
   "outputs": [],
   "source": [
    "def get_detailed_info(path):\n",
    "    firstind = np.loadtxt(path+'first_index.txt')\n",
    "    secondind = np.loadtxt(path+'second_index.txt')\n",
    "    label = np.loadtxt(path+'label.txt')\n",
    "    nanrate_specific = np.loadtxt(path+'nanrate_specific.txt')\n",
    "    nan_rate = np.loadtxt(path+'nan_rate.txt')\n",
    "    pcc = np.loadtxt(path+'pcc.txt')\n",
    "    relation_specific = np.loadtxt(path+'relation_specific.txt')\n",
    "    return firstind, secondind, label, nanrate_specific, nan_rate, pcc, relation_specific"
   ]
  },
  {
   "cell_type": "code",
   "execution_count": 38,
   "metadata": {},
   "outputs": [],
   "source": [
    "firstind, secondind, label, nanrate_specific, nan_rate, pcc, relation_specific = \\\n",
    "    get_detailed_info('citydata/10feature_counts100000test_counts1000point_counts/')"
   ]
  },
  {
   "cell_type": "code",
   "execution_count": 39,
   "metadata": {},
   "outputs": [
    {
     "data": {
      "text/plain": [
       "(100000, 1000)"
      ]
     },
     "execution_count": 39,
     "metadata": {},
     "output_type": "execute_result"
    }
   ],
   "source": [
    "firstind.shape"
   ]
  },
  {
   "cell_type": "code",
   "execution_count": 43,
   "metadata": {},
   "outputs": [
    {
     "data": {
      "text/plain": [
       "(100000,)"
      ]
     },
     "execution_count": 43,
     "metadata": {},
     "output_type": "execute_result"
    }
   ],
   "source": [
    "pcc.shape"
   ]
  },
  {
   "cell_type": "code",
   "execution_count": null,
   "metadata": {},
   "outputs": [],
   "source": []
  }
 ],
 "metadata": {
  "kernelspec": {
   "display_name": "Python 3",
   "language": "python",
   "name": "python3"
  },
  "language_info": {
   "codemirror_mode": {
    "name": "ipython",
    "version": 3
   },
   "file_extension": ".py",
   "mimetype": "text/x-python",
   "name": "python",
   "nbconvert_exporter": "python",
   "pygments_lexer": "ipython3",
   "version": "3.6.5"
  },
  "toc": {
   "base_numbering": 1,
   "nav_menu": {},
   "number_sections": true,
   "sideBar": true,
   "skip_h1_title": false,
   "title_cell": "Table of Contents",
   "title_sidebar": "Contents",
   "toc_cell": false,
   "toc_position": {},
   "toc_section_display": true,
   "toc_window_display": false
  }
 },
 "nbformat": 4,
 "nbformat_minor": 2
}
