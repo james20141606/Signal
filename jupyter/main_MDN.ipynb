{
 "cells": [
  {
   "cell_type": "code",
   "execution_count": 1,
   "metadata": {},
   "outputs": [
    {
     "name": "stdout",
     "output_type": "stream",
     "text": [
      "Populating the interactive namespace from numpy and matplotlib\n"
     ]
    }
   ],
   "source": [
    "%pylab inline"
   ]
  },
  {
   "cell_type": "code",
   "execution_count": 2,
   "metadata": {},
   "outputs": [],
   "source": [
    "import seaborn as sns\n",
    "sns.set()\n",
    "import torch \n",
    "import torch.nn as nn\n",
    "import torch.utils.data\n",
    "from torch.autograd import Variable # storing data while learning\n",
    "from torch import optim\n",
    "from torch.utils import data as utilsdata\n",
    "import torch.nn.functional as F\n",
    "from torch.distributions import Categorical\n",
    "from sklearn.model_selection import train_test_split\n",
    "from scipy.stats import multivariate_normal\n",
    "from scipy.signal import argrelmax\n",
    "from tqdm import tqdm_notebook as tqdm\n",
    "import scipy"
   ]
  },
  {
   "cell_type": "markdown",
   "metadata": {},
   "source": [
    "# Define and run the mixture density network"
   ]
  },
  {
   "cell_type": "markdown",
   "metadata": {},
   "source": [
    "### signal dataset"
   ]
  },
  {
   "cell_type": "code",
   "execution_count": 3,
   "metadata": {},
   "outputs": [
    {
     "name": "stdout",
     "output_type": "stream",
     "text": [
      "/Users/james/signal\n"
     ]
    }
   ],
   "source": [
    "cd /Users/james/signal"
   ]
  },
  {
   "cell_type": "code",
   "execution_count": 4,
   "metadata": {},
   "outputs": [
    {
     "name": "stdout",
     "output_type": "stream",
     "text": [
      "Size of features in training data: (750, 24)\n",
      "Size of output in training data: (750, 2)\n",
      "Size of features in test data: (250, 24)\n",
      "Size of output in test data: (250, 2)\n"
     ]
    }
   ],
   "source": [
    "def prepare_dataset(featurename='rss'):\n",
    "    import scipy.io as sio  \n",
    "    data_1 = sio.loadmat('data_paper_WSNL/1000data.mat')\n",
    "    data_2 = sio.loadmat('data_paper_WSNL/location.mat')\n",
    "    local = data_2['RXm'][:1000,:2]\n",
    "    rss = data_1['data_db_rss']\n",
    "    aoa = data_1['data_db_aoa']\n",
    "    toa = data_1['data_db_toa']\n",
    "    data_4 = data_1['data'][:,18:24]\n",
    "    data_5 = data_1['data'][:,24:]\n",
    "    data_6 = data_1['data'][:,6:]\n",
    "    data_whole = np.concatenate((rss,aoa,toa,data_4,data_5),axis =1)\n",
    "    local_x = local[:,:1]\n",
    "    local_y = local[:,1:]\n",
    "    if featurename=='whole':\n",
    "        return train_test_split(data_whole, local, random_state=42)\n",
    "    elif featurename=='rss':\n",
    "        return train_test_split(rss, local, random_state=42)\n",
    "    elif featurename=='aoa':\n",
    "        return train_test_split(aoa, local, random_state=42)\n",
    "    elif featurename=='toa':\n",
    "        return train_test_split(toa, local, random_state=42)\n",
    "    elif featurename=='data_4':\n",
    "        return train_test_split(data_4, local, random_state=42)\n",
    "    elif featurename=='data_5':\n",
    "        return train_test_split(data_5, local, random_state=42)\n",
    "    elif featurename=='data_6':\n",
    "        return train_test_split(data_6, local, random_state=42)\n",
    "X_train, X_test, y_train, y_test = prepare_dataset(featurename='data_6')\n",
    "print(\"Size of features in training data: {}\".format(X_train.shape))\n",
    "print(\"Size of output in training data: {}\".format(y_train.shape))\n",
    "print(\"Size of features in test data: {}\".format(X_test.shape))\n",
    "print(\"Size of output in test data: {}\".format(y_test.shape))"
   ]
  },
  {
   "cell_type": "code",
   "execution_count": 6,
   "metadata": {},
   "outputs": [],
   "source": [
    "class MixtureDensityNetwork(nn.Module):\n",
    "    '''Create a mixture density network\n",
    "    Args:\n",
    "        n_input: number of input dimensions\n",
    "        n_hiddens: an integer or a list. Sizes of hidden layers.\n",
    "        n_output: number of output dimensions\n",
    "        n_components: number of Gaussian distributions\n",
    "        logsigma_min, logsigma_max: range to clip log sigma to\n",
    "    '''\n",
    "    def __init__(self, n_input = 24, n_hiddens = 10, n_output = 6, \n",
    "                 n_components=4, \n",
    "                 logsigma_min=-3, logsigma_max=3):\n",
    "        super(MixtureDensityNetwork, self).__init__()\n",
    "        self.n_input = n_input\n",
    "        self.n_output = n_output\n",
    "        self.n_components = n_components\n",
    "        self.n_hiddens = np.atleast_1d(n_hiddens)\n",
    "        self.logsigma_min = logsigma_min\n",
    "        self.logsigma_max = logsigma_max\n",
    "        \n",
    "        layers = []\n",
    "        n_hidden_prev = n_input\n",
    "        for n in self.n_hiddens:\n",
    "            layers.append(nn.Linear(n_hidden_prev, n))\n",
    "            layers.append(nn.ReLU())\n",
    "            n_hidden_prev = n\n",
    "        layers.append(nn.Linear(n_hidden_prev, n_components*(2*n_output + 1)))\n",
    "        self.encoder = nn.Sequential(*layers)\n",
    "        self.softmax = nn.Softmax(dim=1)\n",
    "\n",
    "    def forward(self, x):\n",
    "        x = self.encoder(x)\n",
    "        logsigma = torch.clamp(0.5*x[:, :self.n_components*self.n_output], \n",
    "                            self.logsigma_min, \n",
    "                            self.logsigma_max)\n",
    "        logsigma = logsigma.view(-1, self.n_components, self.n_output)\n",
    "        mu = x[:, (self.n_components*self.n_output):(self.n_components*self.n_output*2)]\n",
    "        mu = mu.view(-1, self.n_components, self.n_output)\n",
    "        logpi = torch.log(self.softmax(x[:, (self.n_components*self.n_output*2):]))\n",
    "        logpi = logpi.view(-1, self.n_components)\n",
    "        \n",
    "        return logpi, logsigma, mu\n",
    "\n",
    "def mdn_logp(x, logpi, logsigma, mu):\n",
    "    '''Loss function of a mixture density network is the negative log likelihood of a Gaussian mixture\n",
    "    Args:\n",
    "        x: Tensor of shape [batch_size, n_dim]\n",
    "        logpi: Tensor of shape [batch_size, n_components]\n",
    "        logsigma: Tensor of shape [batch_size, n_components, n_dim]\n",
    "        mu: Tensor of shape [batch_size, n_components, n_dim]\n",
    "    Returns:\n",
    "        Log likelihoods of input samples. Tensor of shape [batch_size]\n",
    "    '''\n",
    "    batch_size, n_components, n_dim = logsigma.size()\n",
    "    x = x.view(batch_size, -1, n_dim)\n",
    "    logpi = logpi.view(batch_size, n_components, -1)\n",
    "    var = torch.pow(torch.exp(logsigma), 2)\n",
    "    #print(x.size(), logpi.size(), logsigma.size(), mu.size())\n",
    "    ll_gaussian = -float(0.5*np.log(2*np.pi)) - logsigma - 0.5/var*torch.pow(x - mu, 2)\n",
    "    ll = torch.logsumexp(ll_gaussian + logpi, 1)\n",
    "    return ll\n",
    "\n",
    "def mdn_loss(x, logpi, logsigma, mu):\n",
    "    '''Same as mdn_logp except that the log likelihoods are negated and averaged across samples\n",
    "    Returns:\n",
    "        Negative log likelihood of input samples averaged over samples. A scalar.\n",
    "    '''\n",
    "    return torch.mean(-mdn_logp(x, logpi, logsigma, mu))"
   ]
  },
  {
   "cell_type": "code",
   "execution_count": 22,
   "metadata": {},
   "outputs": [
    {
     "data": {
      "text/plain": [
       "MixtureDensityNetwork(\n",
       "  (encoder): Sequential(\n",
       "    (0): Linear(in_features=24, out_features=10, bias=True)\n",
       "    (1): ReLU()\n",
       "    (2): Linear(in_features=10, out_features=10, bias=True)\n",
       "    (3): ReLU()\n",
       "    (4): Linear(in_features=10, out_features=10, bias=True)\n",
       "    (5): ReLU()\n",
       "    (6): Linear(in_features=10, out_features=30, bias=True)\n",
       "  )\n",
       "  (softmax): Softmax()\n",
       ")"
      ]
     },
     "execution_count": 22,
     "metadata": {},
     "output_type": "execute_result"
    }
   ],
   "source": [
    "model = MixtureDensityNetwork(n_input=24, n_output=2, n_components=6, n_hiddens=[10, 10, 10])\n",
    "optimizer = optim.Adam(model.parameters())\n",
    "model"
   ]
  },
  {
   "cell_type": "code",
   "execution_count": 23,
   "metadata": {},
   "outputs": [
    {
     "data": {
      "text/plain": [
       "((750, 24), (750, 2))"
      ]
     },
     "execution_count": 23,
     "metadata": {},
     "output_type": "execute_result"
    }
   ],
   "source": [
    "X_train.shape,y_train.shape"
   ]
  },
  {
   "cell_type": "markdown",
   "metadata": {},
   "source": [
    "## scale data to deal with loss exploding problem"
   ]
  },
  {
   "cell_type": "code",
   "execution_count": 24,
   "metadata": {},
   "outputs": [],
   "source": [
    "from sklearn.preprocessing import MinMaxScaler\n",
    "def preprocess(data):\n",
    "    scaler = MinMaxScaler()\n",
    "    scaler.fit(data)\n",
    "    return scaler.transform(data),scaler\n",
    "scalers = {}\n",
    "datas = [X_train, X_test, y_train, y_test]\n",
    "for i in range(4):\n",
    "    datas[i],scalers[i]  = preprocess(datas[i])\n",
    "X_train_, X_test_, y_train_, y_test_ = datas"
   ]
  },
  {
   "cell_type": "code",
   "execution_count": 25,
   "metadata": {},
   "outputs": [
    {
     "name": "stdout",
     "output_type": "stream",
     "text": [
      "('X_train.shape =', (750, 24), 'X_test.shape =', (250, 24))\n"
     ]
    }
   ],
   "source": [
    "# create data loaders\n",
    "batch_size = 5\n",
    "train_ = utilsdata.TensorDataset(torch.from_numpy(X_train_.astype('float32')),\n",
    "                                torch.from_numpy(y_train_.astype('float32')))\n",
    "test_ = utilsdata.TensorDataset(torch.from_numpy(X_test_.astype('float32')),\n",
    "                               torch.from_numpy(y_test_.astype('float32')))\n",
    "train_loader_ = torch.utils.data.DataLoader(\n",
    "                 dataset=train_,\n",
    "                 batch_size=batch_size,\n",
    "                 shuffle=True)\n",
    "test_loader_ = torch.utils.data.DataLoader(\n",
    "                dataset=test_,\n",
    "                batch_size=batch_size,\n",
    "                shuffle=False)\n",
    "\n",
    "#print('X.shape =', X.shape)\n",
    "print('X_train.shape =', X_train.shape, 'X_test.shape =', X_test.shape)\n",
    "#fig, ax = plt.subplots(figsize=(7, 7))\n",
    "#ax.scatter(x, y, s=3)"
   ]
  },
  {
   "cell_type": "code",
   "execution_count": 26,
   "metadata": {
    "scrolled": true
   },
   "outputs": [
    {
     "data": {
      "application/vnd.jupyter.widget-view+json": {
       "model_id": "862954ca04de4d90a6a2fa77af8b1ce9",
       "version_major": 2,
       "version_minor": 0
      },
      "text/html": [
       "<p>Failed to display Jupyter Widget of type <code>HBox</code>.</p>\n",
       "<p>\n",
       "  If you're reading this message in the Jupyter Notebook or JupyterLab Notebook, it may mean\n",
       "  that the widgets JavaScript is still loading. If this message persists, it\n",
       "  likely means that the widgets JavaScript library is either not installed or\n",
       "  not enabled. See the <a href=\"https://ipywidgets.readthedocs.io/en/stable/user_install.html\">Jupyter\n",
       "  Widgets Documentation</a> for setup instructions.\n",
       "</p>\n",
       "<p>\n",
       "  If you're reading this message in another frontend (for example, a static\n",
       "  rendering on GitHub or <a href=\"https://nbviewer.jupyter.org/\">NBViewer</a>),\n",
       "  it may mean that your frontend doesn't currently support widgets.\n",
       "</p>\n"
      ],
      "text/plain": [
       "HBox(children=(IntProgress(value=0, max=200), HTML(value=u'')))"
      ]
     },
     "metadata": {},
     "output_type": "display_data"
    },
    {
     "name": "stdout",
     "output_type": "stream",
     "text": [
      "[Epoch 0] train loss: 0.563755670941, test loss: 0.103522505881\n",
      "[Epoch 10] train loss: -1.30569738408, test loss: -1.16924782068\n",
      "[Epoch 20] train loss: -1.50185659091, test loss: -1.32165518999\n",
      "[Epoch 30] train loss: -1.59956286907, test loss: -1.34642269373\n",
      "[Epoch 40] train loss: -1.66279581467, test loss: -1.46164256275\n",
      "[Epoch 50] train loss: -1.68422241529, test loss: -1.57113649607\n",
      "[Epoch 60] train loss: -1.72124024113, test loss: -1.50270547628\n",
      "[Epoch 70] train loss: -1.76500417193, test loss: -1.58856738925\n",
      "[Epoch 80] train loss: -1.78618521531, test loss: -1.64899716616\n",
      "[Epoch 90] train loss: -1.83518881718, test loss: -1.65429005623\n",
      "[Epoch 100] train loss: -1.85074647983, test loss: -1.67052071095\n",
      "[Epoch 110] train loss: -1.88710207701, test loss: -1.62829646826\n",
      "[Epoch 120] train loss: -1.90229050001, test loss: -1.75099589109\n",
      "[Epoch 130] train loss: -1.92689812104, test loss: -1.63488211155\n",
      "[Epoch 140] train loss: -1.94558029652, test loss: -1.60697557926\n",
      "[Epoch 150] train loss: -1.93383624554, test loss: -1.63714557171\n",
      "[Epoch 160] train loss: -1.95706809839, test loss: -1.76963592291\n",
      "[Epoch 170] train loss: -1.96146294276, test loss: -1.81868468523\n",
      "[Epoch 180] train loss: -1.96967385213, test loss: -1.75737809181\n",
      "[Epoch 190] train loss: -1.97472501198, test loss: -1.76820429087\n"
     ]
    }
   ],
   "source": [
    "trainlosses, testlosses = {},{}\n",
    "for epoch in tqdm(range(200)):\n",
    "    train_loss = []\n",
    "    for i_batch, batch_data in enumerate(train_loader_):\n",
    "        x, y = batch_data\n",
    "        model.zero_grad()\n",
    "        logpi, logsigma, mu = model(x) \n",
    "        loss = mdn_loss(y, logpi, logsigma, mu)\n",
    "        loss.backward()\n",
    "        optimizer.step() \n",
    "        train_loss.append(loss.item()*x.size()[0])\n",
    "    train_loss = np.sum(train_loss)/len(train_loader_.dataset)\n",
    "    \n",
    "    test_loss = []\n",
    "    with torch.no_grad():\n",
    "        for i_batch, batch_data in enumerate(test_loader_):\n",
    "            x, y = batch_data\n",
    "            logpi, logsigma, mu = model(x) \n",
    "            loss = mdn_loss(y, logpi, logsigma, mu)\n",
    "            test_loss.append(loss.item()*x.size()[0])\n",
    "        test_loss = np.sum(test_loss)/len(test_loader_.dataset)\n",
    "    \n",
    "    if epoch%10 == 0:\n",
    "        print('[Epoch {:d}] train loss: {}, test loss: {}'.format(epoch, train_loss, test_loss))\n",
    "    trainlosses[epoch] = train_loss\n",
    "    testlosses[epoch] = test_loss"
   ]
  },
  {
   "cell_type": "code",
   "execution_count": 27,
   "metadata": {},
   "outputs": [
    {
     "data": {
      "text/plain": [
       "(torch.Size([250, 6]), torch.Size([250, 6, 2]), torch.Size([250, 6, 2]))"
      ]
     },
     "execution_count": 27,
     "metadata": {},
     "output_type": "execute_result"
    }
   ],
   "source": [
    "logpi_pred, logsigma_pred, mu_pred = model(torch.Tensor(X_test_))\n",
    "logpi_pred.size(), logsigma_pred.size(), mu_pred.size()"
   ]
  },
  {
   "cell_type": "code",
   "execution_count": 28,
   "metadata": {},
   "outputs": [],
   "source": [
    "def get_original_parameters(logpi, logsigma, mu):\n",
    "    '''\n",
    "    input scaled and logged\n",
    "    output exped, not reversed yet \n",
    "    '''\n",
    "    pi = np.exp(logpi.detach().numpy())\n",
    "    sigma = np.exp(logsigma.detach().numpy())\n",
    "    mu = mu.detach().numpy()\n",
    "    return pi, sigma, mu"
   ]
  },
  {
   "cell_type": "code",
   "execution_count": 29,
   "metadata": {},
   "outputs": [
    {
     "data": {
      "text/plain": [
       "((250, 6), (250, 6, 2), (250, 6, 2))"
      ]
     },
     "execution_count": 29,
     "metadata": {},
     "output_type": "execute_result"
    }
   ],
   "source": [
    "pi_reversed, sigma_reversed, mu_reversed = get_original_parameters(logpi_pred, logsigma_pred, mu_pred)\n",
    "pi_reversed.shape, sigma_reversed.shape, mu_reversed.shape"
   ]
  },
  {
   "cell_type": "code",
   "execution_count": 30,
   "metadata": {},
   "outputs": [],
   "source": [
    "class IsotropicGaussianMixture(object):\n",
    "    def __init__(self, n_components=2, n_dim=1):\n",
    "        self.n_components = n_components\n",
    "        self.n_dim = n_dim\n",
    "        self.pi = np.full(n_components, 1.0/n_components)\n",
    "        self.sigma = np.ones((n_components, n_dim))\n",
    "        self.mu = np.zeros((n_components, n_dim))\n",
    "    \n",
    "    def init_params(self):\n",
    "        self.pi = np.random.dirichlet(alpha=[0.8]*self.n_components)\n",
    "        self.mu = np.random.uniform(-3, 3, size=(self.n_components, self.n_dim))\n",
    "        self.sigma = np.sqrt(np.random.gamma(shape=1, size=(self.n_components, self.n_dim)))\n",
    "        return self\n",
    "    \n",
    "    def set_params(self, pi=None, mu=None, sigma=None):\n",
    "        if pi is not None:\n",
    "            self.pi = pi\n",
    "        if mu is not None:\n",
    "            self.mu = mu\n",
    "        if sigma is not None:\n",
    "            self.sigma = sigma\n",
    "        #print (self.pi,self.mu,self.sigma)\n",
    "        return self\n",
    "    \n",
    "    def pdf(self, x):\n",
    "        '''Calculate probability density of given points\n",
    "        Args:\n",
    "            x: ndarray of shape [n_dim] or [n_samples, n_dim]\n",
    "        Returns:\n",
    "            p: probality densities of given points\n",
    "                if x is an ndarray of shape [n_dim], p is a scalar\n",
    "                if x is an ndarray of shape [n_samples, n_dim], p is a \n",
    "        '''\n",
    "        K, D = self.n_components, self.n_dim\n",
    "        x = np.atleast_1d(x)\n",
    "        if len(x.shape) == 1:\n",
    "            assert x.shape[0] == D\n",
    "            x = x.reshape((1, D))\n",
    "            p_c = 1.0/np.power(2*np.pi, 0.5*D)/np.prod(self.sigma, axis=-1)\n",
    "            p_c *= np.exp(-0.5*np.sum(np.square((x - self.mu)/self.sigma), axis=-1))\n",
    "            p = np.sum(self.pi*p_c, axis=-1)\n",
    "        else:\n",
    "            assert x.shape[1] == D\n",
    "            N = x.shape[0]\n",
    "            x = x.reshape((N, 1, D))\n",
    "            pi = self.pi.reshape((1, K))\n",
    "            sigma = self.sigma.reshape((1, K, D))\n",
    "            mu = self.mu.reshape((1, K, D))\n",
    "            p_c = 1.0/np.power(2*np.pi, 0.5*D)/np.prod(sigma, axis=-1)\n",
    "            p_c = p_c*np.exp(-0.5*np.sum(np.square((x - mu)/sigma), axis=-1))\n",
    "            p = np.sum(pi*p_c, axis=-1)\n",
    "        return p\n",
    "\n",
    "    def __repr__(self):\n",
    "        s = []\n",
    "        s.append('n_components = {}'.format(self.n_components))\n",
    "        s.append('n_dim = {}'.format(self.n_dim))\n",
    "        s.append('pi = [{}]'.format(', '.join(self.pi.astype('str'))))\n",
    "        for i in range(self.n_components):\n",
    "            s.append('  mu[{:d}] = [{}]'.format(i, ', '.join(self.mu[i].astype('str'))))\n",
    "            s.append('  sigma[{:d}] = [{}]'.format(i, ', '.join(self.sigma[i].astype('str'))))\n",
    "        return '\\n'.join(s)\n",
    "    \n",
    "    def mean_shift(self, x, tol=1e-6):\n",
    "        '''Run mean-shift algorithm to find a mode\n",
    "        Args:\n",
    "            x: initial guess for a mode\n",
    "            tol: absolute error in modes between iterations for defining convergence\n",
    "        Returns:\n",
    "            mode: ndarray of shape [n_dim]. Mode found.\n",
    "        '''\n",
    "        K, D = self.n_components, self.n_dim\n",
    "        \n",
    "        x_old = x\n",
    "        while True:\n",
    "            kernel = self.pi.reshape((K, 1))/np.prod(self.sigma, axis=1, keepdims=True)/np.square(self.sigma)\n",
    "            kernel *= np.exp(-0.5*np.sum(np.square((x.reshape((1, D)) - self.mu)/self.sigma), axis=-1)).reshape((K, 1))\n",
    "            x = np.sum(kernel*self.mu, axis=0)/np.sum(kernel, axis=0)\n",
    "            if np.sqrt(np.sum(np.abs(x - x_old))) < tol:\n",
    "                break\n",
    "            x_old = x\n",
    "        return x\n",
    "\n",
    "    def find_modes(self, n_init=10, tol_mean_shift=1e-6, tol_merge_modes=1e-3):\n",
    "        '''Find modes in the gaussian mixture model\n",
    "        Args:\n",
    "            n_init: number of random initializations\n",
    "            tol_mean_shift: absolute error in modes between iterations for defining convergence\n",
    "            tol_merge_modes: absolute error between modes for merging modes\n",
    "        Returns:\n",
    "            modes: ndarray of shape [n_modes, n_dim]. Modes found.\n",
    "        '''\n",
    "        K, D = self.n_components, self.n_dim\n",
    "        # set range of high density region for finding modes\n",
    "        #print self.mu, self.sigma\n",
    "        range_min = np.min(self.mu - self.sigma)\n",
    "        range_max = np.max(self.mu + self.sigma)\n",
    "        modes = np.empty((0, D))\n",
    "        for i in range(n_init):\n",
    "            x = np.random.uniform(range_min, range_max, size=D)\n",
    "            x_old = x\n",
    "            n_iter = 0\n",
    "            while True:\n",
    "                n_iter += 1\n",
    "                kernel = self.pi.reshape((K, 1))/np.prod(self.sigma, axis=1, keepdims=True)/np.square(self.sigma)\n",
    "                kernel *= np.exp(-0.5*np.sum(np.square((x.reshape((1, D)) - self.mu)/self.sigma), axis=-1)).reshape((K, 1))\n",
    "                x = np.sum(kernel*self.mu, axis=0)/np.sum(kernel, axis=0)\n",
    "                if np.sum(np.abs(x - x_old)) < tol_mean_shift:\n",
    "                    break\n",
    "                x_old = x\n",
    "            if len(modes) == 0:\n",
    "                modes = np.append(modes, x.reshape((1, D)), axis=0)\n",
    "            else:\n",
    "                if np.min(np.sum(np.abs(x.reshape((1, D)) - modes), axis=1)) > tol_merge_modes:\n",
    "                    modes = np.append(modes, x.reshape((1, D)), axis=0)\n",
    "        return modes"
   ]
  },
  {
   "cell_type": "code",
   "execution_count": 31,
   "metadata": {},
   "outputs": [],
   "source": [
    "def get_prediction(pi,mu,sigma):\n",
    "    model = IsotropicGaussianMixture(n_components=6, n_dim=2)\n",
    "    model.set_params(pi,mu,sigma)\n",
    "    modes = model.find_modes(n_init=10)\n",
    "    p_modes = model.pdf(modes)\n",
    "    #print p_modes,modes\n",
    "    index=np.where(p_modes==np.max(p_modes))\n",
    "    return p_modes[index[0]], modes[index[0]]"
   ]
  },
  {
   "cell_type": "code",
   "execution_count": 32,
   "metadata": {},
   "outputs": [
    {
     "data": {
      "text/plain": [
       "(array([64.2076873]), array([[ 0.66706282, -0.0176737 ]]))"
      ]
     },
     "execution_count": 32,
     "metadata": {},
     "output_type": "execute_result"
    }
   ],
   "source": [
    "ind = 150\n",
    "get_prediction(pi_reversed[ind], mu_reversed[ind],sigma_reversed[ind])"
   ]
  },
  {
   "cell_type": "code",
   "execution_count": 33,
   "metadata": {},
   "outputs": [],
   "source": [
    "def plot_result(ax,ind):\n",
    "    gaussianmodel = IsotropicGaussianMixture(n_components=6, n_dim=2)\n",
    "    gaussianmodel.set_params(pi_reversed[ind],  mu_reversed[ind], sigma_reversed[ind])\n",
    "    X_grid, Y_grid = np.mgrid[-5:5:0.02, -5:5:0.02]\n",
    "    X = np.column_stack([X_grid.ravel(), Y_grid.ravel()])\n",
    "    modes = gaussianmodel.find_modes(n_init=10)\n",
    "    #print ('modes',modes)\n",
    "    #print ('p_modes',gaussianmodel.pdf(modes))\n",
    "    ax.contour(X_grid, Y_grid, gaussianmodel.pdf(X).reshape(X_grid.shape), \n",
    "                   linewidths=0.5, levels=np.linspace(0, 1, 80))\n",
    "    ax.set_title('sample '+str(ind))"
   ]
  },
  {
   "cell_type": "code",
   "execution_count": 34,
   "metadata": {},
   "outputs": [
    {
     "data": {
      "image/png": "[encoded data removed]",
      "text/plain": [
       "<matplotlib.figure.Figure at 0x1c206e8a50>"
      ]
     },
     "metadata": {},
     "output_type": "display_data"
    }
   ],
   "source": [
    "fig,ax=plt.subplots(4,4,figsize=(20,20))\n",
    "for i in range(4):\n",
    "    for j in range(4):\n",
    "        plot_result(ax[i,j],150+i*4+j)"
   ]
  },
  {
   "cell_type": "code",
   "execution_count": 44,
   "metadata": {},
   "outputs": [
    {
     "data": {
      "application/vnd.jupyter.widget-view+json": {
       "model_id": "524b6b3894804e5fb8c747b39aa3d190",
       "version_major": 2,
       "version_minor": 0
      },
      "text/html": [
       "<p>Failed to display Jupyter Widget of type <code>HBox</code>.</p>\n",
       "<p>\n",
       "  If you're reading this message in the Jupyter Notebook or JupyterLab Notebook, it may mean\n",
       "  that the widgets JavaScript is still loading. If this message persists, it\n",
       "  likely means that the widgets JavaScript library is either not installed or\n",
       "  not enabled. See the <a href=\"https://ipywidgets.readthedocs.io/en/stable/user_install.html\">Jupyter\n",
       "  Widgets Documentation</a> for setup instructions.\n",
       "</p>\n",
       "<p>\n",
       "  If you're reading this message in another frontend (for example, a static\n",
       "  rendering on GitHub or <a href=\"https://nbviewer.jupyter.org/\">NBViewer</a>),\n",
       "  it may mean that your frontend doesn't currently support widgets.\n",
       "</p>\n"
      ],
      "text/plain": [
       "HBox(children=(IntProgress(value=0, max=250), HTML(value=u'')))"
      ]
     },
     "metadata": {},
     "output_type": "display_data"
    }
   ],
   "source": [
    "prediction_xy = np.ndarray([250,2])\n",
    "probabes = np.ndarray([250])\n",
    "for i in tqdm(range(250)):\n",
    "    probabes[i], prediction_xy[i] = get_prediction(pi_reversed[i], mu_reversed[i],sigma_reversed[i])"
   ]
  },
  {
   "cell_type": "code",
   "execution_count": 36,
   "metadata": {},
   "outputs": [],
   "source": [
    "prediction_xy_reverse = scalers[3].inverse_transform(prediction_xy)"
   ]
  },
  {
   "cell_type": "code",
   "execution_count": 37,
   "metadata": {},
   "outputs": [],
   "source": [
    "def plot_arrow(y_testdata,y_test):\n",
    "    fig,ax=plt.subplots(1,figsize=(9,9))\n",
    "    c = np.sum(y_testdata**2+y_test**2,axis=1)\n",
    "    ax.scatter(y_testdata[:,0],y_testdata[:,1], s=25, c=c, cmap=plt.cm.coolwarm, zorder=10)\n",
    "    ax.scatter(y_test[:,0],y_test[:,1], s=25, c=c, cmap=plt.cm.coolwarm, zorder=10)\n",
    "    lims = [\n",
    "        np.min([ax.get_xlim(), ax.get_ylim()]),  \n",
    "        np.max([ax.get_xlim(), ax.get_ylim()]),  \n",
    "    ]\n",
    "    ax.plot(lims, lims, 'k-', alpha=0.75, zorder=0)\n",
    "    ax.set_aspect('equal')\n",
    "    ax.set_xlim(lims)\n",
    "    ax.set_ylim(lims)\n",
    "    xorigin = y_testdata[:,0].ravel()\n",
    "    yorigin = y_testdata[:,1].ravel()\n",
    "    dx = y_test[:,0].ravel()-y_testdata[:,0].ravel()\n",
    "    dy = y_test[:,1].ravel()-y_testdata[:,1].ravel()\n",
    "    print (xorigin.shape, yorigin.shape, dx.shape, dy.shape)\n",
    "    ax.arrow(xorigin[2], yorigin[2], dx[2], dy[2], color = 'b')\n",
    "    for i in range(y_testdata.shape[0]):\n",
    "        ax.arrow(y_testdata[i,0],y_testdata[i,1],\n",
    "            y_test[i,0]-y_testdata[i,0],y_test[i,1]-y_testdata[i,1],color = 'b')\n",
    "#for i in range(y_testdata.shape[0]):\n",
    "#    ax.arrow(y_testdata[i,0],y_testdata[i,1],\n",
    "#            y_test[i,0]-y_testdata[i,0],y_test[i,1]-y_testdata[i,1],color = 'b')"
   ]
  },
  {
   "cell_type": "code",
   "execution_count": 41,
   "metadata": {},
   "outputs": [
    {
     "data": {
      "text/plain": [
       "(492.72935721675634, (0.985659449330351, 0.0))"
      ]
     },
     "execution_count": 41,
     "metadata": {},
     "output_type": "execute_result"
    }
   ],
   "source": [
    "def report_metrics(y_test_data,y_test):\n",
    "    rmse = np.mean(np.sum((y_test_data - y_test)**2,axis=1)**0.5)\n",
    "    pcc = scipy.stats.pearsonr(y_test_data.ravel(),y_test.ravel())\n",
    "    return rmse,pcc\n",
    "report_metrics(prediction_xy_reverse,y_test)"
   ]
  },
  {
   "cell_type": "code",
   "execution_count": 42,
   "metadata": {},
   "outputs": [
    {
     "data": {
      "text/plain": [
       "(250, 2)"
      ]
     },
     "execution_count": 42,
     "metadata": {},
     "output_type": "execute_result"
    }
   ],
   "source": [
    "y_test.shape"
   ]
  },
  {
   "cell_type": "code",
   "execution_count": 43,
   "metadata": {},
   "outputs": [
    {
     "name": "stdout",
     "output_type": "stream",
     "text": [
      "((250,), (250,), (250,), (250,))\n"
     ]
    },
    {
     "data": {
      "image/png": "[encoded data removed]",
      "text/plain": [
       "<matplotlib.figure.Figure at 0x1c2a24f6d0>"
      ]
     },
     "metadata": {},
     "output_type": "display_data"
    }
   ],
   "source": [
    "plot_arrow(prediction_xy_reverse,y_test)"
   ]
  },
  {
   "cell_type": "code",
   "execution_count": 45,
   "metadata": {},
   "outputs": [
    {
     "data": {
      "text/plain": [
       "array([6.42076822e+01, 6.42076837e+01, 6.42076874e+01, 6.42076807e+01,\n",
       "       6.42076874e+01, 6.42076874e+01, 6.42076895e+01, 5.58013206e-10,\n",
       "       6.10804204e+01, 6.42076874e+01, 6.42076286e+01, 6.42076802e+01,\n",
       "       6.42076874e+01, 6.42076874e+01, 6.42076856e+01, 6.42076874e+01,\n",
       "       6.42069181e+01, 6.42075462e+01, 6.42069589e+01, 6.42074565e+01,\n",
       "       6.42075758e+01, 6.42024558e+01, 6.42076878e+01, 6.42076874e+01,\n",
       "       6.42073468e+01, 6.42074744e+01, 6.42076874e+01, 6.42076874e+01,\n",
       "       6.42076874e+01, 6.42076425e+01, 6.42076874e+01, 6.42073529e+01,\n",
       "       6.42076875e+01, 6.42076874e+01, 6.42076874e+01, 6.42076874e+01,\n",
       "       6.42076876e+01, 6.42075115e+01, 6.42074472e+01, 6.42076837e+01,\n",
       "       6.42076874e+01, 6.42076874e+01, 6.42076874e+01, 6.42073656e+01,\n",
       "       6.42076819e+01, 6.42076623e+01, 6.42076695e+01, 6.42076874e+01,\n",
       "       6.42076674e+01, 6.42070520e+01, 6.42076874e+01, 6.42055213e+01,\n",
       "       6.42076874e+01, 6.42076874e+01, 6.42076874e+01, 6.42076874e+01,\n",
       "       6.42076874e+01, 6.42070928e+01, 6.42076874e+01, 6.42076874e+01,\n",
       "       6.42076874e+01, 6.42076355e+01, 6.42076874e+01, 6.42076875e+01,\n",
       "       6.42076874e+01, 6.42076874e+01, 6.42076874e+01, 6.42076874e+01,\n",
       "       6.42076874e+01, 6.42076879e+01, 6.42076874e+01, 6.42076075e+01,\n",
       "       6.42076875e+01, 6.42076732e+01, 6.42076874e+01, 6.42076874e+01,\n",
       "       6.42074781e+01, 6.42076875e+01, 6.42076490e+01, 6.42076874e+01,\n",
       "       6.42076874e+01, 6.42076874e+01, 6.42076874e+01, 6.42073591e+01,\n",
       "       6.42072190e+01, 6.42076889e+01, 6.07893407e+01, 6.42076881e+01,\n",
       "       6.42076881e+01, 6.42076812e+01, 6.42076874e+01, 6.42069810e+01,\n",
       "       6.42076664e+01, 6.42064248e+01, 6.42076874e+01, 6.42076229e+01,\n",
       "       6.42076874e+01, 6.42076824e+01, 6.42076874e+01, 6.42076874e+01,\n",
       "       6.42076814e+01, 6.42076874e+01, 6.42076874e+01, 6.42076874e+01,\n",
       "       6.42074957e+01, 6.42076726e+01, 6.42076880e+01, 6.42076804e+01,\n",
       "       6.42076798e+01, 6.42076736e+01, 6.42074866e+01, 6.42059735e+01,\n",
       "       6.42076884e+01, 6.42076882e+01, 6.42076874e+01, 6.42076874e+01,\n",
       "       6.42076874e+01, 6.42076879e+01, 6.42076874e+01, 6.42076690e+01,\n",
       "       6.42076573e+01, 6.42076169e+01, 6.42076874e+01, 6.42062888e+01,\n",
       "       6.42076507e+01, 6.42076070e+01, 6.42063690e+01, 6.42076874e+01,\n",
       "       6.42076874e+01, 6.42076874e+01, 6.42076685e+01, 6.42076874e+01,\n",
       "       6.42075984e+01, 6.42076874e+01, 6.42075365e+01, 6.42076875e+01,\n",
       "       6.42076619e+01, 6.42076801e+01, 6.42076874e+01, 6.42076874e+01,\n",
       "       6.42076799e+01, 6.42076862e+01, 6.42076876e+01, 6.42076874e+01,\n",
       "       6.42068413e+01, 6.42076874e+01, 6.42076874e+01, 6.42076874e+01,\n",
       "       6.42073694e+01, 6.42076879e+01, 6.42076873e+01, 6.42076775e+01,\n",
       "       6.42076874e+01, 6.42076874e+01, 6.42076881e+01, 6.42076875e+01,\n",
       "       6.42068543e+01, 6.42076874e+01, 6.42076874e+01, 6.42076880e+01,\n",
       "       6.42076751e+01, 6.42076875e+01, 6.42075078e+01, 6.42075047e+01,\n",
       "       6.42076757e+01, 6.42076716e+01, 6.42076801e+01, 6.42076880e+01,\n",
       "       6.42076874e+01, 6.42076839e+01, 6.42076875e+01, 6.42076856e+01,\n",
       "       6.42076812e+01, 6.42076874e+01, 6.42076761e+01, 6.42076874e+01,\n",
       "       6.42076875e+01, 6.42076874e+01, 6.42076874e+01, 6.42034039e+01,\n",
       "       6.42076874e+01, 6.42076874e+01, 6.42076801e+01, 6.42076874e+01,\n",
       "       6.42076815e+01, 6.42076891e+01, 6.42076874e+01, 6.42076750e+01,\n",
       "       6.42076874e+01, 6.42076726e+01, 6.42076874e+01, 6.42076874e+01,\n",
       "       6.42076874e+01, 6.42076874e+01, 6.42076811e+01, 6.42070647e+01,\n",
       "       5.93042118e+01, 6.42076874e+01, 6.42076875e+01, 6.42076874e+01,\n",
       "       6.42073245e+01, 6.42076807e+01, 6.42076539e+01, 6.42076765e+01,\n",
       "       6.42076874e+01, 6.42076800e+01, 6.42074104e+01, 6.42076876e+01,\n",
       "       6.42076805e+01, 6.42076874e+01, 6.42076874e+01, 6.42076874e+01,\n",
       "       6.42076764e+01, 6.42076874e+01, 6.42076876e+01, 6.42076875e+01,\n",
       "       6.42076853e+01, 6.42076811e+01, 6.42076874e+01, 6.42076874e+01,\n",
       "       6.42070498e+01, 6.42076874e+01, 6.42076874e+01, 6.42076874e+01,\n",
       "       6.42076874e+01, 6.42073787e+01, 6.42074859e+01, 6.42076876e+01,\n",
       "       6.42068995e+01, 6.42076775e+01, 6.42076204e+01, 6.42076877e+01,\n",
       "       6.42076874e+01, 6.42076875e+01, 6.42069174e+01, 6.42076277e+01,\n",
       "       6.42076813e+01, 6.42076874e+01, 6.42076808e+01, 6.42076874e+01,\n",
       "       6.42076874e+01, 6.42076422e+01, 6.42076838e+01, 6.42076874e+01,\n",
       "       6.42076874e+01, 6.42076874e+01, 6.42076801e+01, 6.42076099e+01,\n",
       "       6.42076874e+01, 6.42076859e+01])"
      ]
     },
     "execution_count": 45,
     "metadata": {},
     "output_type": "execute_result"
    }
   ],
   "source": [
    "probabes"
   ]
  },
  {
   "cell_type": "markdown",
   "metadata": {},
   "source": [
    "### 后续思路\n",
    "- probablity 大于1且非常大\n",
    "- 大规模测试参数： RMSE作为衡量指标\n",
    "    - Gaussian数量\n",
    "    - MLP网络相关参数\n",
    "        - layer\n",
    "        - activation...\n",
    "- outlier：距离差大的是不是不确定度也大\n",
    "    - 看看误差大的样本是不是不确定度也大，如果真的相关性强的话，那我们就找到了一个很好的方法来衡量样本的预测难度\n",
    "- 借鉴bishop的一些绘图思路，可视化出来probablity\n",
    "- 生成二维分布时是否可以考虑$\\rho$\n",
    "- 其他\n",
    "- 与其他模型比较，可信度可以直接得知？"
   ]
  },
  {
   "cell_type": "code",
   "execution_count": null,
   "metadata": {},
   "outputs": [],
   "source": []
  }
 ],
 "metadata": {
  "kernelspec": {
   "display_name": "Python 3",
   "language": "python",
   "name": "python3"
  },
  "language_info": {
   "codemirror_mode": {
    "name": "ipython",
    "version": 2
   },
   "file_extension": ".py",
   "mimetype": "text/x-python",
   "name": "python",
   "nbconvert_exporter": "python",
   "pygments_lexer": "ipython2",
   "version": "2.7.14"
  },
  "latex_envs": {
   "LaTeX_envs_menu_present": true,
   "autoclose": false,
   "autocomplete": true,
   "bibliofile": "biblio.bib",
   "cite_by": "apalike",
   "current_citInitial": 1,
   "eqLabelWithNumbers": true,
   "eqNumInitial": 1,
   "hotkeys": {
    "equation": "Ctrl-E",
    "itemize": "Ctrl-I"
   },
   "labels_anchors": false,
   "latex_user_defs": false,
   "report_style_numbering": false,
   "user_envs_cfg": false
  },
  "toc": {
   "base_numbering": 1,
   "nav_menu": {},
   "number_sections": true,
   "sideBar": true,
   "skip_h1_title": false,
   "title_cell": "Table of Contents",
   "title_sidebar": "Contents",
   "toc_cell": false,
   "toc_position": {},
   "toc_section_display": true,
   "toc_window_display": false
  }
 },
 "nbformat": 4,
 "nbformat_minor": 2
}
