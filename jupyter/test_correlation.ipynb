{
 "cells": [
  {
   "cell_type": "code",
   "execution_count": 92,
   "metadata": {},
   "outputs": [
    {
     "name": "stdout",
     "output_type": "stream",
     "text": [
      "Populating the interactive namespace from numpy and matplotlib\n"
     ]
    },
    {
     "name": "stderr",
     "output_type": "stream",
     "text": [
      "/home/xupeng/anaconda3/lib/python3.6/site-packages/IPython/core/magics/pylab.py:160: UserWarning: pylab import has clobbered these variables: ['Text']\n",
      "`%matplotlib` prevents importing * from pylab and numpy\n",
      "  \"\\n`%matplotlib` prevents importing * from pylab and numpy\"\n",
      "/home/xupeng/anaconda3/lib/python3.6/site-packages/h5py/__init__.py:36: FutureWarning: Conversion of the second argument of issubdtype from `float` to `np.floating` is deprecated. In future, it will be treated as `np.float64 == np.dtype(float).type`.\n",
      "  from ._conv import register_converters as _register_converters\n"
     ]
    }
   ],
   "source": [
    "import gc, argparse, sys, os, errno\n",
    "%pylab inline\n",
    "import numpy as np\n",
    "import pandas as pd\n",
    "import matplotlib.pyplot as plt\n",
    "#from beakerx import *\n",
    "plt.style.use('ggplot')\n",
    "import seaborn as sns\n",
    "sns.set()\n",
    "import h5py\n",
    "import os\n",
    "from tqdm import tqdm_notebook as tqdm\n",
    "import scipy\n",
    "import sklearn\n",
    "from scipy.stats import pearsonr\n",
    "import warnings\n",
    "warnings.filterwarnings('ignore')\n",
    "from scipy.io import loadmat\n",
    "from matplotlib.mlab import griddata\n",
    "tableau20 = np.array([(31, 119, 180), (174, 199, 232), (255, 127, 14), (255, 187, 120),  \n",
    "             (44, 160, 44), (152, 223, 138), (214, 39, 40), (255, 152, 150),  \n",
    "             (148, 103, 189), (197, 176, 213), (140, 86, 75), (196, 156, 148),  \n",
    "             (227, 119, 194), (247, 182, 210), (127, 127, 127), (199, 199, 199),  \n",
    "             (188, 189, 34), (219, 219, 141), (23, 190, 207), (158, 218, 229)])/255.\n",
    "styles = [\"white\",\"dark\",'whitegrid',\"darkgrid\"]\n",
    "contexts = ['paper','talk','poster','notebook']\n",
    "from ipywidgets import interact, FloatSlider,IntSlider, RadioButtons,Dropdown,Tab,Text,SelectMultiple,FloatRangeSlider\n",
    "from mpl_toolkits.mplot3d import Axes3D\n",
    "import matplotlib.pyplot as plt\n",
    "from matplotlib import cm\n",
    "from matplotlib.ticker import LinearLocator, FormatStrFormatter\n",
    "import numpy as np\n",
    "from mpl_toolkits.mplot3d.axes3d import *\n",
    "import matplotlib.pyplot as plt\n",
    "from matplotlib import cm\n",
    "from sklearn.preprocessing import MinMaxScaler,RobustScaler,StandardScaler,Imputer\n",
    "from sklearn.feature_selection import VarianceThreshold\n",
    "import argparse\n",
    "import numba as nb"
   ]
  },
  {
   "cell_type": "code",
   "execution_count": 3,
   "metadata": {},
   "outputs": [],
   "source": [
    "feature_counts = 10\n",
    "point_counts = 1000\n",
    "test_counts = 1000"
   ]
  },
  {
   "cell_type": "code",
   "execution_count": 4,
   "metadata": {},
   "outputs": [],
   "source": [
    "rawdata = loadmat('/home/xupeng/projects/signal/data/citydata.mat')\n",
    "RSS = rawdata['RSS']\n",
    "TOA = rawdata['TOA']\n",
    "DOA = rawdata['DOA']\n",
    "TXloc = rawdata['TX']\n",
    "RXloc = rawdata['RX']\n",
    "xyzorigin_RX = np.array([np.min(RXloc[:,0]),np.min(RXloc[:,1]),0])\n",
    "xyzorigin_TX = np.array([np.min(TXloc[:,0]),np.min(TXloc[:,1]),0])\n",
    "RXloc_shifted = RXloc - xyzorigin_RX\n",
    "TXloc_shifted = TXloc - xyzorigin_TX\n",
    "distance=np.zeros((1500,1500))\n",
    "for i in tqdm(range(1500)):\n",
    "    for j in range(1500):\n",
    "        distance[i,j]=np.linalg.norm(RXloc_shifted[i]-RXloc_shifted[j])\n",
    "#distance=np.loadtxt('/home/xupeng/projects/signal/citydata/distance.txt',dtype=np.float32)\n",
    "c=np.append(RSS,TOA,axis=1)\n",
    "combine_data=np.append(c,DOA,axis=1)"
   ]
  },
  {
   "cell_type": "code",
   "execution_count": 90,
   "metadata": {},
   "outputs": [],
   "source": [
    "def relate(index_1, index_2, features):\n",
    "    feature_rss_toa=features[features>=0]\n",
    "    feature_doa=features[features<0]\n",
    "    feature_doa=-feature_doa-1\n",
    "    feature_doax=feature_doa*3+200\n",
    "    feature_doay=feature_doax+1\n",
    "    feature_doaz=feature_doax+2\n",
    "    feature_doaxy=np.append(feature_doax,feature_doay)\n",
    "    feature_doa=np.append(feature_doaxy,feature_doaz)\n",
    "    features=np.append(feature_rss_toa,feature_doa)\n",
    "    xdata=combine_data[index_1]\n",
    "    xdata=xdata[features]\n",
    "    ydata=combine_data[index_2]\n",
    "    ydata=ydata[features]\n",
    "    an=~np.isnan(xdata)&~np.isnan(ydata)\n",
    "    xdata=xdata[an]\n",
    "    nr=1-len(xdata)/len(ydata)\n",
    "    if len(xdata) == 0:\n",
    "        return np.nan,1\n",
    "    ydata=ydata[an]\n",
    "    an=an[an]\n",
    "    r=scipy.stats.pearsonr(xdata,ydata)[0]\n",
    "    return r,nr"
   ]
  },
  {
   "cell_type": "code",
   "execution_count": 85,
   "metadata": {},
   "outputs": [],
   "source": [
    "def corelate(features):\n",
    "    batchsize=100;\n",
    "    r=np.zeros(testnum)\n",
    "    nr=np.zeros(testnum)\n",
    "    xn=np.random.randint(1,1500,size=(testnum,batchsize))\n",
    "    yn=np.random.randint(1,1500,size=(testnum,batchsize))\n",
    "    r=np.zeros((testnum,batchsize))\n",
    "    u=np.zeros((testnum,batchsize))\n",
    "    d=np.zeros((testnum,batchsize))\n",
    "    re=np.zeros(testnum)\n",
    "    nr=np.zeros(testnum)\n",
    "    for j in range(testnum):\n",
    "        nan_num=0;\n",
    "        for i in range(batchsize):\n",
    "            d[j][i]=distance[xn[j][i],yn[j][i]]\n",
    "            r[j][i],u[j][i]=relate(xn[j][i],yn[j][i],features)\n",
    "            while np.isnan(r[j][i]):\n",
    "                xn[j][i]=np.random.randint(1,1500)\n",
    "                yn[j][i]=np.random.randint(1,1500)\n",
    "                d[j][i]=distance[xn[j][i],yn[j][i]]\n",
    "                r[j][i],u[j][i]=relate(xn[j][i],yn[j][i],features)\n",
    "                nan_num=nan_num+1\n",
    "        re[j]=scipy.stats.pearsonr(d[j],r[j])[0]\n",
    "        nr[j]=(np.sum(u[j])+nan_num)/(nan_num+batchsize)\n",
    "    return -np.mean(re), np.mean(nr), xn.flatten(), yn.flatten(), r.flatten(), u.flatten()"
   ]
  },
  {
   "cell_type": "code",
   "execution_count": 97,
   "metadata": {},
   "outputs": [],
   "source": [
    "test_counts=1000\n",
    "point_counts=1000\n",
    "feature_counts=10\n"
   ]
  },
  {
   "cell_type": "code",
   "execution_count": 7,
   "metadata": {},
   "outputs": [],
   "source": [
    "batchsize=100;\n",
    "testnum=int(point_counts/batchsize)\n",
    "x_total=np.zeros((test_counts,testnum*batchsize))\n",
    "y_total=np.zeros((test_counts,testnum*batchsize))\n",
    "r_total=np.zeros((test_counts,testnum*batchsize))\n",
    "u_total=np.zeros((test_counts,testnum*batchsize))\n",
    "relation=np.zeros(test_counts)\n",
    "\n",
    "label=np.random.randint(-100,200,size=(test_counts,feature_counts))\n",
    "\n",
    "nan_rate=np.zeros(test_counts)\n"
   ]
  },
  {
   "cell_type": "code",
   "execution_count": 8,
   "metadata": {},
   "outputs": [
    {
     "name": "stderr",
     "output_type": "stream",
     "text": [
      "  0%|          | 0/1000 [00:00<?, ?it/s]/home/xupeng/anaconda3/lib/python3.6/site-packages/scipy/stats/stats.py:3010: RuntimeWarning: invalid value encountered in double_scalars\n",
      "  r = r_num / r_den\n",
      "/home/xupeng/anaconda3/lib/python3.6/site-packages/scipy/stats/stats.py:3005: RuntimeWarning: Mean of empty slice.\n",
      "  mx = x.mean()\n",
      "/home/xupeng/anaconda3/lib/python3.6/site-packages/numpy/core/_methods.py:80: RuntimeWarning: invalid value encountered in double_scalars\n",
      "  ret = ret.dtype.type(ret / rcount)\n",
      "/home/xupeng/anaconda3/lib/python3.6/site-packages/scipy/stats/stats.py:3006: RuntimeWarning: Mean of empty slice.\n",
      "  my = y.mean()\n",
      "/home/xupeng/anaconda3/lib/python3.6/site-packages/scipy/stats/stats.py:3020: RuntimeWarning: invalid value encountered in double_scalars\n",
      "  prob = _betai(0.5*df, 0.5, df/(df+t_squared))\n",
      "100%|██████████| 1000/1000 [00:41<00:00, 24.22it/s]\n"
     ]
    }
   ],
   "source": [
    "for i in tqdm(range(test_counts)):\n",
    "    relation[i],nan_rate[i],x_total[i],y_total[i],r_total[i],u_total[i]=corelate(label[i])\n"
   ]
  },
  {
   "cell_type": "code",
   "execution_count": 9,
   "metadata": {},
   "outputs": [],
   "source": [
    "index=np.argsort(-relation)\n",
    "relation=relation[index]\n",
    "label=label[index]\n",
    "nan_rate=nan_rate[index]\n",
    "x_total=x_total[index]\n",
    "y_total=y_total[index]\n",
    "u_total=u_total[index]\n",
    "r_total=r_total[index]"
   ]
  },
  {
   "cell_type": "code",
   "execution_count": 84,
   "metadata": {},
   "outputs": [
    {
     "name": "stderr",
     "output_type": "stream",
     "text": [
      "100%|██████████| 1500/1500 [00:15<00:00, 99.13it/s]\n"
     ]
    }
   ],
   "source": [
    "dir_name=('__DOA__'+str(feature_counts)+'feature_counts'+str(test_counts)+'test_counts'+str(point_counts)+'point_counts')\n",
    "path_model = os.path.join('/home/xupeng/projects/signal/citydata/', dir_name)\n",
    "if not os.path.exists(path_model):\n",
    "    os.makedirs(path_model)"
   ]
  },
  {
   "cell_type": "code",
   "execution_count": 91,
   "metadata": {
    "scrolled": false
   },
   "outputs": [
    {
     "name": "stderr",
     "output_type": "stream",
     "text": [
      "/home/xupeng/anaconda3/lib/python3.6/site-packages/scipy/stats/stats.py:3010: RuntimeWarning: invalid value encountered in double_scalars\n",
      "  r = r_num / r_den\n",
      "/home/xupeng/anaconda3/lib/python3.6/site-packages/scipy/stats/stats.py:3020: RuntimeWarning: invalid value encountered in double_scalars\n",
      "  prob = _betai(0.5*df, 0.5, df/(df+t_squared))\n",
      "/home/xupeng/anaconda3/lib/python3.6/site-packages/scipy/stats/stats.py:3005: RuntimeWarning: Mean of empty slice.\n",
      "  mx = x.mean()\n",
      "/home/xupeng/anaconda3/lib/python3.6/site-packages/numpy/core/_methods.py:80: RuntimeWarning: invalid value encountered in double_scalars\n",
      "  ret = ret.dtype.type(ret / rcount)\n",
      "/home/xupeng/anaconda3/lib/python3.6/site-packages/scipy/stats/stats.py:3006: RuntimeWarning: Mean of empty slice.\n",
      "  my = y.mean()\n"
     ]
    },
    {
     "data": {
      "text/plain": [
       "(0.8337431414470013, 0.3101109743382774)"
      ]
     },
     "execution_count": 91,
     "metadata": {},
     "output_type": "execute_result"
    }
   ],
   "source": [
    "np.savetxt(path_model+'/pcc.txt',relation)\n",
    "np.savetxt(path_model+'/label.txt',label,fmt='%d')\n",
    "np.savetxt(path_model+'/nan_rate.txt',nan_rate,fmt='%4.3f')\n",
    "np.savetxt(path_model+'/first_index.txt',x_total,fmt='%d')\n",
    "np.savetxt(path_model+'/second_index.txt',y_total,fmt='%d')\n",
    "np.savetxt(path_model+'/nanrate_specific.txt',u_total,fmt='%3.2f')\n",
    "np.savetxt(path_model+'/relation_specific.txt',r_total)"
   ]
  },
  {
   "cell_type": "code",
   "execution_count": 99,
   "metadata": {},
   "outputs": [],
   "source": [
    "weight=np.ones(500)\n",
    "weight=weight/np.sum(weight)\n",
    "label=np.random.choice(500,size=(test_counts,feature_counts),p=weight)\n"
   ]
  },
  {
   "cell_type": "code",
   "execution_count": 101,
   "metadata": {},
   "outputs": [
    {
     "data": {
      "text/plain": [
       "(1000, 10)"
      ]
     },
     "execution_count": 101,
     "metadata": {},
     "output_type": "execute_result"
    }
   ],
   "source": [
    "label.shape"
   ]
  },
  {
   "cell_type": "code",
   "execution_count": 102,
   "metadata": {},
   "outputs": [
    {
     "ename": "ValueError",
     "evalue": "Cannot take a larger sample than population when 'replace=False'",
     "output_type": "error",
     "traceback": [
      "\u001b[0;31m---------------------------------------------------------------------------\u001b[0m",
      "\u001b[0;31mValueError\u001b[0m                                Traceback (most recent call last)",
      "\u001b[0;32m<ipython-input-102-1cbbc9dc06ae>\u001b[0m in \u001b[0;36m<module>\u001b[0;34m()\u001b[0m\n\u001b[0;32m----> 1\u001b[0;31m \u001b[0mlabel\u001b[0m\u001b[0;34m=\u001b[0m\u001b[0mnp\u001b[0m\u001b[0;34m.\u001b[0m\u001b[0mrandom\u001b[0m\u001b[0;34m.\u001b[0m\u001b[0mchoice\u001b[0m\u001b[0;34m(\u001b[0m\u001b[0;36m500\u001b[0m\u001b[0;34m,\u001b[0m\u001b[0mreplace\u001b[0m\u001b[0;34m=\u001b[0m\u001b[0;32mFalse\u001b[0m\u001b[0;34m,\u001b[0m\u001b[0msize\u001b[0m\u001b[0;34m=\u001b[0m\u001b[0;34m(\u001b[0m\u001b[0mtest_counts\u001b[0m\u001b[0;34m,\u001b[0m\u001b[0mfeature_counts\u001b[0m\u001b[0;34m)\u001b[0m\u001b[0;34m,\u001b[0m\u001b[0mp\u001b[0m\u001b[0;34m=\u001b[0m\u001b[0mweight\u001b[0m\u001b[0;34m)\u001b[0m\u001b[0;34m\u001b[0m\u001b[0m\n\u001b[0m",
      "\u001b[0;32mmtrand.pyx\u001b[0m in \u001b[0;36mmtrand.RandomState.choice\u001b[0;34m()\u001b[0m\n",
      "\u001b[0;31mValueError\u001b[0m: Cannot take a larger sample than population when 'replace=False'"
     ]
    }
   ],
   "source": [
    "label=np.random.choice(500,replace=False,size=(feature_counts),p=weight)"
   ]
  }
 ],
 "metadata": {
  "kernelspec": {
   "display_name": "Python 3",
   "language": "python",
   "name": "python3"
  },
  "language_info": {
   "codemirror_mode": {
    "name": "ipython",
    "version": 3
   },
   "file_extension": ".py",
   "mimetype": "text/x-python",
   "name": "python",
   "nbconvert_exporter": "python",
   "pygments_lexer": "ipython3",
   "version": "3.6.5"
  },
  "toc": {
   "base_numbering": 1,
   "nav_menu": {},
   "number_sections": true,
   "sideBar": true,
   "skip_h1_title": false,
   "title_cell": "Table of Contents",
   "title_sidebar": "Contents",
   "toc_cell": false,
   "toc_position": {},
   "toc_section_display": true,
   "toc_window_display": false
  }
 },
 "nbformat": 4,
 "nbformat_minor": 2
}
