{
 "cells": [
  {
   "cell_type": "markdown",
   "metadata": {},
   "source": [
    "## MDN-v1.1 tensorflow with two independent MDN"
   ]
  },
  {
   "cell_type": "code",
   "execution_count": 1,
   "metadata": {},
   "outputs": [
    {
     "name": "stdout",
     "output_type": "stream",
     "text": [
      "Size of features in training data: (750, 24)\n",
      "Size of output in training data: (750, 2)\n",
      "Size of features in test data: (250, 24)\n",
      "Size of output in test data: (250, 2)\n"
     ]
    },
    {
     "data": {
      "text/plain": [
       "<Figure size 600x600 with 1 Axes>"
      ]
     },
     "metadata": {},
     "output_type": "display_data"
    }
   ],
   "source": [
    "import matplotlib.pyplot as plt\n",
    "import tensorflow as tf\n",
    "import numpy as np\n",
    "import math\n",
    "import sklearn\n",
    "import edward as ed\n",
    "from sklearn.model_selection import train_test_split\n",
    "%config InlineBackend.figure_format = 'retina'\n",
    "\n",
    "def prepare_dataset(featurename='rss'):\n",
    "    import scipy.io as sio\n",
    "    data_1 = sio.loadmat('data_paper_WSNL/1000data.mat')\n",
    "    data_2 = sio.loadmat('data_paper_WSNL/TXRXLoc2000.mat')\n",
    "    local = data_2['RXm'][:1000,:2]\n",
    "    rss = data_1['data_db_rss']\n",
    "    aoa = data_1['data_db_aoa']\n",
    "    toa = data_1['data_db_toa']\n",
    "    data_4 = data_1['data'][:,18:24]\n",
    "    data_5 = data_1['data'][:,24:]\n",
    "    data_6 = data_1['data'][:,6:]\n",
    "    data_whole = np.concatenate((rss,aoa,toa,data_4,data_5),axis =1)\n",
    "    local_x = local[:,:1]\n",
    "    local_y = local[:,1:]\n",
    "    if featurename=='whole':\n",
    "        return train_test_split(data_whole, local, random_state=42)\n",
    "    elif featurename=='rss':\n",
    "        return train_test_split(rss, local, random_state=42)\n",
    "    elif featurename=='aoa':\n",
    "        return train_test_split(aoa, local, random_state=42)\n",
    "    elif featurename=='toa':\n",
    "        return train_test_split(toa, local, random_state=42)\n",
    "    elif featurename=='data_4':\n",
    "        return train_test_split(data_4, local, random_state=42)\n",
    "    elif featurename=='data_5':\n",
    "        return train_test_split(data_5, local, random_state=42)\n",
    "    elif featurename=='data_6':\n",
    "        return train_test_split(data_6, local, random_state=42)\n",
    "X_train, X_test, y_train, y_test = prepare_dataset(featurename='data_6')\n",
    "\n",
    "print(\"Size of features in training data: {}\".format(X_train.shape))\n",
    "print(\"Size of output in training data: {}\".format(y_train.shape))\n",
    "print(\"Size of features in test data: {}\".format(X_test.shape))\n",
    "print(\"Size of output in test data: {}\".format(y_test.shape))\n",
    "\n",
    "fig,ax=plt.subplots(1,figsize=(6,6))\n",
    "ax.scatter(y_train[:,0], y_train[:,1])\n",
    "plt.show()"
   ]
  },
  {
   "cell_type": "code",
   "execution_count": 31,
   "metadata": {},
   "outputs": [
    {
     "name": "stdout",
     "output_type": "stream",
     "text": [
      "==>>> epoch: 0, train loss: 16.281735335151488\n",
      "==>>> epoch: 100, train loss: 16.281735335151488\n",
      "==>>> epoch: 200, train loss: 16.281735335151488\n",
      "==>>> epoch: 300, train loss: 16.281735335151488\n",
      "==>>> epoch: 400, train loss: 16.281735335151488\n",
      "==>>> epoch: 500, train loss: 16.281735335151488\n",
      "==>>> epoch: 600, train loss: 16.281735335151488\n",
      "==>>> epoch: 700, train loss: 16.281735335151488\n",
      "==>>> epoch: 800, train loss: 16.281735335151488\n",
      "==>>> epoch: 900, train loss: 16.281735335151488\n",
      "==>>> epoch: 1000, train loss: 16.281735335151488\n",
      "==>>> epoch: 1100, train loss: 16.281735335151488\n",
      "==>>> epoch: 1200, train loss: 16.281735335151488\n",
      "==>>> epoch: 1300, train loss: 16.281735335151488\n",
      "==>>> epoch: 1400, train loss: 16.281735335151488\n",
      "==>>> epoch: 1500, train loss: 16.281735335151488\n",
      "==>>> epoch: 1600, train loss: 16.281735335151488\n",
      "==>>> epoch: 1700, train loss: 16.281735335151488\n",
      "==>>> epoch: 1800, train loss: 16.281735335151488\n",
      "==>>> epoch: 1900, train loss: 16.281735335151488\n",
      "==>>> epoch: 2000, train loss: 16.281735335151488\n",
      "==>>> epoch: 2100, train loss: 16.281735335151488\n",
      "==>>> epoch: 2200, train loss: 16.281735335151488\n",
      "==>>> epoch: 2300, train loss: 16.281735335151488\n",
      "==>>> epoch: 2400, train loss: 16.281735335151488\n",
      "==>>> epoch: 2500, train loss: 16.281735335151488\n",
      "==>>> epoch: 2600, train loss: 16.281735335151488\n",
      "==>>> epoch: 2700, train loss: 16.281735335151488\n",
      "==>>> epoch: 2800, train loss: 16.281735335151488\n",
      "==>>> epoch: 2900, train loss: 16.281735335151488\n",
      "==>>> epoch: 3000, train loss: 16.281735335151488\n",
      "==>>> epoch: 3100, train loss: 16.281735335151488\n",
      "==>>> epoch: 3200, train loss: 16.281735335151488\n",
      "==>>> epoch: 3300, train loss: 16.281735335151488\n",
      "==>>> epoch: 3400, train loss: 16.281735335151488\n",
      "==>>> epoch: 3500, train loss: 16.281735335151488\n",
      "==>>> epoch: 3600, train loss: 16.281735335151488\n",
      "==>>> epoch: 3700, train loss: 16.281735335151488\n",
      "==>>> epoch: 3800, train loss: 16.281735335151488\n",
      "==>>> epoch: 3900, train loss: 16.281735335151488\n",
      "==>>> epoch: 4000, train loss: 16.281735335151488\n",
      "==>>> epoch: 4100, train loss: 16.281735335151488\n",
      "==>>> epoch: 4200, train loss: 16.281735335151488\n",
      "==>>> epoch: 4300, train loss: 16.281735335151488\n",
      "==>>> epoch: 4400, train loss: 16.281735335151488\n",
      "==>>> epoch: 4500, train loss: 16.281735335151488\n",
      "==>>> epoch: 4600, train loss: 16.281735335151488\n",
      "==>>> epoch: 4700, train loss: 16.281735335151488\n",
      "==>>> epoch: 4800, train loss: 16.281735335151488\n",
      "==>>> epoch: 4900, train loss: 16.281735335151488\n",
      "==>>> epoch: 5000, train loss: 16.281735335151488\n",
      "==>>> epoch: 5100, train loss: 16.281735335151488\n",
      "==>>> epoch: 5200, train loss: 16.281735335151488\n",
      "==>>> epoch: 5300, train loss: 16.281735335151488\n",
      "==>>> epoch: 5400, train loss: 16.281735335151488\n",
      "==>>> epoch: 5500, train loss: 16.281735335151488\n",
      "==>>> epoch: 5600, train loss: 16.281735335151488\n",
      "==>>> epoch: 5700, train loss: 16.281735335151488\n",
      "==>>> epoch: 5800, train loss: 16.281735335151488\n",
      "==>>> epoch: 5900, train loss: 16.281735335151488\n",
      "==>>> epoch: 6000, train loss: 16.281735335151488\n",
      "==>>> epoch: 6100, train loss: 16.281735335151488\n",
      "==>>> epoch: 6200, train loss: 16.281735335151488\n",
      "==>>> epoch: 6300, train loss: 16.281735335151488\n",
      "==>>> epoch: 6400, train loss: 16.281735335151488\n",
      "==>>> epoch: 6500, train loss: 16.281735335151488\n",
      "==>>> epoch: 6600, train loss: 16.281735335151488\n",
      "==>>> epoch: 6700, train loss: 16.281735335151488\n",
      "==>>> epoch: 6800, train loss: 16.281735335151488\n",
      "==>>> epoch: 6900, train loss: 16.281735335151488\n",
      "==>>> epoch: 7000, train loss: 16.281735335151488\n",
      "==>>> epoch: 7100, train loss: 16.281735335151488\n",
      "==>>> epoch: 7200, train loss: 16.281735335151488\n",
      "==>>> epoch: 7300, train loss: 16.281735335151488\n",
      "==>>> epoch: 7400, train loss: 16.281735335151488\n",
      "==>>> epoch: 7500, train loss: 16.281735335151488\n",
      "==>>> epoch: 7600, train loss: 16.281735335151488\n",
      "==>>> epoch: 7700, train loss: 16.281735335151488\n",
      "==>>> epoch: 7800, train loss: 16.281735335151488\n",
      "==>>> epoch: 7900, train loss: 16.281735335151488\n",
      "==>>> epoch: 8000, train loss: 16.281735335151488\n",
      "==>>> epoch: 8100, train loss: 16.281735335151488\n",
      "==>>> epoch: 8200, train loss: 16.281735335151488\n",
      "==>>> epoch: 8300, train loss: 16.281735335151488\n",
      "==>>> epoch: 8400, train loss: 16.281735335151488\n",
      "==>>> epoch: 8500, train loss: 16.281735335151488\n",
      "==>>> epoch: 8600, train loss: 16.281735335151488\n",
      "==>>> epoch: 8700, train loss: 16.281735335151488\n",
      "==>>> epoch: 8800, train loss: 16.281735335151488\n",
      "==>>> epoch: 8900, train loss: 16.281735335151488\n",
      "==>>> epoch: 9000, train loss: 16.281735335151488\n",
      "==>>> epoch: 9100, train loss: 16.281735335151488\n",
      "==>>> epoch: 9200, train loss: 16.281735335151488\n",
      "==>>> epoch: 9300, train loss: 16.281735335151488\n",
      "==>>> epoch: 9400, train loss: 16.281735335151488\n",
      "==>>> epoch: 9500, train loss: 16.281735335151488\n",
      "==>>> epoch: 9600, train loss: 16.281735335151488\n",
      "==>>> epoch: 9700, train loss: 16.281735335151488\n",
      "==>>> epoch: 9800, train loss: 16.281735335151488\n",
      "==>>> epoch: 9900, train loss: 16.281735335151488\n",
      "==>>> epoch: 10000, train loss: 16.281735335151488\n",
      "==>>> epoch: 10100, train loss: 16.281735335151488\n",
      "==>>> epoch: 10200, train loss: 16.281735335151488\n",
      "==>>> epoch: 10300, train loss: 16.281735335151488\n",
      "==>>> epoch: 10400, train loss: 16.281735335151488\n",
      "==>>> epoch: 10500, train loss: 16.281735335151488\n",
      "==>>> epoch: 10600, train loss: 16.281735335151488\n",
      "==>>> epoch: 10700, train loss: 16.281735335151488\n",
      "==>>> epoch: 10800, train loss: 16.281735335151488\n",
      "==>>> epoch: 10900, train loss: 16.281735335151488\n",
      "==>>> epoch: 11000, train loss: 16.281735335151488\n",
      "==>>> epoch: 11100, train loss: 16.281735335151488\n",
      "==>>> epoch: 11200, train loss: 16.281735335151488\n",
      "==>>> epoch: 11300, train loss: 16.281735335151488\n",
      "==>>> epoch: 11400, train loss: 16.281735335151488\n",
      "==>>> epoch: 11500, train loss: 16.281735335151488\n",
      "==>>> epoch: 11600, train loss: 16.281735335151488\n",
      "==>>> epoch: 11700, train loss: 16.281735335151488\n",
      "==>>> epoch: 11800, train loss: 16.281735335151488\n",
      "==>>> epoch: 11900, train loss: 16.281735335151488\n",
      "==>>> epoch: 12000, train loss: 16.281735335151488\n",
      "==>>> epoch: 12100, train loss: 16.281735335151488\n",
      "==>>> epoch: 12200, train loss: 16.281735335151488\n",
      "==>>> epoch: 12300, train loss: 16.281735335151488\n",
      "==>>> epoch: 12400, train loss: 16.281735335151488\n",
      "==>>> epoch: 12500, train loss: 16.281735335151488\n",
      "==>>> epoch: 12600, train loss: 16.281735335151488\n",
      "==>>> epoch: 12700, train loss: 16.281735335151488\n",
      "==>>> epoch: 12800, train loss: 16.281735335151488\n",
      "==>>> epoch: 12900, train loss: 16.281735335151488\n",
      "==>>> epoch: 13000, train loss: 16.281735335151488\n",
      "==>>> epoch: 13100, train loss: 16.281735335151488\n",
      "==>>> epoch: 13200, train loss: 16.281735335151488\n",
      "==>>> epoch: 13300, train loss: 16.281735335151488\n",
      "==>>> epoch: 13400, train loss: 16.281735335151488\n",
      "==>>> epoch: 13500, train loss: 16.281735335151488\n",
      "==>>> epoch: 13600, train loss: 16.281735335151488\n",
      "==>>> epoch: 13700, train loss: 16.281735335151488\n",
      "==>>> epoch: 13800, train loss: 16.281735335151488\n",
      "==>>> epoch: 13900, train loss: 16.281735335151488\n",
      "==>>> epoch: 14000, train loss: 16.281735335151488\n",
      "==>>> epoch: 14100, train loss: 16.281735335151488\n",
      "==>>> epoch: 14200, train loss: 16.281735335151488\n"
     ]
    },
    {
     "ename": "KeyboardInterrupt",
     "evalue": "",
     "output_type": "error",
     "traceback": [
      "\u001b[1;31m---------------------------------------------------------------------------\u001b[0m",
      "\u001b[1;31mKeyboardInterrupt\u001b[0m                         Traceback (most recent call last)",
      "\u001b[1;32m<ipython-input-31-766203158bed>\u001b[0m in \u001b[0;36m<module>\u001b[1;34m()\u001b[0m\n\u001b[0;32m     36\u001b[0m \u001b[0mloss_vals\u001b[0m \u001b[1;33m=\u001b[0m \u001b[0mnp\u001b[0m\u001b[1;33m.\u001b[0m\u001b[0mzeros\u001b[0m\u001b[1;33m(\u001b[0m\u001b[0mepochnum\u001b[0m\u001b[1;33m)\u001b[0m\u001b[1;33m\u001b[0m\u001b[0m\n\u001b[0;32m     37\u001b[0m \u001b[1;32mfor\u001b[0m \u001b[0mepoch\u001b[0m \u001b[1;32min\u001b[0m \u001b[0mrange\u001b[0m\u001b[1;33m(\u001b[0m\u001b[0mepochnum\u001b[0m\u001b[1;33m)\u001b[0m\u001b[1;33m:\u001b[0m\u001b[1;33m\u001b[0m\u001b[0m\n\u001b[1;32m---> 38\u001b[1;33m     \u001b[0m_\u001b[0m\u001b[1;33m,\u001b[0m\u001b[0mloss_val\u001b[0m \u001b[1;33m=\u001b[0m \u001b[0msess\u001b[0m\u001b[1;33m.\u001b[0m\u001b[0mrun\u001b[0m\u001b[1;33m(\u001b[0m\u001b[1;33m[\u001b[0m\u001b[0mtrain_step\u001b[0m\u001b[1;33m,\u001b[0m \u001b[0mloss\u001b[0m\u001b[1;33m]\u001b[0m\u001b[1;33m,\u001b[0m \u001b[0mfeed_dict\u001b[0m\u001b[1;33m=\u001b[0m\u001b[1;33m{\u001b[0m\u001b[0minput_data\u001b[0m\u001b[1;33m:\u001b[0m \u001b[0mX_train\u001b[0m \u001b[1;33m,\u001b[0m \u001b[0mtarget_data\u001b[0m\u001b[1;33m:\u001b[0m \u001b[0my_train\u001b[0m\u001b[1;33m}\u001b[0m\u001b[1;33m)\u001b[0m\u001b[1;33m\u001b[0m\u001b[0m\n\u001b[0m\u001b[0;32m     39\u001b[0m     \u001b[0mloss_vals\u001b[0m\u001b[1;33m[\u001b[0m\u001b[0mepoch\u001b[0m\u001b[1;33m]\u001b[0m \u001b[1;33m=\u001b[0m \u001b[0mloss_val\u001b[0m\u001b[1;33m\u001b[0m\u001b[0m\n\u001b[0;32m     40\u001b[0m     \u001b[1;32mif\u001b[0m \u001b[1;33m(\u001b[0m\u001b[0mepoch\u001b[0m\u001b[1;33m)\u001b[0m \u001b[1;33m%\u001b[0m \u001b[1;36m100\u001b[0m \u001b[1;33m==\u001b[0m \u001b[1;36m0\u001b[0m\u001b[1;33m:\u001b[0m\u001b[1;33m\u001b[0m\u001b[0m\n",
      "\u001b[1;32mc:\\python\\python36\\lib\\site-packages\\tensorflow\\python\\client\\session.py\u001b[0m in \u001b[0;36mrun\u001b[1;34m(self, fetches, feed_dict, options, run_metadata)\u001b[0m\n\u001b[0;32m    898\u001b[0m     \u001b[1;32mtry\u001b[0m\u001b[1;33m:\u001b[0m\u001b[1;33m\u001b[0m\u001b[0m\n\u001b[0;32m    899\u001b[0m       result = self._run(None, fetches, feed_dict, options_ptr,\n\u001b[1;32m--> 900\u001b[1;33m                          run_metadata_ptr)\n\u001b[0m\u001b[0;32m    901\u001b[0m       \u001b[1;32mif\u001b[0m \u001b[0mrun_metadata\u001b[0m\u001b[1;33m:\u001b[0m\u001b[1;33m\u001b[0m\u001b[0m\n\u001b[0;32m    902\u001b[0m         \u001b[0mproto_data\u001b[0m \u001b[1;33m=\u001b[0m \u001b[0mtf_session\u001b[0m\u001b[1;33m.\u001b[0m\u001b[0mTF_GetBuffer\u001b[0m\u001b[1;33m(\u001b[0m\u001b[0mrun_metadata_ptr\u001b[0m\u001b[1;33m)\u001b[0m\u001b[1;33m\u001b[0m\u001b[0m\n",
      "\u001b[1;32mc:\\python\\python36\\lib\\site-packages\\tensorflow\\python\\client\\session.py\u001b[0m in \u001b[0;36m_run\u001b[1;34m(self, handle, fetches, feed_dict, options, run_metadata)\u001b[0m\n\u001b[0;32m   1133\u001b[0m     \u001b[1;32mif\u001b[0m \u001b[0mfinal_fetches\u001b[0m \u001b[1;32mor\u001b[0m \u001b[0mfinal_targets\u001b[0m \u001b[1;32mor\u001b[0m \u001b[1;33m(\u001b[0m\u001b[0mhandle\u001b[0m \u001b[1;32mand\u001b[0m \u001b[0mfeed_dict_tensor\u001b[0m\u001b[1;33m)\u001b[0m\u001b[1;33m:\u001b[0m\u001b[1;33m\u001b[0m\u001b[0m\n\u001b[0;32m   1134\u001b[0m       results = self._do_run(handle, final_targets, final_fetches,\n\u001b[1;32m-> 1135\u001b[1;33m                              feed_dict_tensor, options, run_metadata)\n\u001b[0m\u001b[0;32m   1136\u001b[0m     \u001b[1;32melse\u001b[0m\u001b[1;33m:\u001b[0m\u001b[1;33m\u001b[0m\u001b[0m\n\u001b[0;32m   1137\u001b[0m       \u001b[0mresults\u001b[0m \u001b[1;33m=\u001b[0m \u001b[1;33m[\u001b[0m\u001b[1;33m]\u001b[0m\u001b[1;33m\u001b[0m\u001b[0m\n",
      "\u001b[1;32mc:\\python\\python36\\lib\\site-packages\\tensorflow\\python\\client\\session.py\u001b[0m in \u001b[0;36m_do_run\u001b[1;34m(self, handle, target_list, fetch_list, feed_dict, options, run_metadata)\u001b[0m\n\u001b[0;32m   1314\u001b[0m     \u001b[1;32mif\u001b[0m \u001b[0mhandle\u001b[0m \u001b[1;32mis\u001b[0m \u001b[1;32mNone\u001b[0m\u001b[1;33m:\u001b[0m\u001b[1;33m\u001b[0m\u001b[0m\n\u001b[0;32m   1315\u001b[0m       return self._do_call(_run_fn, feeds, fetches, targets, options,\n\u001b[1;32m-> 1316\u001b[1;33m                            run_metadata)\n\u001b[0m\u001b[0;32m   1317\u001b[0m     \u001b[1;32melse\u001b[0m\u001b[1;33m:\u001b[0m\u001b[1;33m\u001b[0m\u001b[0m\n\u001b[0;32m   1318\u001b[0m       \u001b[1;32mreturn\u001b[0m \u001b[0mself\u001b[0m\u001b[1;33m.\u001b[0m\u001b[0m_do_call\u001b[0m\u001b[1;33m(\u001b[0m\u001b[0m_prun_fn\u001b[0m\u001b[1;33m,\u001b[0m \u001b[0mhandle\u001b[0m\u001b[1;33m,\u001b[0m \u001b[0mfeeds\u001b[0m\u001b[1;33m,\u001b[0m \u001b[0mfetches\u001b[0m\u001b[1;33m)\u001b[0m\u001b[1;33m\u001b[0m\u001b[0m\n",
      "\u001b[1;32mc:\\python\\python36\\lib\\site-packages\\tensorflow\\python\\client\\session.py\u001b[0m in \u001b[0;36m_do_call\u001b[1;34m(self, fn, *args)\u001b[0m\n\u001b[0;32m   1320\u001b[0m   \u001b[1;32mdef\u001b[0m \u001b[0m_do_call\u001b[0m\u001b[1;33m(\u001b[0m\u001b[0mself\u001b[0m\u001b[1;33m,\u001b[0m \u001b[0mfn\u001b[0m\u001b[1;33m,\u001b[0m \u001b[1;33m*\u001b[0m\u001b[0margs\u001b[0m\u001b[1;33m)\u001b[0m\u001b[1;33m:\u001b[0m\u001b[1;33m\u001b[0m\u001b[0m\n\u001b[0;32m   1321\u001b[0m     \u001b[1;32mtry\u001b[0m\u001b[1;33m:\u001b[0m\u001b[1;33m\u001b[0m\u001b[0m\n\u001b[1;32m-> 1322\u001b[1;33m       \u001b[1;32mreturn\u001b[0m \u001b[0mfn\u001b[0m\u001b[1;33m(\u001b[0m\u001b[1;33m*\u001b[0m\u001b[0margs\u001b[0m\u001b[1;33m)\u001b[0m\u001b[1;33m\u001b[0m\u001b[0m\n\u001b[0m\u001b[0;32m   1323\u001b[0m     \u001b[1;32mexcept\u001b[0m \u001b[0merrors\u001b[0m\u001b[1;33m.\u001b[0m\u001b[0mOpError\u001b[0m \u001b[1;32mas\u001b[0m \u001b[0me\u001b[0m\u001b[1;33m:\u001b[0m\u001b[1;33m\u001b[0m\u001b[0m\n\u001b[0;32m   1324\u001b[0m       \u001b[0mmessage\u001b[0m \u001b[1;33m=\u001b[0m \u001b[0mcompat\u001b[0m\u001b[1;33m.\u001b[0m\u001b[0mas_text\u001b[0m\u001b[1;33m(\u001b[0m\u001b[0me\u001b[0m\u001b[1;33m.\u001b[0m\u001b[0mmessage\u001b[0m\u001b[1;33m)\u001b[0m\u001b[1;33m\u001b[0m\u001b[0m\n",
      "\u001b[1;32mc:\\python\\python36\\lib\\site-packages\\tensorflow\\python\\client\\session.py\u001b[0m in \u001b[0;36m_run_fn\u001b[1;34m(feed_dict, fetch_list, target_list, options, run_metadata)\u001b[0m\n\u001b[0;32m   1305\u001b[0m       \u001b[0mself\u001b[0m\u001b[1;33m.\u001b[0m\u001b[0m_extend_graph\u001b[0m\u001b[1;33m(\u001b[0m\u001b[1;33m)\u001b[0m\u001b[1;33m\u001b[0m\u001b[0m\n\u001b[0;32m   1306\u001b[0m       return self._call_tf_sessionrun(\n\u001b[1;32m-> 1307\u001b[1;33m           options, feed_dict, fetch_list, target_list, run_metadata)\n\u001b[0m\u001b[0;32m   1308\u001b[0m \u001b[1;33m\u001b[0m\u001b[0m\n\u001b[0;32m   1309\u001b[0m     \u001b[1;32mdef\u001b[0m \u001b[0m_prun_fn\u001b[0m\u001b[1;33m(\u001b[0m\u001b[0mhandle\u001b[0m\u001b[1;33m,\u001b[0m \u001b[0mfeed_dict\u001b[0m\u001b[1;33m,\u001b[0m \u001b[0mfetch_list\u001b[0m\u001b[1;33m)\u001b[0m\u001b[1;33m:\u001b[0m\u001b[1;33m\u001b[0m\u001b[0m\n",
      "\u001b[1;32mc:\\python\\python36\\lib\\site-packages\\tensorflow\\python\\client\\session.py\u001b[0m in \u001b[0;36m_call_tf_sessionrun\u001b[1;34m(self, options, feed_dict, fetch_list, target_list, run_metadata)\u001b[0m\n\u001b[0;32m   1407\u001b[0m       return tf_session.TF_SessionRun_wrapper(\n\u001b[0;32m   1408\u001b[0m           \u001b[0mself\u001b[0m\u001b[1;33m.\u001b[0m\u001b[0m_session\u001b[0m\u001b[1;33m,\u001b[0m \u001b[0moptions\u001b[0m\u001b[1;33m,\u001b[0m \u001b[0mfeed_dict\u001b[0m\u001b[1;33m,\u001b[0m \u001b[0mfetch_list\u001b[0m\u001b[1;33m,\u001b[0m \u001b[0mtarget_list\u001b[0m\u001b[1;33m,\u001b[0m\u001b[1;33m\u001b[0m\u001b[0m\n\u001b[1;32m-> 1409\u001b[1;33m           run_metadata)\n\u001b[0m\u001b[0;32m   1410\u001b[0m     \u001b[1;32melse\u001b[0m\u001b[1;33m:\u001b[0m\u001b[1;33m\u001b[0m\u001b[0m\n\u001b[0;32m   1411\u001b[0m       \u001b[1;32mwith\u001b[0m \u001b[0merrors\u001b[0m\u001b[1;33m.\u001b[0m\u001b[0mraise_exception_on_not_ok_status\u001b[0m\u001b[1;33m(\u001b[0m\u001b[1;33m)\u001b[0m \u001b[1;32mas\u001b[0m \u001b[0mstatus\u001b[0m\u001b[1;33m:\u001b[0m\u001b[1;33m\u001b[0m\u001b[0m\n",
      "\u001b[1;31mKeyboardInterrupt\u001b[0m: "
     ]
    }
   ],
   "source": [
    "tf.reset_default_graph()\n",
    "input_data = tf.placeholder(shape=(None, 24), dtype=tf.float64, name='input_data')\n",
    "target_data= tf.placeholder(shape=(None, 2), dtype=tf.float64, name='target_data')\n",
    "hidden1 = tf.layers.dense(input_data, units=18, activation=tf.nn.relu, name='hidden1')\n",
    "hidden2 = tf.layers.dense(hidden1, units=12, activation=tf.nn.relu, name='hidden2')\n",
    "hidden3 = tf.layers.dense(hidden2, units=6, activation=tf.nn.relu, name='hidden3')\n",
    "mixture_size = 3\n",
    "out = tf.layers.dense(hidden3, units=6*mixture_size, activation=None, name='out')\n",
    "\n",
    "p_x, p_y, mu_x, mu_y, sigma_x, sigma_y = tf.split(out, 6, 1)\n",
    "p_x_out = tf.nn.softmax(p_x, name='prob_dist_x')\n",
    "p_y_out = tf.nn.softmax(p_y, name='prob_dist_y')\n",
    "sigma_x_out = tf.exp(sigma_x, name='sigma_x')\n",
    "sigma_y_out = tf.exp(sigma_y, name='sigma_y')\n",
    "\n",
    "factor = 1 / math.sqrt(2 * math.pi)\n",
    "epsilon = 1e-5\n",
    "target_x, target_y = tf.split(target_data, 2, 1)\n",
    "tmp_x = - tf.square((target_x - mu_x)) / (2 * tf.square(tf.maximum(sigma_x_out, epsilon)))\n",
    "x_normal = factor * tf.exp(tmp_x) / tf.maximum(sigma_x_out, epsilon)\n",
    "tmp_y = - tf.square((target_y - mu_y)) / (2 * tf.square(tf.maximum(sigma_y_out, epsilon)))\n",
    "y_normal = factor * tf.exp(tmp_y) / tf.maximum(sigma_y_out, epsilon)\n",
    "\n",
    "loss_x = tf.reduce_sum(tf.multiply(x_normal, p_x_out), axis=1, keep_dims=True)\n",
    "loss_x = -tf.log(tf.maximum(loss_x, epsilon))\n",
    "loss_y = tf.reduce_sum(tf.multiply(y_normal, p_y_out), axis=1, keep_dims=True)\n",
    "loss_y = -tf.log(tf.maximum(loss_y, epsilon))\n",
    "loss = tf.sqrt(tf.square(tf.reduce_mean(loss_x))+tf.square(tf.reduce_mean(loss_y)))\n",
    "\n",
    "train_step = tf.train.AdamOptimizer(learning_rate=0.01).minimize(loss_x)\n",
    "\n",
    "sess = tf.Session()\n",
    "sess.run(tf.global_variables_initializer())\n",
    "\n",
    "epochnum = 80000\n",
    "loss_vals = np.zeros(epochnum)\n",
    "for epoch in range(epochnum):\n",
    "    _,loss_val = sess.run([train_step, loss], feed_dict={input_data: X_train , target_data: y_train})\n",
    "    loss_vals[epoch] = loss_val\n",
    "    if (epoch) % 100 == 0:\n",
    "        print ('==>>> epoch: {}, train loss: {}'.format(epoch, loss_val))"
   ]
  },
  {
   "cell_type": "code",
   "execution_count": 32,
   "metadata": {},
   "outputs": [
    {
     "data": {
      "text/plain": [
       "[<matplotlib.lines.Line2D at 0x23f80175518>]"
      ]
     },
     "execution_count": 32,
     "metadata": {},
     "output_type": "execute_result"
    },
    {
     "data": {
      "image/png": "[encoded data removed]",
      "text/plain": [
       "<Figure size 432x288 with 1 Axes>"
      ]
     },
     "metadata": {},
     "output_type": "display_data"
    }
   ],
   "source": [
    "plt.plot(loss_vals)"
   ]
  },
  {
   "cell_type": "code",
   "execution_count": 30,
   "metadata": {},
   "outputs": [
    {
     "data": {
      "text/plain": [
       "<tf.Tensor 'split_2:0' shape=(?, 1) dtype=float64>"
      ]
     },
     "execution_count": 30,
     "metadata": {},
     "output_type": "execute_result"
    }
   ],
   "source": []
  },
  {
   "cell_type": "code",
   "execution_count": 21,
   "metadata": {},
   "outputs": [
    {
     "ename": "ValueError",
     "evalue": "Cannot feed value of shape (750,) for Tensor 'target_data_x:0', which has shape '(?, 1)'",
     "output_type": "error",
     "traceback": [
      "\u001b[1;31m---------------------------------------------------------------------------\u001b[0m",
      "\u001b[1;31mValueError\u001b[0m                                Traceback (most recent call last)",
      "\u001b[1;32m<ipython-input-21-370a37305faf>\u001b[0m in \u001b[0;36m<module>\u001b[1;34m()\u001b[0m\n\u001b[1;32m----> 1\u001b[1;33m \u001b[0m_\u001b[0m\u001b[1;33m,\u001b[0m\u001b[0mloss_val\u001b[0m \u001b[1;33m=\u001b[0m \u001b[0msess\u001b[0m\u001b[1;33m.\u001b[0m\u001b[0mrun\u001b[0m\u001b[1;33m(\u001b[0m\u001b[1;33m[\u001b[0m\u001b[0mtrain_step\u001b[0m\u001b[1;33m,\u001b[0m \u001b[0mloss\u001b[0m\u001b[1;33m]\u001b[0m\u001b[1;33m,\u001b[0m \u001b[0mfeed_dict\u001b[0m\u001b[1;33m=\u001b[0m\u001b[1;33m{\u001b[0m\u001b[0minput_data\u001b[0m\u001b[1;33m:\u001b[0m \u001b[0mX_train\u001b[0m \u001b[1;33m,\u001b[0m \u001b[0mtarget_data_x\u001b[0m\u001b[1;33m:\u001b[0m \u001b[0my_train\u001b[0m\u001b[1;33m[\u001b[0m\u001b[1;33m:\u001b[0m\u001b[1;33m,\u001b[0m\u001b[1;36m0\u001b[0m\u001b[1;33m]\u001b[0m\u001b[1;33m,\u001b[0m \u001b[0mtarget_data_y\u001b[0m\u001b[1;33m:\u001b[0m \u001b[0my_train\u001b[0m\u001b[1;33m[\u001b[0m\u001b[1;33m:\u001b[0m\u001b[1;33m,\u001b[0m\u001b[1;36m1\u001b[0m\u001b[1;33m]\u001b[0m\u001b[1;33m}\u001b[0m\u001b[1;33m)\u001b[0m\u001b[1;33m\u001b[0m\u001b[0m\n\u001b[0m",
      "\u001b[1;32mc:\\python\\python36\\lib\\site-packages\\tensorflow\\python\\client\\session.py\u001b[0m in \u001b[0;36mrun\u001b[1;34m(self, fetches, feed_dict, options, run_metadata)\u001b[0m\n\u001b[0;32m    898\u001b[0m     \u001b[1;32mtry\u001b[0m\u001b[1;33m:\u001b[0m\u001b[1;33m\u001b[0m\u001b[0m\n\u001b[0;32m    899\u001b[0m       result = self._run(None, fetches, feed_dict, options_ptr,\n\u001b[1;32m--> 900\u001b[1;33m                          run_metadata_ptr)\n\u001b[0m\u001b[0;32m    901\u001b[0m       \u001b[1;32mif\u001b[0m \u001b[0mrun_metadata\u001b[0m\u001b[1;33m:\u001b[0m\u001b[1;33m\u001b[0m\u001b[0m\n\u001b[0;32m    902\u001b[0m         \u001b[0mproto_data\u001b[0m \u001b[1;33m=\u001b[0m \u001b[0mtf_session\u001b[0m\u001b[1;33m.\u001b[0m\u001b[0mTF_GetBuffer\u001b[0m\u001b[1;33m(\u001b[0m\u001b[0mrun_metadata_ptr\u001b[0m\u001b[1;33m)\u001b[0m\u001b[1;33m\u001b[0m\u001b[0m\n",
      "\u001b[1;32mc:\\python\\python36\\lib\\site-packages\\tensorflow\\python\\client\\session.py\u001b[0m in \u001b[0;36m_run\u001b[1;34m(self, handle, fetches, feed_dict, options, run_metadata)\u001b[0m\n\u001b[0;32m   1109\u001b[0m                              \u001b[1;34m'which has shape %r'\u001b[0m \u001b[1;33m%\u001b[0m\u001b[1;33m\u001b[0m\u001b[0m\n\u001b[0;32m   1110\u001b[0m                              (np_val.shape, subfeed_t.name,\n\u001b[1;32m-> 1111\u001b[1;33m                               str(subfeed_t.get_shape())))\n\u001b[0m\u001b[0;32m   1112\u001b[0m           \u001b[1;32mif\u001b[0m \u001b[1;32mnot\u001b[0m \u001b[0mself\u001b[0m\u001b[1;33m.\u001b[0m\u001b[0mgraph\u001b[0m\u001b[1;33m.\u001b[0m\u001b[0mis_feedable\u001b[0m\u001b[1;33m(\u001b[0m\u001b[0msubfeed_t\u001b[0m\u001b[1;33m)\u001b[0m\u001b[1;33m:\u001b[0m\u001b[1;33m\u001b[0m\u001b[0m\n\u001b[0;32m   1113\u001b[0m             \u001b[1;32mraise\u001b[0m \u001b[0mValueError\u001b[0m\u001b[1;33m(\u001b[0m\u001b[1;34m'Tensor %s may not be fed.'\u001b[0m \u001b[1;33m%\u001b[0m \u001b[0msubfeed_t\u001b[0m\u001b[1;33m)\u001b[0m\u001b[1;33m\u001b[0m\u001b[0m\n",
      "\u001b[1;31mValueError\u001b[0m: Cannot feed value of shape (750,) for Tensor 'target_data_x:0', which has shape '(?, 1)'"
     ]
    }
   ],
   "source": [
    "_,loss_val = sess.run([train_step, loss], feed_dict={input_data: X_train , target_data_x: y_train[:,0], target_data_y: y_train[:,1]})"
   ]
  }
 ],
 "metadata": {
  "kernelspec": {
   "display_name": "Python 3",
   "language": "python",
   "name": "python3"
  },
  "language_info": {
   "codemirror_mode": {
    "name": "ipython",
    "version": 3
   },
   "file_extension": ".py",
   "mimetype": "text/x-python",
   "name": "python",
   "nbconvert_exporter": "python",
   "pygments_lexer": "ipython3",
   "version": "3.6.6"
  }
 },
 "nbformat": 4,
 "nbformat_minor": 2
}
