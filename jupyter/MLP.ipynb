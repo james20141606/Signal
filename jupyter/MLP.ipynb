{
 "cells": [
  {
   "cell_type": "code",
   "execution_count": 1,
   "metadata": {},
   "outputs": [
    {
     "name": "stderr",
     "output_type": "stream",
     "text": [
      "/Users/james/anaconda2/lib/python2.7/site-packages/h5py/__init__.py:36: FutureWarning: Conversion of the second argument of issubdtype from `float` to `np.floating` is deprecated. In future, it will be treated as `np.float64 == np.dtype(float).type`.\n",
      "  from ._conv import register_converters as _register_converters\n",
      "Using TensorFlow backend.\n"
     ]
    }
   ],
   "source": [
    "import numpy as np\n",
    "import h5py\n",
    "import keras\n",
    "from keras import regularizers\n",
    "from keras.models import Sequential\n",
    "from keras.layers import Dense, Activation"
   ]
  },
  {
   "cell_type": "code",
   "execution_count": 9,
   "metadata": {},
   "outputs": [],
   "source": [
    "from sklearn.metrics import r2_score\n",
    "from scipy.stats import pearsonr"
   ]
  },
  {
   "cell_type": "code",
   "execution_count": 3,
   "metadata": {},
   "outputs": [],
   "source": [
    "x_train= {}\n",
    "x_test = {}\n",
    "y_train = {}\n",
    "y_test= {}\n",
    "location_train= {}\n",
    "location_test= {}\n",
    "feature_all_train = {}\n",
    "feature_all_test= {}\n",
    "aoa_train={}\n",
    "aoa_test={}\n",
    "toa_train={}\n",
    "toa_test={}\n",
    "rss_train={}\n",
    "rss_test={}\n",
    "f = h5py.File('../data_cross_250')\n",
    "for i in range(4):\n",
    "    x_train[i] = f[str(i)+'/loc_x_train'][:]\n",
    "    x_test[i] = f[str(i)+'/loc_x_test'][:]\n",
    "    y_train[i] = f[str(i)+'/loc_y_train'][:] \n",
    "    y_test[i] = f[str(i)+'/loc_y_test'][:]\n",
    "    location_train[i] = f[str(i)+'/loc_train'][:,:]\n",
    "    location_test[i] = f[str(i)+'/loc_test'][:,:]\n",
    "    feature_all_train[i] =f[str(i)+'/feature_train'][:,:]\n",
    "    feature_all_test[i] = f[str(i)+'/feature_test'][:,:]\n",
    "    aoa_train[i] =f[str(i)+'/aoa_train'][:,:]\n",
    "    aoa_test[i] = f[str(i)+'/aoa_test'][:,:]\n",
    "    toa_train[i] =f[str(i)+'/toa_train'][:,:]\n",
    "    toa_test[i] = f[str(i)+'/toa_test'][:,:]\n",
    "    rss_train[i] = f[str(i)+'/toa_train'][:,:]\n",
    "    rss_test[i] = f[str(i)+'/toa_test'][:,:]\n",
    "    \n",
    "aoa_toa_train={}\n",
    "aoa_toa_test ={}\n",
    "aoa_toa_rss_train={}\n",
    "aoa_toa_rss_test ={}\n",
    "for i in range(4):\n",
    "    aoa_toa_train[i] = feature_all_train[i][:,6:18]\n",
    "    aoa_toa_test[i] = feature_all_test[i][:,6:18]\n",
    "    aoa_toa_rss_train[i] = feature_all_train[i][:,:18]\n",
    "    aoa_toa_rss_test[i] = feature_all_test[i][:,:18]"
   ]
  },
  {
   "cell_type": "code",
   "execution_count": 4,
   "metadata": {},
   "outputs": [],
   "source": [
    "def data_generator(X, y):\n",
    "    for i in range(20):\n",
    "        a= np.arange(200)\n",
    "        np.random.shuffle(a)\n",
    "        indices_batch = a[i*10:i*10+10]\n",
    "        X_batch = np.take(X, indices_batch, axis=0)\n",
    "        y_batch = np.take(y, indices_batch, axis=0)\n",
    "        yield X_batch, y_batch"
   ]
  },
  {
   "cell_type": "code",
   "execution_count": 14,
   "metadata": {},
   "outputs": [
    {
     "name": "stdout",
     "output_type": "stream",
     "text": [
      "Epoch 1/1000\n",
      "1/1 [==============================] - 0s 236ms/step - loss: 35233808.0000\n",
      "Epoch 2/1000\n",
      "1/1 [==============================] - 0s 4ms/step - loss: 51735268.0000\n",
      "Epoch 3/1000\n",
      "1/1 [==============================] - 0s 4ms/step - loss: 67045568.0000\n",
      "Epoch 4/1000\n",
      "1/1 [==============================] - 0s 3ms/step - loss: 54949464.0000\n",
      "Epoch 5/1000\n",
      "1/1 [==============================] - 0s 5ms/step - loss: 29960052.0000\n",
      "Epoch 6/1000\n",
      "1/1 [==============================] - 0s 4ms/step - loss: 35607960.0000\n",
      "Epoch 7/1000\n",
      "1/1 [==============================] - 0s 4ms/step - loss: 51992308.0000\n",
      "Epoch 8/1000\n",
      "1/1 [==============================] - 0s 3ms/step - loss: 48646152.0000\n",
      "Epoch 9/1000\n",
      "1/1 [==============================] - 0s 2ms/step - loss: 55229908.0000\n",
      "Epoch 10/1000\n",
      "1/1 [==============================] - 0s 3ms/step - loss: 37854916.0000\n",
      "Epoch 11/1000\n",
      "1/1 [==============================] - 0s 2ms/step - loss: 53976236.0000\n",
      "Epoch 12/1000\n",
      "1/1 [==============================] - 0s 2ms/step - loss: 37498744.0000\n",
      "Epoch 13/1000\n",
      "1/1 [==============================] - 0s 3ms/step - loss: 43346072.0000\n",
      "Epoch 14/1000\n",
      "1/1 [==============================] - 0s 4ms/step - loss: 50556792.0000\n",
      "Epoch 15/1000\n",
      "1/1 [==============================] - 0s 3ms/step - loss: 25964944.0000\n",
      "Epoch 16/1000\n",
      "1/1 [==============================] - 0s 4ms/step - loss: 34399360.0000\n",
      "Epoch 17/1000\n",
      "1/1 [==============================] - 0s 3ms/step - loss: 42365992.0000\n",
      "Epoch 18/1000\n",
      "1/1 [==============================] - 0s 2ms/step - loss: 22441696.0000\n",
      "Epoch 19/1000\n",
      "1/1 [==============================] - 0s 2ms/step - loss: 38694944.0000\n",
      "Epoch 20/1000\n",
      "1/1 [==============================] - 0s 3ms/step - loss: 44990608.0000\n",
      "Epoch 21/1000\n"
     ]
    },
    {
     "ename": "StopIteration",
     "evalue": "",
     "output_type": "error",
     "traceback": [
      "\u001b[0;31m---------------------------------------------------------------------------\u001b[0m",
      "\u001b[0;31mStopIteration\u001b[0m                             Traceback (most recent call last)",
      "\u001b[0;32m<ipython-input-14-ccbd30708843>\u001b[0m in \u001b[0;36m<module>\u001b[0;34m()\u001b[0m\n\u001b[1;32m     21\u001b[0m \u001b[0;32mfor\u001b[0m \u001b[0mi\u001b[0m \u001b[0;32min\u001b[0m \u001b[0mrange\u001b[0m\u001b[0;34m(\u001b[0m\u001b[0;36m4\u001b[0m\u001b[0;34m)\u001b[0m\u001b[0;34m:\u001b[0m\u001b[0;34m\u001b[0m\u001b[0m\n\u001b[1;32m     22\u001b[0m     reg_x = model.fit_generator(data_generator(aoa_toa_train[i], y= x_train[i]),\n\u001b[0;32m---> 23\u001b[0;31m                     steps_per_epoch=1,epochs=1000)\n\u001b[0m\u001b[1;32m     24\u001b[0m     \u001b[0mregpre_x\u001b[0m\u001b[0;34m[\u001b[0m\u001b[0mi\u001b[0m\u001b[0;34m]\u001b[0m \u001b[0;34m=\u001b[0m \u001b[0mmodel\u001b[0m\u001b[0;34m.\u001b[0m\u001b[0mpredict\u001b[0m\u001b[0;34m(\u001b[0m\u001b[0maoa_toa_test\u001b[0m\u001b[0;34m[\u001b[0m\u001b[0mi\u001b[0m\u001b[0;34m]\u001b[0m\u001b[0;34m)\u001b[0m\u001b[0;34m\u001b[0m\u001b[0m\n\u001b[1;32m     25\u001b[0m     reg_y = model.fit_generator(data_generator(aoa_toa_train[i], y= y_train[i]),\n",
      "\u001b[0;32m/Users/james/anaconda2/lib/python2.7/site-packages/keras/legacy/interfaces.pyc\u001b[0m in \u001b[0;36mwrapper\u001b[0;34m(*args, **kwargs)\u001b[0m\n\u001b[1;32m     89\u001b[0m                 warnings.warn('Update your `' + object_name +\n\u001b[1;32m     90\u001b[0m                               '` call to the Keras 2 API: ' + signature, stacklevel=2)\n\u001b[0;32m---> 91\u001b[0;31m             \u001b[0;32mreturn\u001b[0m \u001b[0mfunc\u001b[0m\u001b[0;34m(\u001b[0m\u001b[0;34m*\u001b[0m\u001b[0margs\u001b[0m\u001b[0;34m,\u001b[0m \u001b[0;34m**\u001b[0m\u001b[0mkwargs\u001b[0m\u001b[0;34m)\u001b[0m\u001b[0;34m\u001b[0m\u001b[0m\n\u001b[0m\u001b[1;32m     92\u001b[0m         \u001b[0mwrapper\u001b[0m\u001b[0;34m.\u001b[0m\u001b[0m_original_function\u001b[0m \u001b[0;34m=\u001b[0m \u001b[0mfunc\u001b[0m\u001b[0;34m\u001b[0m\u001b[0m\n\u001b[1;32m     93\u001b[0m         \u001b[0;32mreturn\u001b[0m \u001b[0mwrapper\u001b[0m\u001b[0;34m\u001b[0m\u001b[0m\n",
      "\u001b[0;32m/Users/james/anaconda2/lib/python2.7/site-packages/keras/models.pyc\u001b[0m in \u001b[0;36mfit_generator\u001b[0;34m(self, generator, steps_per_epoch, epochs, verbose, callbacks, validation_data, validation_steps, class_weight, max_queue_size, workers, use_multiprocessing, shuffle, initial_epoch)\u001b[0m\n\u001b[1;32m   1313\u001b[0m                                         \u001b[0muse_multiprocessing\u001b[0m\u001b[0;34m=\u001b[0m\u001b[0muse_multiprocessing\u001b[0m\u001b[0;34m,\u001b[0m\u001b[0;34m\u001b[0m\u001b[0m\n\u001b[1;32m   1314\u001b[0m                                         \u001b[0mshuffle\u001b[0m\u001b[0;34m=\u001b[0m\u001b[0mshuffle\u001b[0m\u001b[0;34m,\u001b[0m\u001b[0;34m\u001b[0m\u001b[0m\n\u001b[0;32m-> 1315\u001b[0;31m                                         initial_epoch=initial_epoch)\n\u001b[0m\u001b[1;32m   1316\u001b[0m \u001b[0;34m\u001b[0m\u001b[0m\n\u001b[1;32m   1317\u001b[0m     \u001b[0;34m@\u001b[0m\u001b[0minterfaces\u001b[0m\u001b[0;34m.\u001b[0m\u001b[0mlegacy_generator_methods_support\u001b[0m\u001b[0;34m\u001b[0m\u001b[0m\n",
      "\u001b[0;32m/Users/james/anaconda2/lib/python2.7/site-packages/keras/legacy/interfaces.pyc\u001b[0m in \u001b[0;36mwrapper\u001b[0;34m(*args, **kwargs)\u001b[0m\n\u001b[1;32m     89\u001b[0m                 warnings.warn('Update your `' + object_name +\n\u001b[1;32m     90\u001b[0m                               '` call to the Keras 2 API: ' + signature, stacklevel=2)\n\u001b[0;32m---> 91\u001b[0;31m             \u001b[0;32mreturn\u001b[0m \u001b[0mfunc\u001b[0m\u001b[0;34m(\u001b[0m\u001b[0;34m*\u001b[0m\u001b[0margs\u001b[0m\u001b[0;34m,\u001b[0m \u001b[0;34m**\u001b[0m\u001b[0mkwargs\u001b[0m\u001b[0;34m)\u001b[0m\u001b[0;34m\u001b[0m\u001b[0m\n\u001b[0m\u001b[1;32m     92\u001b[0m         \u001b[0mwrapper\u001b[0m\u001b[0;34m.\u001b[0m\u001b[0m_original_function\u001b[0m \u001b[0;34m=\u001b[0m \u001b[0mfunc\u001b[0m\u001b[0;34m\u001b[0m\u001b[0m\n\u001b[1;32m     93\u001b[0m         \u001b[0;32mreturn\u001b[0m \u001b[0mwrapper\u001b[0m\u001b[0;34m\u001b[0m\u001b[0m\n",
      "\u001b[0;32m/Users/james/anaconda2/lib/python2.7/site-packages/keras/engine/training.pyc\u001b[0m in \u001b[0;36mfit_generator\u001b[0;34m(self, generator, steps_per_epoch, epochs, verbose, callbacks, validation_data, validation_steps, class_weight, max_queue_size, workers, use_multiprocessing, shuffle, initial_epoch)\u001b[0m\n\u001b[1;32m   2192\u001b[0m                 \u001b[0mbatch_index\u001b[0m \u001b[0;34m=\u001b[0m \u001b[0;36m0\u001b[0m\u001b[0;34m\u001b[0m\u001b[0m\n\u001b[1;32m   2193\u001b[0m                 \u001b[0;32mwhile\u001b[0m \u001b[0msteps_done\u001b[0m \u001b[0;34m<\u001b[0m \u001b[0msteps_per_epoch\u001b[0m\u001b[0;34m:\u001b[0m\u001b[0;34m\u001b[0m\u001b[0m\n\u001b[0;32m-> 2194\u001b[0;31m                     \u001b[0mgenerator_output\u001b[0m \u001b[0;34m=\u001b[0m \u001b[0mnext\u001b[0m\u001b[0;34m(\u001b[0m\u001b[0moutput_generator\u001b[0m\u001b[0;34m)\u001b[0m\u001b[0;34m\u001b[0m\u001b[0m\n\u001b[0m\u001b[1;32m   2195\u001b[0m \u001b[0;34m\u001b[0m\u001b[0m\n\u001b[1;32m   2196\u001b[0m                     \u001b[0;32mif\u001b[0m \u001b[0;32mnot\u001b[0m \u001b[0mhasattr\u001b[0m\u001b[0;34m(\u001b[0m\u001b[0mgenerator_output\u001b[0m\u001b[0;34m,\u001b[0m \u001b[0;34m'__len__'\u001b[0m\u001b[0;34m)\u001b[0m\u001b[0;34m:\u001b[0m\u001b[0;34m\u001b[0m\u001b[0m\n",
      "\u001b[0;32m/Users/james/anaconda2/lib/python2.7/site-packages/keras/utils/data_utils.pyc\u001b[0m in \u001b[0;36mget\u001b[0;34m(self)\u001b[0m\n\u001b[1;32m    783\u001b[0m                 \u001b[0mall_finished\u001b[0m \u001b[0;34m=\u001b[0m \u001b[0mall\u001b[0m\u001b[0;34m(\u001b[0m\u001b[0;34m[\u001b[0m\u001b[0;32mnot\u001b[0m \u001b[0mthread\u001b[0m\u001b[0;34m.\u001b[0m\u001b[0mis_alive\u001b[0m\u001b[0;34m(\u001b[0m\u001b[0;34m)\u001b[0m \u001b[0;32mfor\u001b[0m \u001b[0mthread\u001b[0m \u001b[0;32min\u001b[0m \u001b[0mself\u001b[0m\u001b[0;34m.\u001b[0m\u001b[0m_threads\u001b[0m\u001b[0;34m]\u001b[0m\u001b[0;34m)\u001b[0m\u001b[0;34m\u001b[0m\u001b[0m\n\u001b[1;32m    784\u001b[0m                 \u001b[0;32mif\u001b[0m \u001b[0mall_finished\u001b[0m \u001b[0;32mand\u001b[0m \u001b[0mself\u001b[0m\u001b[0;34m.\u001b[0m\u001b[0mqueue\u001b[0m\u001b[0;34m.\u001b[0m\u001b[0mempty\u001b[0m\u001b[0;34m(\u001b[0m\u001b[0;34m)\u001b[0m\u001b[0;34m:\u001b[0m\u001b[0;34m\u001b[0m\u001b[0m\n\u001b[0;32m--> 785\u001b[0;31m                     \u001b[0;32mraise\u001b[0m \u001b[0mStopIteration\u001b[0m\u001b[0;34m(\u001b[0m\u001b[0;34m)\u001b[0m\u001b[0;34m\u001b[0m\u001b[0m\n\u001b[0m\u001b[1;32m    786\u001b[0m                 \u001b[0;32melse\u001b[0m\u001b[0;34m:\u001b[0m\u001b[0;34m\u001b[0m\u001b[0m\n\u001b[1;32m    787\u001b[0m                     \u001b[0mtime\u001b[0m\u001b[0;34m.\u001b[0m\u001b[0msleep\u001b[0m\u001b[0;34m(\u001b[0m\u001b[0mself\u001b[0m\u001b[0;34m.\u001b[0m\u001b[0mwait_time\u001b[0m\u001b[0;34m)\u001b[0m\u001b[0;34m\u001b[0m\u001b[0m\n",
      "\u001b[0;31mStopIteration\u001b[0m: "
     ]
    }
   ],
   "source": [
    "average_dis_error = {}\n",
    "regpre_x ={}\n",
    "regpre_y = {}\n",
    "r2_x = {}\n",
    "r2_y = {}\n",
    "pcc_x = {}\n",
    "pcc_y= {}\n",
    "dis_error = {}\n",
    "\n",
    "model = Sequential()    # Feedforward\n",
    "model.add(Dense(10, input_dim=12, kernel_regularizer=regularizers.l2(0.01)))\n",
    "model.add(Activation('relu'))\n",
    "model.add(Dense(6, kernel_regularizer=regularizers.l2(0.01)))\n",
    "model.add(Activation('relu'))\n",
    "model.add(Dense(2, kernel_regularizer=regularizers.l2(0.01)))\n",
    "model.add(Activation('relu'))\n",
    "model.add(Dense(1))\n",
    "rms = keras.optimizers.Adam(lr=0.0001,epsilon=1e-6)\n",
    "model.compile(loss='mean_squared_error', optimizer=rms)\n",
    "\n",
    "for i in range(4):\n",
    "    reg_x = model.fit_generator(data_generator(aoa_toa_train[i], y= x_train[i]),\n",
    "                    steps_per_epoch=1,epochs=1000)\n",
    "    regpre_x[i] = model.predict(aoa_toa_test[i])\n",
    "    reg_y = model.fit_generator(data_generator(aoa_toa_train[i], y= y_train[i]),\n",
    "                    steps_per_epoch=1,epochs=1000)\n",
    "    regpre_y[i] = model.predict(aoa_toa_test[i])\n",
    " \n",
    "    r2_x[i] = r2_score(regpre_x[i],x_test[i])\n",
    "    pcc_x[i] = pearsonr(regpre_x[i],x_test[i])\n",
    "    r2_y[i] = r2_score(regpre_y[i],y_test[i])\n",
    "    pcc_y[i] = pearsonr(regpre_y[i],y_test[i])\n",
    "    \n",
    "\n",
    "    dis_x = {}\n",
    "    dis_y = {}\n",
    "    dis = {}\n",
    "    for j in range(50):\n",
    "        dis_y[j] = regpre_y[i][j] - y_test[i][j]\n",
    "        dis_x[j] = regpre_x[i][j] - x_test[i][j]\n",
    "        dis[j] = (dis_x[j]**2 + dis_y[j]**2)**(0.5)\n",
    "    sum = np.array([])\n",
    "    for j in range(50):\n",
    "        sum = np.concatenate((sum,dis[j]))\n",
    "    dis_error[i] = np.mean(abs(sum))\n",
    "sum = 0 \n",
    "for i in range(4):\n",
    "    sum = sum+dis_error[i]\n",
    "average_dis_error = sum/4.0"
   ]
  },
  {
   "cell_type": "code",
   "execution_count": null,
   "metadata": {
    "collapsed": true
   },
   "outputs": [],
   "source": []
  },
  {
   "cell_type": "code",
   "execution_count": null,
   "metadata": {
    "collapsed": true
   },
   "outputs": [],
   "source": []
  },
  {
   "cell_type": "code",
   "execution_count": null,
   "metadata": {},
   "outputs": [],
   "source": []
  },
  {
   "cell_type": "code",
   "execution_count": null,
   "metadata": {
    "collapsed": true
   },
   "outputs": [],
   "source": []
  }
 ],
 "metadata": {
  "kernelspec": {
   "display_name": "Python 2",
   "language": "python",
   "name": "python2"
  },
  "language_info": {
   "codemirror_mode": {
    "name": "ipython",
    "version": 2
   },
   "file_extension": ".py",
   "mimetype": "text/x-python",
   "name": "python",
   "nbconvert_exporter": "python",
   "pygments_lexer": "ipython2",
   "version": "2.7.14"
  },
  "toc": {
   "base_numbering": 1,
   "nav_menu": {},
   "number_sections": true,
   "sideBar": true,
   "skip_h1_title": false,
   "title_cell": "Table of Contents",
   "title_sidebar": "Contents",
   "toc_cell": false,
   "toc_position": {},
   "toc_section_display": true,
   "toc_window_display": false
  }
 },
 "nbformat": 4,
 "nbformat_minor": 2
}
